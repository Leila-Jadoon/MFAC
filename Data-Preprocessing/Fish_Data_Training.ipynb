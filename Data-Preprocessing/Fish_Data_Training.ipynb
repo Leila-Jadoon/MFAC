{
  "cells": [
    {
      "cell_type": "markdown",
      "metadata": {
        "id": "N13_wyhPK_pv"
      },
      "source": [
        "### Load excel from google drive"
      ]
    },
    {
      "cell_type": "code",
      "execution_count": 2,
      "metadata": {
        "colab": {
          "base_uri": "https://localhost:8080/"
        },
        "id": "Bq3UQZ2HjfYB",
        "outputId": "f0ad7d2c-d4a9-48b3-891d-e22c83442e2d"
      },
      "outputs": [
        {
          "output_type": "stream",
          "name": "stdout",
          "text": [
            "Drive already mounted at /content/drive; to attempt to forcibly remount, call drive.mount(\"/content/drive\", force_remount=True).\n"
          ]
        }
      ],
      "source": [
        "from google.colab import drive\n",
        "drive.mount('/content/drive')"
      ]
    },
    {
      "cell_type": "code",
      "execution_count": 3,
      "metadata": {
        "id": "xby3DnLtVksv",
        "colab": {
          "base_uri": "https://localhost:8080/",
          "height": 411
        },
        "outputId": "4ba27529-f217-4384-94b0-83df9831f88a"
      },
      "outputs": [
        {
          "output_type": "execute_result",
          "data": {
            "text/plain": [
              "    Fish ID Experiment Number Plate         ID Genotype Dechorionation\n",
              "1       A01                 1   1.1  1_1.1_A01      het     Natural   \n",
              "2       A03                 1   1.1  1_1.1_A03        ?       Natural \n",
              "3       A06                 1   1.1  1_1.1_A06      hom     Natural   \n",
              "4       A08                 1   1.1  1_1.1_A08        ?       Natural \n",
              "5       A09                 1   1.1  1_1.1_A09        ?     Natural   \n",
              "..      ...               ...   ...        ...      ...            ...\n",
              "371     E10                 2   2.2  2_2.2_E10       wt     Natural   \n",
              "372     F02                 2   2.2  2_2.2_F02       wt       Natural \n",
              "373     F03                 2   2.2  2_2.2_F03       wt     Natural   \n",
              "374     H06                 2   2.2  2_2.2_H06       wt       Natural \n",
              "375     H10                 2   2.2  2_2.2_H10       wt     Natural   \n",
              "\n",
              "[375 rows x 6 columns]"
            ],
            "text/html": [
              "\n",
              "  <div id=\"df-bde6070b-de8c-4478-a876-6dfdc50db7f7\">\n",
              "    <div class=\"colab-df-container\">\n",
              "      <div>\n",
              "<style scoped>\n",
              "    .dataframe tbody tr th:only-of-type {\n",
              "        vertical-align: middle;\n",
              "    }\n",
              "\n",
              "    .dataframe tbody tr th {\n",
              "        vertical-align: top;\n",
              "    }\n",
              "\n",
              "    .dataframe thead th {\n",
              "        text-align: right;\n",
              "    }\n",
              "</style>\n",
              "<table border=\"1\" class=\"dataframe\">\n",
              "  <thead>\n",
              "    <tr style=\"text-align: right;\">\n",
              "      <th></th>\n",
              "      <th>Fish ID</th>\n",
              "      <th>Experiment Number</th>\n",
              "      <th>Plate</th>\n",
              "      <th>ID</th>\n",
              "      <th>Genotype</th>\n",
              "      <th>Dechorionation</th>\n",
              "    </tr>\n",
              "  </thead>\n",
              "  <tbody>\n",
              "    <tr>\n",
              "      <th>1</th>\n",
              "      <td>A01</td>\n",
              "      <td>1</td>\n",
              "      <td>1.1</td>\n",
              "      <td>1_1.1_A01</td>\n",
              "      <td>het</td>\n",
              "      <td>Natural</td>\n",
              "    </tr>\n",
              "    <tr>\n",
              "      <th>2</th>\n",
              "      <td>A03</td>\n",
              "      <td>1</td>\n",
              "      <td>1.1</td>\n",
              "      <td>1_1.1_A03</td>\n",
              "      <td>?</td>\n",
              "      <td>Natural</td>\n",
              "    </tr>\n",
              "    <tr>\n",
              "      <th>3</th>\n",
              "      <td>A06</td>\n",
              "      <td>1</td>\n",
              "      <td>1.1</td>\n",
              "      <td>1_1.1_A06</td>\n",
              "      <td>hom</td>\n",
              "      <td>Natural</td>\n",
              "    </tr>\n",
              "    <tr>\n",
              "      <th>4</th>\n",
              "      <td>A08</td>\n",
              "      <td>1</td>\n",
              "      <td>1.1</td>\n",
              "      <td>1_1.1_A08</td>\n",
              "      <td>?</td>\n",
              "      <td>Natural</td>\n",
              "    </tr>\n",
              "    <tr>\n",
              "      <th>5</th>\n",
              "      <td>A09</td>\n",
              "      <td>1</td>\n",
              "      <td>1.1</td>\n",
              "      <td>1_1.1_A09</td>\n",
              "      <td>?</td>\n",
              "      <td>Natural</td>\n",
              "    </tr>\n",
              "    <tr>\n",
              "      <th>...</th>\n",
              "      <td>...</td>\n",
              "      <td>...</td>\n",
              "      <td>...</td>\n",
              "      <td>...</td>\n",
              "      <td>...</td>\n",
              "      <td>...</td>\n",
              "    </tr>\n",
              "    <tr>\n",
              "      <th>371</th>\n",
              "      <td>E10</td>\n",
              "      <td>2</td>\n",
              "      <td>2.2</td>\n",
              "      <td>2_2.2_E10</td>\n",
              "      <td>wt</td>\n",
              "      <td>Natural</td>\n",
              "    </tr>\n",
              "    <tr>\n",
              "      <th>372</th>\n",
              "      <td>F02</td>\n",
              "      <td>2</td>\n",
              "      <td>2.2</td>\n",
              "      <td>2_2.2_F02</td>\n",
              "      <td>wt</td>\n",
              "      <td>Natural</td>\n",
              "    </tr>\n",
              "    <tr>\n",
              "      <th>373</th>\n",
              "      <td>F03</td>\n",
              "      <td>2</td>\n",
              "      <td>2.2</td>\n",
              "      <td>2_2.2_F03</td>\n",
              "      <td>wt</td>\n",
              "      <td>Natural</td>\n",
              "    </tr>\n",
              "    <tr>\n",
              "      <th>374</th>\n",
              "      <td>H06</td>\n",
              "      <td>2</td>\n",
              "      <td>2.2</td>\n",
              "      <td>2_2.2_H06</td>\n",
              "      <td>wt</td>\n",
              "      <td>Natural</td>\n",
              "    </tr>\n",
              "    <tr>\n",
              "      <th>375</th>\n",
              "      <td>H10</td>\n",
              "      <td>2</td>\n",
              "      <td>2.2</td>\n",
              "      <td>2_2.2_H10</td>\n",
              "      <td>wt</td>\n",
              "      <td>Natural</td>\n",
              "    </tr>\n",
              "  </tbody>\n",
              "</table>\n",
              "<p>375 rows × 6 columns</p>\n",
              "</div>\n",
              "      <button class=\"colab-df-convert\" onclick=\"convertToInteractive('df-bde6070b-de8c-4478-a876-6dfdc50db7f7')\"\n",
              "              title=\"Convert this dataframe to an interactive table.\"\n",
              "              style=\"display:none;\">\n",
              "        \n",
              "  <svg xmlns=\"http://www.w3.org/2000/svg\" height=\"24px\"viewBox=\"0 0 24 24\"\n",
              "       width=\"24px\">\n",
              "    <path d=\"M0 0h24v24H0V0z\" fill=\"none\"/>\n",
              "    <path d=\"M18.56 5.44l.94 2.06.94-2.06 2.06-.94-2.06-.94-.94-2.06-.94 2.06-2.06.94zm-11 1L8.5 8.5l.94-2.06 2.06-.94-2.06-.94L8.5 2.5l-.94 2.06-2.06.94zm10 10l.94 2.06.94-2.06 2.06-.94-2.06-.94-.94-2.06-.94 2.06-2.06.94z\"/><path d=\"M17.41 7.96l-1.37-1.37c-.4-.4-.92-.59-1.43-.59-.52 0-1.04.2-1.43.59L10.3 9.45l-7.72 7.72c-.78.78-.78 2.05 0 2.83L4 21.41c.39.39.9.59 1.41.59.51 0 1.02-.2 1.41-.59l7.78-7.78 2.81-2.81c.8-.78.8-2.07 0-2.86zM5.41 20L4 18.59l7.72-7.72 1.47 1.35L5.41 20z\"/>\n",
              "  </svg>\n",
              "      </button>\n",
              "      \n",
              "  <style>\n",
              "    .colab-df-container {\n",
              "      display:flex;\n",
              "      flex-wrap:wrap;\n",
              "      gap: 12px;\n",
              "    }\n",
              "\n",
              "    .colab-df-convert {\n",
              "      background-color: #E8F0FE;\n",
              "      border: none;\n",
              "      border-radius: 50%;\n",
              "      cursor: pointer;\n",
              "      display: none;\n",
              "      fill: #1967D2;\n",
              "      height: 32px;\n",
              "      padding: 0 0 0 0;\n",
              "      width: 32px;\n",
              "    }\n",
              "\n",
              "    .colab-df-convert:hover {\n",
              "      background-color: #E2EBFA;\n",
              "      box-shadow: 0px 1px 2px rgba(60, 64, 67, 0.3), 0px 1px 3px 1px rgba(60, 64, 67, 0.15);\n",
              "      fill: #174EA6;\n",
              "    }\n",
              "\n",
              "    [theme=dark] .colab-df-convert {\n",
              "      background-color: #3B4455;\n",
              "      fill: #D2E3FC;\n",
              "    }\n",
              "\n",
              "    [theme=dark] .colab-df-convert:hover {\n",
              "      background-color: #434B5C;\n",
              "      box-shadow: 0px 1px 3px 1px rgba(0, 0, 0, 0.15);\n",
              "      filter: drop-shadow(0px 1px 2px rgba(0, 0, 0, 0.3));\n",
              "      fill: #FFFFFF;\n",
              "    }\n",
              "  </style>\n",
              "\n",
              "      <script>\n",
              "        const buttonEl =\n",
              "          document.querySelector('#df-bde6070b-de8c-4478-a876-6dfdc50db7f7 button.colab-df-convert');\n",
              "        buttonEl.style.display =\n",
              "          google.colab.kernel.accessAllowed ? 'block' : 'none';\n",
              "\n",
              "        async function convertToInteractive(key) {\n",
              "          const element = document.querySelector('#df-bde6070b-de8c-4478-a876-6dfdc50db7f7');\n",
              "          const dataTable =\n",
              "            await google.colab.kernel.invokeFunction('convertToInteractive',\n",
              "                                                     [key], {});\n",
              "          if (!dataTable) return;\n",
              "\n",
              "          const docLinkHtml = 'Like what you see? Visit the ' +\n",
              "            '<a target=\"_blank\" href=https://colab.research.google.com/notebooks/data_table.ipynb>data table notebook</a>'\n",
              "            + ' to learn more about interactive tables.';\n",
              "          element.innerHTML = '';\n",
              "          dataTable['output_type'] = 'display_data';\n",
              "          await google.colab.output.renderOutput(dataTable, element);\n",
              "          const docLink = document.createElement('div');\n",
              "          docLink.innerHTML = docLinkHtml;\n",
              "          element.appendChild(docLink);\n",
              "        }\n",
              "      </script>\n",
              "    </div>\n",
              "  </div>\n",
              "  "
            ]
          },
          "metadata": {},
          "execution_count": 3
        }
      ],
      "source": [
        "import pandas as pd\n",
        "import numpy as np\n",
        "from tqdm import tqdm\n",
        "\n",
        "LABEL_PATH ='/content/drive/MyDrive/bst227 project/AlleleB.xlsx'\n",
        "\n",
        "xls = pd.ExcelFile(LABEL_PATH)\n",
        "df = pd.read_excel(xls, 'VAST and brain measurements', header=0)\n",
        "df.columns=['Fish ID', 'Experiment Number', 'Plate', 'ID', 'Genotype', 'Dechorionation']\n",
        "df = df.iloc[1:, :]\n",
        "df"
      ]
    },
    {
      "cell_type": "code",
      "execution_count": 4,
      "metadata": {
        "colab": {
          "base_uri": "https://localhost:8080/"
        },
        "id": "Bt2EuJODW_3P",
        "outputId": "31f5b6df-f3a1-4fdf-f2cf-f3b3d73b743e"
      },
      "outputs": [
        {
          "output_type": "stream",
          "name": "stdout",
          "text": [
            "Plates: [1.1 1.2 2.1 2.2]\n",
            "Experiments: [1 2]\n",
            "Plates in Experimen 1: [1.1 1.2]\n",
            "Plates in Experimen 2: [1.1 2.1 1.2 2.2]\n",
            "Genotypes:  ['het' '?' 'hom' 'wt']\n"
          ]
        }
      ],
      "source": [
        "print(\"Plates:\",df[\"Plate\"].unique())\n",
        "print(\"Experiments:\",df[\"Experiment Number\"].unique())\n",
        "print(\"Plates in Experimen 1:\",df[df[\"Experiment Number\"] == 1][\"Plate\"].unique())\n",
        "print(\"Plates in Experimen 2:\",df[df[\"Experiment Number\"] == 2][\"Plate\"].unique())\n",
        "#There are two plates and two experiments\n",
        "\n",
        "print(\"Genotypes: \",df[\"Genotype\"].unique())\n",
        "# Four types of genotype in each experiment each plate"
      ]
    },
    {
      "cell_type": "markdown",
      "metadata": {
        "id": "bGmeFDAvLKnF"
      },
      "source": [
        "### Load images"
      ]
    },
    {
      "cell_type": "code",
      "execution_count": 5,
      "metadata": {
        "id": "nm6_eGqz7PKH"
      },
      "outputs": [],
      "source": [
        "import cv2\n",
        "import os\n",
        "\n",
        "def load_images_from_folder(f):\n",
        "\n",
        "    images = {}\n",
        "    for file_name in tqdm(os.listdir(f)):\n",
        "        \n",
        "        img = cv2.imread(os.path.join(f, file_name))\n",
        "        if img is not None:\n",
        "          images[file_name[-12:-5]] = img  # Store key name of images files\n",
        "          \n",
        "    return images"
      ]
    },
    {
      "cell_type": "code",
      "execution_count": 6,
      "metadata": {
        "colab": {
          "base_uri": "https://localhost:8080/"
        },
        "id": "K2VzBI3XWDju",
        "outputId": "006de239-73be-4ae2-9a6a-f688d199bf79"
      },
      "outputs": [
        {
          "output_type": "stream",
          "name": "stderr",
          "text": [
            "100%|██████████| 237/237 [00:01<00:00, 139.39it/s]\n",
            "100%|██████████| 170/170 [00:01<00:00, 139.88it/s]\n",
            "100%|██████████| 372/372 [00:04<00:00, 86.47it/s] \n",
            "100%|██████████| 316/316 [00:03<00:00, 88.21it/s] \n",
            "100%|██████████| 328/328 [00:03<00:00, 88.49it/s] \n",
            "100%|██████████| 260/260 [00:02<00:00, 89.28it/s] \n"
          ]
        }
      ],
      "source": [
        "# Allele B\n",
        "img_e1_p11 = load_images_from_folder('/content/drive/MyDrive/bst227 project/experiment1/2019.09.19_TH324a_AlleleB')\n",
        "img_e1_p12 = load_images_from_folder('/content/drive/MyDrive/bst227 project/experiment1/2019.09.21_TH324a_AlleleB')\n",
        "#two plates for experiment and four plates for experiment 2\n",
        "\n",
        "img_e2_p11 = load_images_from_folder('/content/drive/MyDrive/bst227 project/experiment2/2019.09.24_TH324b_AlleleB_Plate1')\n",
        "img_e2_p12 = load_images_from_folder('/content/drive/MyDrive/bst227 project/experiment2/2019.09.26_TH324b_AlleleB_Plate1_5dpf')\n",
        "img_e2_p21 = load_images_from_folder('/content/drive/MyDrive/bst227 project/experiment2/2019.09.24_TH324b_AlleleB_Plate2')\n",
        "img_e2_p22 = load_images_from_folder('/content/drive/MyDrive/bst227 project/experiment2/2019.09.26_TH324b_AlleleB_Plate2_5dpf')"
      ]
    },
    {
      "cell_type": "code",
      "execution_count": 7,
      "metadata": {
        "colab": {
          "base_uri": "https://localhost:8080/"
        },
        "id": "ldiIWEblNiT3",
        "outputId": "05957386-e923-4fb8-9a52-290876214fae"
      },
      "outputs": [
        {
          "output_type": "stream",
          "name": "stderr",
          "text": [
            "100%|██████████| 384/384 [00:04<00:00, 90.21it/s] \n",
            "100%|██████████| 340/340 [00:03<00:00, 89.13it/s] \n",
            "100%|██████████| 204/204 [00:02<00:00, 93.23it/s] \n",
            "100%|██████████| 188/188 [00:02<00:00, 92.20it/s] \n",
            "100%|██████████| 380/380 [00:04<00:00, 93.98it/s] \n",
            "100%|██████████| 324/324 [00:03<00:00, 92.61it/s] \n",
            "100%|██████████| 348/348 [00:03<00:00, 92.14it/s] \n",
            "100%|██████████| 284/284 [00:03<00:00, 92.65it/s] \n",
            "100%|██████████| 356/356 [00:03<00:00, 91.03it/s] \n",
            "100%|██████████| 204/204 [00:02<00:00, 85.68it/s] \n",
            "100%|██████████| 344/344 [00:03<00:00, 92.26it/s] \n",
            "100%|██████████| 228/228 [00:02<00:00, 92.65it/s] \n"
          ]
        }
      ],
      "source": [
        "# Allele C 4 plates per experiment\n",
        "# I did not find any labels for this Allele\n",
        "img_e1_p11_c = load_images_from_folder('/content/drive/MyDrive/bst227 project/experiment1/2019.09.19_TH324b_AlleleC_Plate1')\n",
        "img_e1_p12_c = load_images_from_folder('/content/drive/MyDrive/bst227 project/experiment1/2019.09.21_TH324b_AlleleC_Plate1')\n",
        "img_e1_p21_c = load_images_from_folder('/content/drive/MyDrive/bst227 project/experiment1/2019.09.19_TH324b_AlleleC_Plate2')\n",
        "img_e1_p22_c = load_images_from_folder('/content/drive/MyDrive/bst227 project/experiment1/2019.09.21_TH324b_AlleleC_Plate2')\n",
        "\n",
        "img_e2_p11_c = load_images_from_folder('/content/drive/MyDrive/bst227 project/experiment2/2019.09.24_TH324b_AlleleC_Plate1')\n",
        "img_e2_p12_c = load_images_from_folder('/content/drive/MyDrive/bst227 project/experiment2/2019.09.26_TH324b_AlleleC_Plate1_5dpf')\n",
        "img_e2_p21_c = load_images_from_folder('/content/drive/MyDrive/bst227 project/experiment2/2019.09.24_TH324b_AlleleC_Plate2')\n",
        "img_e2_p22_c = load_images_from_folder('/content/drive/MyDrive/bst227 project/experiment2/2019.09.26_TH324b_AlleleC_Plate2_5dpf')\n",
        "\n",
        "img_e3_p11_c = load_images_from_folder('/content/drive/MyDrive/bst227 project/experiment3/2019.10.23_TH324b_AlleleC_Plate1')\n",
        "img_e3_p12_c = load_images_from_folder('/content/drive/MyDrive/bst227 project/experiment3/2019.10.25_TH324b_AlleleC_Plate1')\n",
        "img_e3_p21_c = load_images_from_folder('/content/drive/MyDrive/bst227 project/experiment3/2019.10.23_TH324b_AlleleC_Plate2')\n",
        "img_e3_p22_c = load_images_from_folder('/content/drive/MyDrive/bst227 project/experiment3/2019.10.25_TH324b_AlleleC_Plate2')"
      ]
    },
    {
      "cell_type": "markdown",
      "metadata": {
        "id": "HgnhghulLSQX"
      },
      "source": [
        "### Create datasets and assign labels"
      ]
    },
    {
      "cell_type": "code",
      "execution_count": 8,
      "metadata": {
        "colab": {
          "base_uri": "https://localhost:8080/"
        },
        "id": "DBeFSDN-XQFd",
        "outputId": "7dbcb61b-bed4-4430-e37e-10c213234013"
      },
      "outputs": [
        {
          "output_type": "stream",
          "name": "stdout",
          "text": [
            "228 224\n",
            "1276 1276\n"
          ]
        }
      ],
      "source": [
        "# Confirm all images has been loaded\n",
        "print(len(img_e1_p11) + len(img_e1_p12), df[df['Experiment Number']==1].shape[0]*4)\n",
        "print(len(img_e2_p11) + len(img_e2_p12) + len(img_e2_p21) + len(img_e2_p22), df[df['Experiment Number']==2].shape[0]*4)\n",
        "\n",
        "#For some reason we have 4 extra images for experiment one"
      ]
    },
    {
      "cell_type": "code",
      "execution_count": 9,
      "metadata": {
        "id": "ZSt7BZebOUcp"
      },
      "outputs": [],
      "source": [
        "def create_dataset(lables, imgs, exp, plate, assign=True):\n",
        "\n",
        "  fish = {}\n",
        "  category = {'wt': 0, 'het': 1, 'hom': 2, '?': 3}\n",
        "  shape = next(iter(imgs.values())).shape\n",
        "  m = int(len(imgs) / 4)\n",
        "  X = np.zeros((m, 4, shape[0], shape[1], shape[2]))\n",
        "  y = np.zeros((m, 1))\n",
        "\n",
        "  i = 0\n",
        "  for fn in imgs.keys(): #fn is the fish id and the plate\n",
        "    fish_id = fn[0:3] # first three characters are the fish id\n",
        "    if fish_id not in fish: \n",
        "      fish[fish_id] = i # add the fish id\n",
        "      i += 1  #count number of images of the fish\n",
        " \n",
        "    index = int(fn[-1]) - 1 \n",
        "    id = '{}_{}_{}'.format(exp, plate, fish_id)\n",
        "    \n",
        "    X[fish[fish_id], index] = imgs[fn]\n",
        "\n",
        "    if assign:\n",
        "      try:\n",
        "        y[fish[fish_id]] = category[df[df['ID']==id]['Genotype'].values[0]]\n",
        "      except:\n",
        "        y[fish[fish_id]] = 3\n",
        "    else:\n",
        "      #y = np.ones((m, 1))*3\n",
        "      return X\n",
        "\n",
        "  return X, y"
      ]
    },
    {
      "cell_type": "code",
      "execution_count": 10,
      "metadata": {
        "colab": {
          "base_uri": "https://localhost:8080/"
        },
        "id": "TuXgmWnpOo8Y",
        "outputId": "c98abc40-c98f-432a-f091-4e44fa4d9754"
      },
      "outputs": [
        {
          "output_type": "stream",
          "name": "stdout",
          "text": [
            "376\n",
            "375\n"
          ]
        }
      ],
      "source": [
        "'''\n",
        "For Allele B data,\n",
        "there is no label for fish 1_1.2_A11, but we still have images of this fish. \n",
        "Code:\n",
        "  d = df.loc[df['Experiment Number'] == 1]\n",
        "  id = list(d.loc[d['Plate'] == 1.2]['Fish ID'])\n",
        "  'A11' in id\n",
        "'''\n",
        "\n",
        "X_e1_p11, y_e1_p11 = create_dataset(df, img_e1_p11, 1, '1.1')\n",
        "X_e1_p12, y_e1_p12 = create_dataset(df, img_e1_p12, 1, '1.2')\n",
        "\n",
        "X_e2_p11, y_e2_p11 = create_dataset(df, img_e2_p11, 2, '1.1')\n",
        "X_e2_p12, y_e2_p12 = create_dataset(df, img_e2_p12, 2, '1.2')\n",
        "X_e2_p21, y_e2_p21 = create_dataset(df, img_e2_p21, 2, '2.1')\n",
        "X_e2_p22, y_e2_p22 = create_dataset(df, img_e2_p22, 2, '2.2')\n",
        "\n",
        "print(y_e1_p11.shape[0] + y_e1_p12.shape[0] + y_e2_p11.shape[0] + y_e2_p12.shape[0] + y_e2_p21.shape[0] + y_e2_p22.shape[0])\n",
        "print(df.shape[0]) # It misses one row entry of fish 1_1.2_A11"
      ]
    },
    {
      "cell_type": "code",
      "execution_count": 11,
      "metadata": {
        "id": "nPRjXF2peoKt"
      },
      "outputs": [],
      "source": [
        "y_b = np.concatenate((y_e1_p11, y_e1_p12, y_e2_p11, y_e2_p12,y_e2_p21, y_e2_p22))\n",
        "np.save('y_b.npy', y_b)\n",
        "X_b = np.concatenate((X_e1_p11, X_e1_p12, X_e2_p11, X_e2_p12, X_e2_p21, X_e2_p22))\n",
        "np.save('X_b.npy', X_b)\n",
        "\n",
        "del X_e1_p11,X_e1_p12,X_e2_p11,X_e2_p12,X_e2_p21,X_e2_p22"
      ]
    },
    {
      "cell_type": "code",
      "execution_count": null,
      "metadata": {
        "id": "qF5VhixIcDYG"
      },
      "outputs": [],
      "source": [
        "# For Allele C data\n",
        "\n",
        "X_e1_p11_c = create_dataset(df, img_e1_p11_c, 1, '1.1', assign=False)\n",
        "X_e1_p12_c = create_dataset(df, img_e1_p12_c, 1, '1.2', assign=False)\n",
        "X_e1_p21_c = create_dataset(df, img_e1_p21_c, 1, '2.1', assign=False)\n",
        "X_e1_p22_c = create_dataset(df, img_e1_p22_c, 1, '2.2', assign=False)\n",
        "\n",
        "X_e2_p11_c = create_dataset(df, img_e2_p11_c, 2, '1.1', assign=False)\n",
        "X_e2_p12_c = create_dataset(df, img_e2_p12_c, 2, '1.2', assign=False)\n",
        "X_e2_p21_c = create_dataset(df, img_e2_p21_c, 2, '2.1', assign=False)\n",
        "X_e2_p22_c = create_dataset(df, img_e2_p22_c, 2, '2.2', assign=False)\n",
        "\n",
        "X_e3_p11_c = create_dataset(df, img_e3_p11_c, 3, '1.1', assign=False)\n",
        "X_e3_p12_c = create_dataset(df, img_e3_p12_c, 3, '1.2', assign=False)\n",
        "X_e3_p21_c = create_dataset(df, img_e3_p21_c, 3, '2.1', assign=False)\n",
        "X_e3_p22_c = create_dataset(df, img_e3_p22_c, 3, '2.2', assign=False)"
      ]
    },
    {
      "cell_type": "code",
      "execution_count": null,
      "metadata": {
        "id": "7PRLtNXv-V7p"
      },
      "outputs": [],
      "source": [
        "X_c = np.concatenate((X_e1_p11_c, X_e1_p12_c, X_e1_p21_c, X_e1_p22_c,\n",
        "                      X_e2_p11_c, X_e2_p12_c, X_e2_p21_c, X_e2_p22_c,\n",
        "                      X_e3_p11_c, X_e3_p12_c, X_e3_p21_c, X_e3_p22_c,\n",
        "                      ))\n",
        "np.save('X_c.npy', X_c)"
      ]
    },
    {
      "cell_type": "markdown",
      "metadata": {
        "id": "SfLQR9XEMBkK"
      },
      "source": [
        "### Plot examples"
      ]
    },
    {
      "cell_type": "code",
      "execution_count": null,
      "metadata": {
        "id": "EmIl3r_FDheq"
      },
      "outputs": [],
      "source": [
        "# Plot examples\n",
        "import matplotlib.pyplot as plt\n",
        "def plot_fish(img, index):\n",
        "  plt.figure(figsize=(432, 288))\n",
        "  f, axarr = plt.subplots(4) \n",
        "\n",
        "  axarr[0].imshow(X_train_b[index, 0]/255)\n",
        "  axarr[1].imshow(X_train_b[index, 1]/255)\n",
        "  axarr[2].imshow(X_train_b[index, 2]/255)\n",
        "  axarr[3].imshow(X_train_b[index, 3]/255)\n",
        "  #plt.title(y_e1_p11[index])\n",
        "  plt.show()"
      ]
    },
    {
      "cell_type": "code",
      "execution_count": null,
      "metadata": {
        "id": "8ZnIz6_bHOJG"
      },
      "outputs": [],
      "source": [
        "import matplotlib.pyplot as plt\n",
        "\n",
        "plot_fish(X_train_b, 0)\n",
        "plot_fish(X_train_b, 1)\n",
        "plot_fish(X_train_b, 2)\n",
        "plot_fish(X_train_b, 3)"
      ]
    },
    {
      "cell_type": "markdown",
      "metadata": {
        "id": "x0BfOfZXQGOs"
      },
      "source": [
        "### Transfer Learning\n",
        "This part of the code has previously been used for finetuning. We do not use the following code for finetuning. Please refere to the classifier folder for the updated training code. "
      ]
    },
    {
      "cell_type": "code",
      "execution_count": null,
      "metadata": {
        "id": "iQHHsQolDi2V"
      },
      "outputs": [],
      "source": [
        "import numpy as np"
      ]
    },
    {
      "cell_type": "code",
      "execution_count": null,
      "metadata": {
        "id": "PtTcrMOX40_K"
      },
      "outputs": [],
      "source": [
        "import tensorflow as tf\n",
        "X_train_b = X_train_b / 255.0\n",
        "X_test_b = X_test_b / 255.0"
      ]
    },
    {
      "cell_type": "code",
      "execution_count": null,
      "metadata": {
        "id": "0-WL773AC4PT"
      },
      "outputs": [],
      "source": [
        "X_train_b = X_train_b[np.where(y_train_b != 3)[0]] #taking all the data with genotype != ?\n",
        "y_train_b = y_train_b[np.where(y_train_b != 3)[0]] #taking all the data with genotype != ?\n",
        "X_test_b = X_test_b[np.where(y_test_b != 3)[0]] #taking all the data with genotype != ?\n",
        "y_test_b = y_test_b[np.where(y_test_b != 3)[0]] #taking all the data with genotype != ?"
      ]
    },
    {
      "cell_type": "code",
      "execution_count": null,
      "metadata": {
        "id": "SGcK-WCJDT2q"
      },
      "outputs": [],
      "source": [
        "import tensorflow as tf\n",
        "from tensorflow.keras import*\n",
        "from tensorflow.keras.layers import*\n",
        "\n",
        "class Classifier(tf.keras.Model):\n",
        "  def __init__(self, backbone = 'resnet'):\n",
        "    super(Classifier, self).__init__()\n",
        "    if backbone == \"resnet\":\n",
        "      self.encoder = tf.keras.applications.VGG16(\n",
        "      include_top=False, input_shape=(200, 1024, 3))\n",
        "\n",
        "    self.data_augmentation = tf.keras.Sequential([\n",
        "    layers.RandomFlip(\"horizontal_and_vertical\"),\n",
        "    layers.RandomRotation(0.2)])\n",
        "\n",
        "\n",
        "    self.linearlayer = Sequential([Conv2D(1024,(3,2),(2,2)),\n",
        "                                   Conv2D(1024,(1,2),(2,2)),\n",
        "                                   Conv2D(1024,(1,2),(2,2)),\n",
        "                                   Conv2D(1024,(1,4),(2,2)),\n",
        "                                   Dense(256, activation = tf.nn.relu)])\n",
        "\n",
        "    self.classifier = Sequential([Flatten(),\n",
        "                                  Dense(512, activation = tf.nn.relu),\n",
        "                                  Dense(256, activation = tf.nn.relu),\n",
        "                                  Dense(128, activation = tf.nn.relu),\n",
        "                                  Dense(32, activation = tf.nn.relu),\n",
        "                                  Dense(3, activation = 'softmax')])\n",
        "    \n",
        "  def call(self, data):\n",
        "\n",
        "    x1 =data[:,0,:,:]\n",
        "    x2 =data[:,1,:,:]\n",
        "    x3 = data[:,2,:,:]\n",
        "    x4 = data[:,3,:,:]\n",
        "\n",
        "    encodings1 = self.linearlayer(self.encoder(x1))\n",
        "    encodings2 = self.linearlayer(self.encoder(x2))\n",
        "    encodings3 = self.linearlayer(self.encoder(x3))\n",
        "    encodings4 = self.linearlayer(self.encoder(x4))\n",
        "\n",
        "    encodings = tf.concat([encodings1,encodings2,encodings3,encodings4],axis=1)\n",
        "    predictions = self.classifier(encodings)\n",
        "    return predictions\n",
        "    "
      ]
    },
    {
      "cell_type": "code",
      "source": [
        "model(tf.constant(0,shape=(2,4,200,1024,3)))\n",
        "model.linearlayer.summary()"
      ],
      "metadata": {
        "id": "M9S6Pa_23kDT"
      },
      "execution_count": null,
      "outputs": []
    },
    {
      "cell_type": "code",
      "execution_count": null,
      "metadata": {
        "id": "9l9VhTf_Hrk1"
      },
      "outputs": [],
      "source": [
        "model = Classifier()\n",
        "\n",
        "lr_schedule = tf.keras.optimizers.schedules.ExponentialDecay(\n",
        "      0.0001,\n",
        "      decay_steps=200,\n",
        "      decay_rate=0.1,\n",
        "      staircase=True)\n",
        "\n",
        "model.compile(optimizer=tf.keras.optimizers.Adam(learning_rate=5e-5),\n",
        "              loss=tf.keras.losses.SparseCategoricalCrossentropy(from_logits=False),\n",
        "              metrics=['accuracy'])\n"
      ]
    },
    {
      "cell_type": "code",
      "source": [
        "x_train_b = np.concatenate([X_train_b,X_test_b])\n",
        "y_train_b = np.concatenate([y_train_b,y_test_b])"
      ],
      "metadata": {
        "id": "VCQ-jOVL3HG5"
      },
      "execution_count": null,
      "outputs": []
    },
    {
      "cell_type": "code",
      "source": [
        "np.save(\"x_train_b.npy\",x_train_b)\n",
        "np.save(\"y_train_b.npy\",y_train_b)"
      ],
      "metadata": {
        "id": "5B6lF8TqMgzX"
      },
      "execution_count": null,
      "outputs": []
    },
    {
      "cell_type": "code",
      "source": [
        "y_train_b.shape\n"
      ],
      "metadata": {
        "id": "Nm170b2JMUG9"
      },
      "execution_count": null,
      "outputs": []
    },
    {
      "cell_type": "code",
      "execution_count": null,
      "metadata": {
        "id": "b5d7__lIvvkO"
      },
      "outputs": [],
      "source": [
        "model.fit(X_train_b, y_train_b, epochs=10, batch_size=8,validation_split=0.1)"
      ]
    },
    {
      "cell_type": "code",
      "execution_count": null,
      "metadata": {
        "id": "dOdcyRjnM9qe"
      },
      "outputs": [],
      "source": [
        "X_test_b.shape"
      ]
    },
    {
      "cell_type": "code",
      "execution_count": null,
      "metadata": {
        "id": "b-nFeqdCNwwr"
      },
      "outputs": [],
      "source": [
        "model2.fit(X_train_b[:, 1, :, :], y_train_b, epochs=10, batch_size=183)"
      ]
    },
    {
      "cell_type": "code",
      "execution_count": null,
      "metadata": {
        "id": "JSWoO22iNx6g"
      },
      "outputs": [],
      "source": [
        "model2.fit(X_train_b[:, 2, :, :], y_train_b, epochs=10, batch_size=183)"
      ]
    },
    {
      "cell_type": "code",
      "execution_count": null,
      "metadata": {
        "id": "O3ZomDyQNzrZ"
      },
      "outputs": [],
      "source": [
        "model2.fit(X_train_b[:, 3, :, :], y_train_b, epochs=10, batch_size=183)"
      ]
    },
    {
      "cell_type": "code",
      "execution_count": null,
      "metadata": {
        "id": "u8mEqTxiMy_9"
      },
      "outputs": [],
      "source": [
        "model.fit(X_train_b[:, 0, :, :], y_train_b, epochs=10, batch_size=183)"
      ]
    },
    {
      "cell_type": "code",
      "execution_count": null,
      "metadata": {
        "id": "8myBhTwRQM1U"
      },
      "outputs": [],
      "source": [
        "model.fit(X_train_b[:, 1, :, :], y_train_b, epochs=10, batch_size=183)"
      ]
    },
    {
      "cell_type": "code",
      "execution_count": null,
      "metadata": {
        "id": "2UvIZI4TQM4Q"
      },
      "outputs": [],
      "source": [
        "model.fit(X_train_b[:, 2, :, :], y_train_b, epochs=10, batch_size=183)"
      ]
    },
    {
      "cell_type": "code",
      "execution_count": null,
      "metadata": {
        "id": "4x2um97BQM7R"
      },
      "outputs": [],
      "source": [
        "model.fit(X_train_b[:, 3, :, :], y_train_b, epochs=10, batch_size=183)"
      ]
    }
  ],
  "metadata": {
    "accelerator": "GPU",
    "colab": {
      "collapsed_sections": [
        "bGmeFDAvLKnF"
      ],
      "machine_shape": "hm",
      "name": "Fish_Data_Training.ipynb",
      "provenance": []
    },
    "kernelspec": {
      "display_name": "Python 3",
      "name": "python3"
    },
    "language_info": {
      "name": "python"
    }
  },
  "nbformat": 4,
  "nbformat_minor": 0
}