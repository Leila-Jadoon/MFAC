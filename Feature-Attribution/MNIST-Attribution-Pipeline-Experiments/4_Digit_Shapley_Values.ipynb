{
  "nbformat": 4,
  "nbformat_minor": 0,
  "metadata": {
    "colab": {
      "name": "4 Digit Shapley Values.ipynb",
      "provenance": [],
      "collapsed_sections": []
    },
    "kernelspec": {
      "name": "python3",
      "display_name": "Python 3"
    },
    "language_info": {
      "name": "python"
    }
  },
  "cells": [
    {
      "cell_type": "code",
      "source": [
        "from torchvision.models import resnet18\n",
        "from torchvision.datasets import MNIST\n",
        "from torchvision import transforms\n",
        "from torch import nn\n",
        "import torch\n",
        "from torch.utils.data import DataLoader\n",
        "import matplotlib.pyplot as plt\n",
        "import torchvision\n",
        "import numpy as np\n",
        "\n",
        "!pip install -q captum\n",
        "\n",
        "from captum.attr import *\n",
        "from captum.attr import visualization as viz\n",
        "\n",
        "!pip install -q umap-learn[plot]\n",
        "\n",
        "import umap\n",
        "import umap.plot"
      ],
      "metadata": {
        "id": "pJetbzQh8OR2"
      },
      "execution_count": null,
      "outputs": []
    },
    {
      "cell_type": "code",
      "source": [
        "from google.colab import drive\n",
        "drive.mount('/content/drive')\n",
        "model = torch.load('drive/MyDrive/MNIST Feature Attribution/mnist-0123-only')\n",
        "model.eval()\n",
        "model.zero_grad()"
      ],
      "metadata": {
        "colab": {
          "base_uri": "https://localhost:8080/"
        },
        "id": "s2hCb06a8Pwk",
        "outputId": "51505354-d494-4564-af0d-3ad4b63ec1e8"
      },
      "execution_count": null,
      "outputs": [
        {
          "output_type": "stream",
          "name": "stdout",
          "text": [
            "Drive already mounted at /content/drive; to attempt to forcibly remount, call drive.mount(\"/content/drive\", force_remount=True).\n"
          ]
        }
      ]
    },
    {
      "cell_type": "code",
      "source": [
        "train_ds = MNIST(\"mnist\", train=True, download=True, transform=transforms.ToTensor())\n",
        "test_ds = MNIST(\"mnist\", train=False, download=True, transform=transforms.ToTensor())\n",
        "\n",
        "isolated_indexes = (test_ds.targets == 0) | (test_ds.targets == 1) | (test_ds.targets == 2) | (test_ds.targets == 3)\n",
        "test_ds.targets = test_ds.targets[isolated_indexes]\n",
        "test_ds.data = test_ds.data[isolated_indexes]\n",
        "\n",
        "test_dl = DataLoader(test_ds, batch_size=500, shuffle=True, )\n",
        "images, labels = iter(test_dl).next()\n",
        "import matplotlib.pyplot as plt\n",
        "image = images[0]\n",
        "plt.imshow(image.squeeze(), cmap='gray')"
      ],
      "metadata": {
        "colab": {
          "base_uri": "https://localhost:8080/",
          "height": 282
        },
        "id": "Zci0l9vF8hif",
        "outputId": "cb826ebe-5d3b-4483-fbde-63f0beea82be"
      },
      "execution_count": null,
      "outputs": [
        {
          "output_type": "execute_result",
          "data": {
            "text/plain": [
              "<matplotlib.image.AxesImage at 0x7f9011b068d0>"
            ]
          },
          "metadata": {},
          "execution_count": 22
        },
        {
          "output_type": "display_data",
          "data": {
            "image/png": "[encoded data removed]",
            "text/plain": [
              "<Figure size 432x288 with 1 Axes>"
            ]
          },
          "metadata": {
            "needs_background": "light"
          }
        }
      ]
    },
    {
      "cell_type": "code",
      "source": [
        "# Create feature mask that groups 7x7 blocks of pixels \n",
        "pattern1 = ([0] * 7 + [1] * 7 + [2] * 7 + [3] * 7) * 7\n",
        "pattern2 = ([4] * 7 + [5] * 7 + [6] * 7 + [7] * 7) * 7\n",
        "pattern3 = ([8] * 7 + [9] * 7 + [10] * 7 + [11] * 7) * 7\n",
        "pattern4 = ([12] * 7 + [13] * 7 + [14] * 7 + [15] * 7) * 7\n",
        "feature_mask_4x4 = torch.tensor(pattern1 + pattern2 + pattern3 + pattern4).reshape(28, 28).unsqueeze(0)"
      ],
      "metadata": {
        "id": "AfbjEC9Z_lTE"
      },
      "execution_count": null,
      "outputs": []
    },
    {
      "cell_type": "code",
      "source": [
        "# Create feature mask that groups 2x2 blocks of pixels\n",
        "base_matrix = np.array([0] * 4).reshape(2,2)\n",
        "base_row_list = []\n",
        "for i in range(14):\n",
        "  base_row_list.append(base_matrix + i)\n",
        "base_row = np.hstack((tuple(base_row_list)))\n",
        "all_rows = []\n",
        "for i in range(14):\n",
        "  all_rows.append(base_row + (14 * i))\n",
        "\n",
        "feature_mask_14x14 = np.vstack(tuple(all_rows))\n",
        "feature_mask_14x14 = torch.tensor(feature_mask_14x14).unsqueeze(0)"
      ],
      "metadata": {
        "id": "bgZU4TbBIY2E"
      },
      "execution_count": null,
      "outputs": []
    },
    {
      "cell_type": "code",
      "source": [
        "feature_mask_14x14.shape"
      ],
      "metadata": {
        "colab": {
          "base_uri": "https://localhost:8080/"
        },
        "id": "9-7AIXtjdNE_",
        "outputId": "f59f7514-6870-4ad4-f8bc-c18305ed48c9"
      },
      "execution_count": null,
      "outputs": [
        {
          "output_type": "execute_result",
          "data": {
            "text/plain": [
              "torch.Size([1, 28, 28])"
            ]
          },
          "metadata": {},
          "execution_count": 26
        }
      ]
    },
    {
      "cell_type": "code",
      "execution_count": null,
      "metadata": {
        "colab": {
          "base_uri": "https://localhost:8080/"
        },
        "id": "uaUndy1sUJWZ",
        "outputId": "c1937293-cb4c-490e-e0a5-79c029345877"
      },
      "outputs": [
        {
          "output_type": "stream",
          "name": "stderr",
          "text": [
            "Shapley Value Sampling attribution: 100%|██████████| 1961/1961 [05:06<00:00,  6.40it/s]\n"
          ]
        }
      ],
      "source": [
        "svs = ShapleyValueSampling(model)\n",
        "\n",
        "# Shapley values are EXPENSIVE to computer, for demonstration purposes just feed in 50 images and their respective labels,\n",
        "# and reduce sampling from default 25 to 10\n",
        "attributions = svs.attribute(images[:50], target=labels[:50], feature_mask=feature_mask_14x14, n_samples = 10, show_progress = True)"
      ]
    },
    {
      "cell_type": "code",
      "source": [
        "torch.save(attributions, \"drive/MyDrive/MNIST Feature Attribution/ShapleyValueSamplingAttributions.pt\")"
      ],
      "metadata": {
        "id": "D9IpIcLIvHWk"
      },
      "execution_count": null,
      "outputs": []
    },
    {
      "cell_type": "code",
      "source": [
        "attribution = attributions[10]\n",
        "plt.imshow(attribution.squeeze())\n",
        "plt.colorbar()"
      ],
      "metadata": {
        "id": "6jwbTNQVeKVR",
        "colab": {
          "base_uri": "https://localhost:8080/",
          "height": 282
        },
        "outputId": "48878b9e-0ffd-48d3-a58b-a0c3a2490d7a"
      },
      "execution_count": null,
      "outputs": [
        {
          "output_type": "execute_result",
          "data": {
            "text/plain": [
              "<matplotlib.colorbar.Colorbar at 0x7f9012716110>"
            ]
          },
          "metadata": {},
          "execution_count": 12
        },
        {
          "output_type": "display_data",
          "data": {
            "image/png": "[encoded data removed]",
            "text/plain": [
              "<Figure size 432x288 with 2 Axes>"
            ]
          },
          "metadata": {
            "needs_background": "light"
          }
        }
      ]
    },
    {
      "cell_type": "code",
      "source": [
        "attribution = np.transpose(attributions[1].detach().numpy(), (1,2,0))\n",
        "image = np.transpose(images[1].detach().numpy(), (1,2,0))\n",
        "\n",
        "viz.visualize_image_attr(attribution, image, method=\"blended_heat_map\", show_colorbar=True, sign=\"all\")"
      ],
      "metadata": {
        "colab": {
          "base_uri": "https://localhost:8080/",
          "height": 408
        },
        "id": "YmrgWhaDwFD_",
        "outputId": "93223704-8840-4750-e047-217beae64d8e"
      },
      "execution_count": null,
      "outputs": [
        {
          "output_type": "display_data",
          "data": {
            "image/png": "[encoded data removed]",
            "text/plain": [
              "<Figure size 432x432 with 2 Axes>"
            ]
          },
          "metadata": {
            "needs_background": "light"
          }
        },
        {
          "output_type": "execute_result",
          "data": {
            "text/plain": [
              "(<Figure size 432x432 with 2 Axes>,\n",
              " <matplotlib.axes._subplots.AxesSubplot at 0x7f90112d6dd0>)"
            ]
          },
          "metadata": {},
          "execution_count": 19
        }
      ]
    },
    {
      "cell_type": "code",
      "source": [
        "mapper = umap.UMAP(n_neighbors = 20,min_dist=0.5, random_state=193).fit(torch.reshape(attributions.squeeze(), (50, 784)))\n",
        "\n",
        "umap.plot.points(mapper, labels=labels[:50], theme=\"fire\")"
      ],
      "metadata": {
        "id": "CiKP_srZVbYW",
        "colab": {
          "base_uri": "https://localhost:8080/",
          "height": 655
        },
        "outputId": "0f4e5f56-c423-4436-bcb3-005e9c24da57"
      },
      "execution_count": null,
      "outputs": [
        {
          "output_type": "execute_result",
          "data": {
            "text/plain": [
              "<matplotlib.axes._subplots.AxesSubplot at 0x7f900ff80290>"
            ]
          },
          "metadata": {},
          "execution_count": 15
        },
        {
          "output_type": "display_data",
          "data": {
            "image/png": "[encoded data removed]",
            "text/plain": [
              "<Figure size 800x800 with 1 Axes>"
            ]
          },
          "metadata": {}
        }
      ]
    }
  ]
}