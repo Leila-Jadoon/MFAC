{
  "nbformat": 4,
  "nbformat_minor": 0,
  "metadata": {
    "colab": {
      "name": "Integrated Gradients GPU Attribution.ipynb",
      "provenance": [],
      "collapsed_sections": []
    },
    "kernelspec": {
      "name": "python3",
      "display_name": "Python 3"
    },
    "language_info": {
      "name": "python"
    },
    "accelerator": "GPU",
    "widgets": {
      "application/vnd.jupyter.widget-state+json": {
        "b6bcc02c9a0f4b07808f0283ebba128f": {
          "model_module": "@jupyter-widgets/controls",
          "model_name": "HBoxModel",
          "model_module_version": "1.5.0",
          "state": {
            "_view_name": "HBoxView",
            "_dom_classes": [],
            "_model_name": "HBoxModel",
            "_view_module": "@jupyter-widgets/controls",
            "_model_module_version": "1.5.0",
            "_view_count": null,
            "_view_module_version": "1.5.0",
            "box_style": "",
            "layout": "IPY_MODEL_ef41befb8075476b82f25995b4118e58",
            "_model_module": "@jupyter-widgets/controls",
            "children": [
              "IPY_MODEL_37a5a7ec64954a12b93b323b9e15b8b9",
              "IPY_MODEL_dc31a5ef2a7c4258adcb320864994bd3",
              "IPY_MODEL_e4b94fa7459f4609858874dcaaf07edb"
            ]
          }
        },
        "ef41befb8075476b82f25995b4118e58": {
          "model_module": "@jupyter-widgets/base",
          "model_name": "LayoutModel",
          "model_module_version": "1.2.0",
          "state": {
            "_view_name": "LayoutView",
            "grid_template_rows": null,
            "right": null,
            "justify_content": null,
            "_view_module": "@jupyter-widgets/base",
            "overflow": null,
            "_model_module_version": "1.2.0",
            "_view_count": null,
            "flex_flow": null,
            "width": null,
            "min_width": null,
            "border": null,
            "align_items": null,
            "bottom": null,
            "_model_module": "@jupyter-widgets/base",
            "top": null,
            "grid_column": null,
            "overflow_y": null,
            "overflow_x": null,
            "grid_auto_flow": null,
            "grid_area": null,
            "grid_template_columns": null,
            "flex": null,
            "_model_name": "LayoutModel",
            "justify_items": null,
            "grid_row": null,
            "max_height": null,
            "align_content": null,
            "visibility": null,
            "align_self": null,
            "height": null,
            "min_height": null,
            "padding": null,
            "grid_auto_rows": null,
            "grid_gap": null,
            "max_width": null,
            "order": null,
            "_view_module_version": "1.2.0",
            "grid_template_areas": null,
            "object_position": null,
            "object_fit": null,
            "grid_auto_columns": null,
            "margin": null,
            "display": null,
            "left": null
          }
        },
        "37a5a7ec64954a12b93b323b9e15b8b9": {
          "model_module": "@jupyter-widgets/controls",
          "model_name": "HTMLModel",
          "model_module_version": "1.5.0",
          "state": {
            "_view_name": "HTMLView",
            "style": "IPY_MODEL_fc1402bc86a14636b338e0e4c6e60d6c",
            "_dom_classes": [],
            "description": "",
            "_model_name": "HTMLModel",
            "placeholder": "​",
            "_view_module": "@jupyter-widgets/controls",
            "_model_module_version": "1.5.0",
            "value": "Epochs completed: 100%| ",
            "_view_count": null,
            "_view_module_version": "1.5.0",
            "description_tooltip": null,
            "_model_module": "@jupyter-widgets/controls",
            "layout": "IPY_MODEL_a7b7a053f66b42ab88f1b02c942ab98d"
          }
        },
        "dc31a5ef2a7c4258adcb320864994bd3": {
          "model_module": "@jupyter-widgets/controls",
          "model_name": "FloatProgressModel",
          "model_module_version": "1.5.0",
          "state": {
            "_view_name": "ProgressView",
            "style": "IPY_MODEL_0e351c898058432fbc916382b940df76",
            "_dom_classes": [],
            "description": "",
            "_model_name": "FloatProgressModel",
            "bar_style": "success",
            "max": 500,
            "_view_module": "@jupyter-widgets/controls",
            "_model_module_version": "1.5.0",
            "value": 500,
            "_view_count": null,
            "_view_module_version": "1.5.0",
            "orientation": "horizontal",
            "min": 0,
            "description_tooltip": null,
            "_model_module": "@jupyter-widgets/controls",
            "layout": "IPY_MODEL_1f537cad3b814eedaf86da85c18ca499"
          }
        },
        "e4b94fa7459f4609858874dcaaf07edb": {
          "model_module": "@jupyter-widgets/controls",
          "model_name": "HTMLModel",
          "model_module_version": "1.5.0",
          "state": {
            "_view_name": "HTMLView",
            "style": "IPY_MODEL_59847ef7fa9346d79f7f1d0d5be2499f",
            "_dom_classes": [],
            "description": "",
            "_model_name": "HTMLModel",
            "placeholder": "​",
            "_view_module": "@jupyter-widgets/controls",
            "_model_module_version": "1.5.0",
            "value": " 500/500 [00:04]",
            "_view_count": null,
            "_view_module_version": "1.5.0",
            "description_tooltip": null,
            "_model_module": "@jupyter-widgets/controls",
            "layout": "IPY_MODEL_618eb62b266c4f02aeb2d07cd6fceaee"
          }
        },
        "fc1402bc86a14636b338e0e4c6e60d6c": {
          "model_module": "@jupyter-widgets/controls",
          "model_name": "DescriptionStyleModel",
          "model_module_version": "1.5.0",
          "state": {
            "_view_name": "StyleView",
            "_model_name": "DescriptionStyleModel",
            "description_width": "",
            "_view_module": "@jupyter-widgets/base",
            "_model_module_version": "1.5.0",
            "_view_count": null,
            "_view_module_version": "1.2.0",
            "_model_module": "@jupyter-widgets/controls"
          }
        },
        "a7b7a053f66b42ab88f1b02c942ab98d": {
          "model_module": "@jupyter-widgets/base",
          "model_name": "LayoutModel",
          "model_module_version": "1.2.0",
          "state": {
            "_view_name": "LayoutView",
            "grid_template_rows": null,
            "right": null,
            "justify_content": null,
            "_view_module": "@jupyter-widgets/base",
            "overflow": null,
            "_model_module_version": "1.2.0",
            "_view_count": null,
            "flex_flow": null,
            "width": null,
            "min_width": null,
            "border": null,
            "align_items": null,
            "bottom": null,
            "_model_module": "@jupyter-widgets/base",
            "top": null,
            "grid_column": null,
            "overflow_y": null,
            "overflow_x": null,
            "grid_auto_flow": null,
            "grid_area": null,
            "grid_template_columns": null,
            "flex": null,
            "_model_name": "LayoutModel",
            "justify_items": null,
            "grid_row": null,
            "max_height": null,
            "align_content": null,
            "visibility": null,
            "align_self": null,
            "height": null,
            "min_height": null,
            "padding": null,
            "grid_auto_rows": null,
            "grid_gap": null,
            "max_width": null,
            "order": null,
            "_view_module_version": "1.2.0",
            "grid_template_areas": null,
            "object_position": null,
            "object_fit": null,
            "grid_auto_columns": null,
            "margin": null,
            "display": null,
            "left": null
          }
        },
        "0e351c898058432fbc916382b940df76": {
          "model_module": "@jupyter-widgets/controls",
          "model_name": "ProgressStyleModel",
          "model_module_version": "1.5.0",
          "state": {
            "_view_name": "StyleView",
            "_model_name": "ProgressStyleModel",
            "description_width": "",
            "_view_module": "@jupyter-widgets/base",
            "_model_module_version": "1.5.0",
            "_view_count": null,
            "_view_module_version": "1.2.0",
            "bar_color": null,
            "_model_module": "@jupyter-widgets/controls"
          }
        },
        "1f537cad3b814eedaf86da85c18ca499": {
          "model_module": "@jupyter-widgets/base",
          "model_name": "LayoutModel",
          "model_module_version": "1.2.0",
          "state": {
            "_view_name": "LayoutView",
            "grid_template_rows": null,
            "right": null,
            "justify_content": null,
            "_view_module": "@jupyter-widgets/base",
            "overflow": null,
            "_model_module_version": "1.2.0",
            "_view_count": null,
            "flex_flow": null,
            "width": null,
            "min_width": null,
            "border": null,
            "align_items": null,
            "bottom": null,
            "_model_module": "@jupyter-widgets/base",
            "top": null,
            "grid_column": null,
            "overflow_y": null,
            "overflow_x": null,
            "grid_auto_flow": null,
            "grid_area": null,
            "grid_template_columns": null,
            "flex": null,
            "_model_name": "LayoutModel",
            "justify_items": null,
            "grid_row": null,
            "max_height": null,
            "align_content": null,
            "visibility": null,
            "align_self": null,
            "height": null,
            "min_height": null,
            "padding": null,
            "grid_auto_rows": null,
            "grid_gap": null,
            "max_width": null,
            "order": null,
            "_view_module_version": "1.2.0",
            "grid_template_areas": null,
            "object_position": null,
            "object_fit": null,
            "grid_auto_columns": null,
            "margin": null,
            "display": null,
            "left": null
          }
        },
        "59847ef7fa9346d79f7f1d0d5be2499f": {
          "model_module": "@jupyter-widgets/controls",
          "model_name": "DescriptionStyleModel",
          "model_module_version": "1.5.0",
          "state": {
            "_view_name": "StyleView",
            "_model_name": "DescriptionStyleModel",
            "description_width": "",
            "_view_module": "@jupyter-widgets/base",
            "_model_module_version": "1.5.0",
            "_view_count": null,
            "_view_module_version": "1.2.0",
            "_model_module": "@jupyter-widgets/controls"
          }
        },
        "618eb62b266c4f02aeb2d07cd6fceaee": {
          "model_module": "@jupyter-widgets/base",
          "model_name": "LayoutModel",
          "model_module_version": "1.2.0",
          "state": {
            "_view_name": "LayoutView",
            "grid_template_rows": null,
            "right": null,
            "justify_content": null,
            "_view_module": "@jupyter-widgets/base",
            "overflow": null,
            "_model_module_version": "1.2.0",
            "_view_count": null,
            "flex_flow": null,
            "width": null,
            "min_width": null,
            "border": null,
            "align_items": null,
            "bottom": null,
            "_model_module": "@jupyter-widgets/base",
            "top": null,
            "grid_column": null,
            "overflow_y": null,
            "overflow_x": null,
            "grid_auto_flow": null,
            "grid_area": null,
            "grid_template_columns": null,
            "flex": null,
            "_model_name": "LayoutModel",
            "justify_items": null,
            "grid_row": null,
            "max_height": null,
            "align_content": null,
            "visibility": null,
            "align_self": null,
            "height": null,
            "min_height": null,
            "padding": null,
            "grid_auto_rows": null,
            "grid_gap": null,
            "max_width": null,
            "order": null,
            "_view_module_version": "1.2.0",
            "grid_template_areas": null,
            "object_position": null,
            "object_fit": null,
            "grid_auto_columns": null,
            "margin": null,
            "display": null,
            "left": null
          }
        }
      }
    }
  },
  "cells": [
    {
      "cell_type": "code",
      "execution_count": null,
      "metadata": {
        "id": "R90aSJyHxAM7"
      },
      "outputs": [],
      "source": [
        "import torch"
      ]
    },
    {
      "cell_type": "code",
      "source": [
        "def reluToInplaceFalse(model):\n",
        "  for name, child in model.named_children():\n",
        "    if isinstance(child, nn.ReLU):\n",
        "      setattr(child, 'inplace', False)\n",
        "    else:\n",
        "      reluToInplaceFalse(child)\n",
        "\n",
        "from torchvision.transforms.transforms import RandomRotation\n",
        "\n",
        "class Classifier(torch.nn.Module):\n",
        "\n",
        "  def __init__(self, backbone='resnet', multi_backbone = True, device =\"cuda:0\",dropout_rate = 0.2, do_augmentation = False):\n",
        "    super().__init__()\n",
        "    self.multi_backbone = multi_backbone\n",
        "\n",
        "    if backbone == \"vgg19\":\n",
        "      backbone = torchvision.models.vgg19(pretrained=True)\n",
        "      self.out_channels = 25088\n",
        "      \n",
        "    elif backbone == \"resnet18\":\n",
        "      backbone = torchvision.models.resnet18(pretrained=True)\n",
        "      self.out_channels = 512\n",
        "\n",
        "    elif backbone == \"resnet50\":\n",
        "      backbone = torchvision.models.resnet50(pretrained=True)\n",
        "      self.out_channels = 2048\n",
        "\n",
        "    elif backbone == \"Efficientnet b1\":\n",
        "      backbone = torchvision.models.efficientnet_b1(pretrained=True)\n",
        "      self.out_channels = 1280\n",
        "\n",
        "    elif backbone == \"Efficientnet b3\":\n",
        "      backbone = torchvision.models.efficientnet_b3(pretrained=True)\n",
        "      self.out_channels = 1536\n",
        "\n",
        "    elif backbone == \"Efficientnet b5\":\n",
        "      backbone = torchvision.models.efficientnet_b5(pretrained=True)\n",
        "      self.out_channels = 2048\n",
        "\n",
        "    elif backbone == \"Efficientnet b7\":\n",
        "      backbone = torchvision.models.efficientnet_b7(pretrained=True)\n",
        "      self.out_channels = 2560\n",
        "      \n",
        "    # Disabling inplace ReLu becasuse GradCam doesn't work it enabled\n",
        "    reluToInplaceFalse(backbone)\n",
        "     \n",
        "    modules = list(backbone.children())[:-1]\n",
        "    self.do_augmentation = do_augmentation\n",
        "\n",
        "    if self.do_augmentation:\n",
        "      self.augmentation = nn.Sequential(transforms.RandomHorizontalFlip(),\n",
        "                                        transforms.RandomVerticalFlip(),\n",
        "                                        transforms.RandomPerspective(0.2),\n",
        "                                        RandomRotation(20),\n",
        "                                        transforms.RandomAutocontrast())\n",
        "\n",
        "    if self.multi_backbone:\n",
        "      self.backbone1 = nn.Sequential(*copy.deepcopy(modules)).to(device)\n",
        "      self.backbone2 = nn.Sequential(*copy.deepcopy(modules)).to(device)\n",
        "      self.backbone3 = nn.Sequential(*copy.deepcopy(modules)).to(device)\n",
        "      self.backbone4 = nn.Sequential(*copy.deepcopy(modules)).to(device)\n",
        "    else:\n",
        "      self.backbone =  nn.Sequential(*modules).to(device)\n",
        "\n",
        "\n",
        "     \n",
        "\n",
        "    self.fc1 = nn.Sequential(nn.Dropout(dropout_rate),\n",
        "                              nn.Linear(self.out_channels, 128),\n",
        "                              nn.ReLU(),\n",
        "                              nn.Dropout(dropout_rate)) #TODO: Experiment with BN and Dropout\n",
        "\n",
        "    # 512 features in, 3 features out\n",
        "    self.fc = nn.Sequential(nn.Linear(512, 3))                  #TODO: L2 Regularization\n",
        "     \n",
        "  def forward(self, x, is_training = True):\n",
        "    if self.do_augmentation and is_training:\n",
        "      imgs = [self.augmentation(x[:,i]) for i in range(4)] #list of 4 images\n",
        "    else:\n",
        "      imgs = [x[:,i] for i in range(4)] #list of 4 images\n",
        "      #imgs = [x[i] for i in range(4)]\n",
        "\n",
        "    if self.multi_backbone:\n",
        "        # feed each image into a backbone\n",
        "      encodings = [self.fc1(torch.flatten(self.backbone1(imgs[0]),1)),\n",
        "                   self.fc1(torch.flatten(self.backbone2(imgs[1]),1)),\n",
        "                   self.fc1(torch.flatten(self.backbone3(imgs[2]),1)),\n",
        "                   self.fc1(torch.flatten(self.backbone4(imgs[3]),1))]\n",
        "    else:\n",
        "      encodings = [self.fc1(self.backbone(img).squeeze()) for img in imgs]\n",
        "\n",
        "    # modify to return an array with the largest encoding\n",
        "    \n",
        "    #raw_result = self.fc(torch.cat(encodings,1))\n",
        "    #fixed_result = torch.clone(raw_result)\n",
        "    #for idx, row in enumerate(raw_result):\n",
        "    #    ones = torch.ones(3, dtype=torch.long)\n",
        "    #    max_val = row.max()\n",
        "    #    fixed_result[idx] = torch.where(row < max_val, 0, ones)\n",
        "                  \n",
        "    #return fixed_result.type(torch.int64)\n",
        "    return self.fc(torch.cat(encodings,1))"
      ],
      "metadata": {
        "id": "7ZJ3aWhcxyKz"
      },
      "execution_count": null,
      "outputs": []
    },
    {
      "cell_type": "code",
      "source": [
        "from google.colab import drive\n",
        "drive.mount('/content/drive')"
      ],
      "metadata": {
        "colab": {
          "base_uri": "https://localhost:8080/"
        },
        "id": "hqonNvB-x_zR",
        "outputId": "8687d46a-95d2-4af9-89ad-3231ea3ee582"
      },
      "execution_count": null,
      "outputs": [
        {
          "output_type": "stream",
          "name": "stdout",
          "text": [
            "Mounted at /content/drive\n"
          ]
        }
      ]
    },
    {
      "cell_type": "code",
      "source": [
        "model = torch.load(\"drive/MyDrive/MNIST Feature Attribution/\" + 'model_b_mar_7_00_05.pt', map_location=\"cpu\")\n",
        "model.eval()\n",
        "model.zero_grad()"
      ],
      "metadata": {
        "id": "ByOAbc7_x63s"
      },
      "execution_count": null,
      "outputs": []
    },
    {
      "cell_type": "code",
      "source": [
        "print(torch.cuda.is_available())\n",
        "# check that cuda is available\n",
        "device = torch.device(\"cuda:0\" if torch.cuda.is_available() else \"cpu\")\n",
        "print(device)"
      ],
      "metadata": {
        "colab": {
          "base_uri": "https://localhost:8080/"
        },
        "id": "i3wFuCkB1JRp",
        "outputId": "d2d11a2a-8d18-4ec2-83fe-c8d755414145"
      },
      "execution_count": null,
      "outputs": [
        {
          "output_type": "stream",
          "name": "stdout",
          "text": [
            "True\n",
            "cuda:0\n"
          ]
        }
      ]
    },
    {
      "cell_type": "code",
      "source": [
        "model.to(device)"
      ],
      "metadata": {
        "colab": {
          "base_uri": "https://localhost:8080/"
        },
        "id": "pZUNiRmY1fpb",
        "outputId": "89734d3d-bf50-423f-e418-f2e3587b114d"
      },
      "execution_count": null,
      "outputs": [
        {
          "output_type": "execute_result",
          "data": {
            "text/plain": [
              "Classifier(\n",
              "  (backbone1): Sequential(\n",
              "    (0): Conv2d(3, 64, kernel_size=(7, 7), stride=(2, 2), padding=(3, 3), bias=False)\n",
              "    (1): BatchNorm2d(64, eps=1e-05, momentum=0.1, affine=True, track_running_stats=True)\n",
              "    (2): ReLU()\n",
              "    (3): MaxPool2d(kernel_size=3, stride=2, padding=1, dilation=1, ceil_mode=False)\n",
              "    (4): Sequential(\n",
              "      (0): BasicBlock(\n",
              "        (conv1): Conv2d(64, 64, kernel_size=(3, 3), stride=(1, 1), padding=(1, 1), bias=False)\n",
              "        (bn1): BatchNorm2d(64, eps=1e-05, momentum=0.1, affine=True, track_running_stats=True)\n",
              "        (relu): ReLU()\n",
              "        (conv2): Conv2d(64, 64, kernel_size=(3, 3), stride=(1, 1), padding=(1, 1), bias=False)\n",
              "        (bn2): BatchNorm2d(64, eps=1e-05, momentum=0.1, affine=True, track_running_stats=True)\n",
              "      )\n",
              "      (1): BasicBlock(\n",
              "        (conv1): Conv2d(64, 64, kernel_size=(3, 3), stride=(1, 1), padding=(1, 1), bias=False)\n",
              "        (bn1): BatchNorm2d(64, eps=1e-05, momentum=0.1, affine=True, track_running_stats=True)\n",
              "        (relu): ReLU()\n",
              "        (conv2): Conv2d(64, 64, kernel_size=(3, 3), stride=(1, 1), padding=(1, 1), bias=False)\n",
              "        (bn2): BatchNorm2d(64, eps=1e-05, momentum=0.1, affine=True, track_running_stats=True)\n",
              "      )\n",
              "    )\n",
              "    (5): Sequential(\n",
              "      (0): BasicBlock(\n",
              "        (conv1): Conv2d(64, 128, kernel_size=(3, 3), stride=(2, 2), padding=(1, 1), bias=False)\n",
              "        (bn1): BatchNorm2d(128, eps=1e-05, momentum=0.1, affine=True, track_running_stats=True)\n",
              "        (relu): ReLU()\n",
              "        (conv2): Conv2d(128, 128, kernel_size=(3, 3), stride=(1, 1), padding=(1, 1), bias=False)\n",
              "        (bn2): BatchNorm2d(128, eps=1e-05, momentum=0.1, affine=True, track_running_stats=True)\n",
              "        (downsample): Sequential(\n",
              "          (0): Conv2d(64, 128, kernel_size=(1, 1), stride=(2, 2), bias=False)\n",
              "          (1): BatchNorm2d(128, eps=1e-05, momentum=0.1, affine=True, track_running_stats=True)\n",
              "        )\n",
              "      )\n",
              "      (1): BasicBlock(\n",
              "        (conv1): Conv2d(128, 128, kernel_size=(3, 3), stride=(1, 1), padding=(1, 1), bias=False)\n",
              "        (bn1): BatchNorm2d(128, eps=1e-05, momentum=0.1, affine=True, track_running_stats=True)\n",
              "        (relu): ReLU()\n",
              "        (conv2): Conv2d(128, 128, kernel_size=(3, 3), stride=(1, 1), padding=(1, 1), bias=False)\n",
              "        (bn2): BatchNorm2d(128, eps=1e-05, momentum=0.1, affine=True, track_running_stats=True)\n",
              "      )\n",
              "    )\n",
              "    (6): Sequential(\n",
              "      (0): BasicBlock(\n",
              "        (conv1): Conv2d(128, 256, kernel_size=(3, 3), stride=(2, 2), padding=(1, 1), bias=False)\n",
              "        (bn1): BatchNorm2d(256, eps=1e-05, momentum=0.1, affine=True, track_running_stats=True)\n",
              "        (relu): ReLU()\n",
              "        (conv2): Conv2d(256, 256, kernel_size=(3, 3), stride=(1, 1), padding=(1, 1), bias=False)\n",
              "        (bn2): BatchNorm2d(256, eps=1e-05, momentum=0.1, affine=True, track_running_stats=True)\n",
              "        (downsample): Sequential(\n",
              "          (0): Conv2d(128, 256, kernel_size=(1, 1), stride=(2, 2), bias=False)\n",
              "          (1): BatchNorm2d(256, eps=1e-05, momentum=0.1, affine=True, track_running_stats=True)\n",
              "        )\n",
              "      )\n",
              "      (1): BasicBlock(\n",
              "        (conv1): Conv2d(256, 256, kernel_size=(3, 3), stride=(1, 1), padding=(1, 1), bias=False)\n",
              "        (bn1): BatchNorm2d(256, eps=1e-05, momentum=0.1, affine=True, track_running_stats=True)\n",
              "        (relu): ReLU()\n",
              "        (conv2): Conv2d(256, 256, kernel_size=(3, 3), stride=(1, 1), padding=(1, 1), bias=False)\n",
              "        (bn2): BatchNorm2d(256, eps=1e-05, momentum=0.1, affine=True, track_running_stats=True)\n",
              "      )\n",
              "    )\n",
              "    (7): Sequential(\n",
              "      (0): BasicBlock(\n",
              "        (conv1): Conv2d(256, 512, kernel_size=(3, 3), stride=(2, 2), padding=(1, 1), bias=False)\n",
              "        (bn1): BatchNorm2d(512, eps=1e-05, momentum=0.1, affine=True, track_running_stats=True)\n",
              "        (relu): ReLU()\n",
              "        (conv2): Conv2d(512, 512, kernel_size=(3, 3), stride=(1, 1), padding=(1, 1), bias=False)\n",
              "        (bn2): BatchNorm2d(512, eps=1e-05, momentum=0.1, affine=True, track_running_stats=True)\n",
              "        (downsample): Sequential(\n",
              "          (0): Conv2d(256, 512, kernel_size=(1, 1), stride=(2, 2), bias=False)\n",
              "          (1): BatchNorm2d(512, eps=1e-05, momentum=0.1, affine=True, track_running_stats=True)\n",
              "        )\n",
              "      )\n",
              "      (1): BasicBlock(\n",
              "        (conv1): Conv2d(512, 512, kernel_size=(3, 3), stride=(1, 1), padding=(1, 1), bias=False)\n",
              "        (bn1): BatchNorm2d(512, eps=1e-05, momentum=0.1, affine=True, track_running_stats=True)\n",
              "        (relu): ReLU()\n",
              "        (conv2): Conv2d(512, 512, kernel_size=(3, 3), stride=(1, 1), padding=(1, 1), bias=False)\n",
              "        (bn2): BatchNorm2d(512, eps=1e-05, momentum=0.1, affine=True, track_running_stats=True)\n",
              "      )\n",
              "    )\n",
              "    (8): AdaptiveAvgPool2d(output_size=(1, 1))\n",
              "  )\n",
              "  (backbone2): Sequential(\n",
              "    (0): Conv2d(3, 64, kernel_size=(7, 7), stride=(2, 2), padding=(3, 3), bias=False)\n",
              "    (1): BatchNorm2d(64, eps=1e-05, momentum=0.1, affine=True, track_running_stats=True)\n",
              "    (2): ReLU()\n",
              "    (3): MaxPool2d(kernel_size=3, stride=2, padding=1, dilation=1, ceil_mode=False)\n",
              "    (4): Sequential(\n",
              "      (0): BasicBlock(\n",
              "        (conv1): Conv2d(64, 64, kernel_size=(3, 3), stride=(1, 1), padding=(1, 1), bias=False)\n",
              "        (bn1): BatchNorm2d(64, eps=1e-05, momentum=0.1, affine=True, track_running_stats=True)\n",
              "        (relu): ReLU()\n",
              "        (conv2): Conv2d(64, 64, kernel_size=(3, 3), stride=(1, 1), padding=(1, 1), bias=False)\n",
              "        (bn2): BatchNorm2d(64, eps=1e-05, momentum=0.1, affine=True, track_running_stats=True)\n",
              "      )\n",
              "      (1): BasicBlock(\n",
              "        (conv1): Conv2d(64, 64, kernel_size=(3, 3), stride=(1, 1), padding=(1, 1), bias=False)\n",
              "        (bn1): BatchNorm2d(64, eps=1e-05, momentum=0.1, affine=True, track_running_stats=True)\n",
              "        (relu): ReLU()\n",
              "        (conv2): Conv2d(64, 64, kernel_size=(3, 3), stride=(1, 1), padding=(1, 1), bias=False)\n",
              "        (bn2): BatchNorm2d(64, eps=1e-05, momentum=0.1, affine=True, track_running_stats=True)\n",
              "      )\n",
              "    )\n",
              "    (5): Sequential(\n",
              "      (0): BasicBlock(\n",
              "        (conv1): Conv2d(64, 128, kernel_size=(3, 3), stride=(2, 2), padding=(1, 1), bias=False)\n",
              "        (bn1): BatchNorm2d(128, eps=1e-05, momentum=0.1, affine=True, track_running_stats=True)\n",
              "        (relu): ReLU()\n",
              "        (conv2): Conv2d(128, 128, kernel_size=(3, 3), stride=(1, 1), padding=(1, 1), bias=False)\n",
              "        (bn2): BatchNorm2d(128, eps=1e-05, momentum=0.1, affine=True, track_running_stats=True)\n",
              "        (downsample): Sequential(\n",
              "          (0): Conv2d(64, 128, kernel_size=(1, 1), stride=(2, 2), bias=False)\n",
              "          (1): BatchNorm2d(128, eps=1e-05, momentum=0.1, affine=True, track_running_stats=True)\n",
              "        )\n",
              "      )\n",
              "      (1): BasicBlock(\n",
              "        (conv1): Conv2d(128, 128, kernel_size=(3, 3), stride=(1, 1), padding=(1, 1), bias=False)\n",
              "        (bn1): BatchNorm2d(128, eps=1e-05, momentum=0.1, affine=True, track_running_stats=True)\n",
              "        (relu): ReLU()\n",
              "        (conv2): Conv2d(128, 128, kernel_size=(3, 3), stride=(1, 1), padding=(1, 1), bias=False)\n",
              "        (bn2): BatchNorm2d(128, eps=1e-05, momentum=0.1, affine=True, track_running_stats=True)\n",
              "      )\n",
              "    )\n",
              "    (6): Sequential(\n",
              "      (0): BasicBlock(\n",
              "        (conv1): Conv2d(128, 256, kernel_size=(3, 3), stride=(2, 2), padding=(1, 1), bias=False)\n",
              "        (bn1): BatchNorm2d(256, eps=1e-05, momentum=0.1, affine=True, track_running_stats=True)\n",
              "        (relu): ReLU()\n",
              "        (conv2): Conv2d(256, 256, kernel_size=(3, 3), stride=(1, 1), padding=(1, 1), bias=False)\n",
              "        (bn2): BatchNorm2d(256, eps=1e-05, momentum=0.1, affine=True, track_running_stats=True)\n",
              "        (downsample): Sequential(\n",
              "          (0): Conv2d(128, 256, kernel_size=(1, 1), stride=(2, 2), bias=False)\n",
              "          (1): BatchNorm2d(256, eps=1e-05, momentum=0.1, affine=True, track_running_stats=True)\n",
              "        )\n",
              "      )\n",
              "      (1): BasicBlock(\n",
              "        (conv1): Conv2d(256, 256, kernel_size=(3, 3), stride=(1, 1), padding=(1, 1), bias=False)\n",
              "        (bn1): BatchNorm2d(256, eps=1e-05, momentum=0.1, affine=True, track_running_stats=True)\n",
              "        (relu): ReLU()\n",
              "        (conv2): Conv2d(256, 256, kernel_size=(3, 3), stride=(1, 1), padding=(1, 1), bias=False)\n",
              "        (bn2): BatchNorm2d(256, eps=1e-05, momentum=0.1, affine=True, track_running_stats=True)\n",
              "      )\n",
              "    )\n",
              "    (7): Sequential(\n",
              "      (0): BasicBlock(\n",
              "        (conv1): Conv2d(256, 512, kernel_size=(3, 3), stride=(2, 2), padding=(1, 1), bias=False)\n",
              "        (bn1): BatchNorm2d(512, eps=1e-05, momentum=0.1, affine=True, track_running_stats=True)\n",
              "        (relu): ReLU()\n",
              "        (conv2): Conv2d(512, 512, kernel_size=(3, 3), stride=(1, 1), padding=(1, 1), bias=False)\n",
              "        (bn2): BatchNorm2d(512, eps=1e-05, momentum=0.1, affine=True, track_running_stats=True)\n",
              "        (downsample): Sequential(\n",
              "          (0): Conv2d(256, 512, kernel_size=(1, 1), stride=(2, 2), bias=False)\n",
              "          (1): BatchNorm2d(512, eps=1e-05, momentum=0.1, affine=True, track_running_stats=True)\n",
              "        )\n",
              "      )\n",
              "      (1): BasicBlock(\n",
              "        (conv1): Conv2d(512, 512, kernel_size=(3, 3), stride=(1, 1), padding=(1, 1), bias=False)\n",
              "        (bn1): BatchNorm2d(512, eps=1e-05, momentum=0.1, affine=True, track_running_stats=True)\n",
              "        (relu): ReLU()\n",
              "        (conv2): Conv2d(512, 512, kernel_size=(3, 3), stride=(1, 1), padding=(1, 1), bias=False)\n",
              "        (bn2): BatchNorm2d(512, eps=1e-05, momentum=0.1, affine=True, track_running_stats=True)\n",
              "      )\n",
              "    )\n",
              "    (8): AdaptiveAvgPool2d(output_size=(1, 1))\n",
              "  )\n",
              "  (backbone3): Sequential(\n",
              "    (0): Conv2d(3, 64, kernel_size=(7, 7), stride=(2, 2), padding=(3, 3), bias=False)\n",
              "    (1): BatchNorm2d(64, eps=1e-05, momentum=0.1, affine=True, track_running_stats=True)\n",
              "    (2): ReLU()\n",
              "    (3): MaxPool2d(kernel_size=3, stride=2, padding=1, dilation=1, ceil_mode=False)\n",
              "    (4): Sequential(\n",
              "      (0): BasicBlock(\n",
              "        (conv1): Conv2d(64, 64, kernel_size=(3, 3), stride=(1, 1), padding=(1, 1), bias=False)\n",
              "        (bn1): BatchNorm2d(64, eps=1e-05, momentum=0.1, affine=True, track_running_stats=True)\n",
              "        (relu): ReLU()\n",
              "        (conv2): Conv2d(64, 64, kernel_size=(3, 3), stride=(1, 1), padding=(1, 1), bias=False)\n",
              "        (bn2): BatchNorm2d(64, eps=1e-05, momentum=0.1, affine=True, track_running_stats=True)\n",
              "      )\n",
              "      (1): BasicBlock(\n",
              "        (conv1): Conv2d(64, 64, kernel_size=(3, 3), stride=(1, 1), padding=(1, 1), bias=False)\n",
              "        (bn1): BatchNorm2d(64, eps=1e-05, momentum=0.1, affine=True, track_running_stats=True)\n",
              "        (relu): ReLU()\n",
              "        (conv2): Conv2d(64, 64, kernel_size=(3, 3), stride=(1, 1), padding=(1, 1), bias=False)\n",
              "        (bn2): BatchNorm2d(64, eps=1e-05, momentum=0.1, affine=True, track_running_stats=True)\n",
              "      )\n",
              "    )\n",
              "    (5): Sequential(\n",
              "      (0): BasicBlock(\n",
              "        (conv1): Conv2d(64, 128, kernel_size=(3, 3), stride=(2, 2), padding=(1, 1), bias=False)\n",
              "        (bn1): BatchNorm2d(128, eps=1e-05, momentum=0.1, affine=True, track_running_stats=True)\n",
              "        (relu): ReLU()\n",
              "        (conv2): Conv2d(128, 128, kernel_size=(3, 3), stride=(1, 1), padding=(1, 1), bias=False)\n",
              "        (bn2): BatchNorm2d(128, eps=1e-05, momentum=0.1, affine=True, track_running_stats=True)\n",
              "        (downsample): Sequential(\n",
              "          (0): Conv2d(64, 128, kernel_size=(1, 1), stride=(2, 2), bias=False)\n",
              "          (1): BatchNorm2d(128, eps=1e-05, momentum=0.1, affine=True, track_running_stats=True)\n",
              "        )\n",
              "      )\n",
              "      (1): BasicBlock(\n",
              "        (conv1): Conv2d(128, 128, kernel_size=(3, 3), stride=(1, 1), padding=(1, 1), bias=False)\n",
              "        (bn1): BatchNorm2d(128, eps=1e-05, momentum=0.1, affine=True, track_running_stats=True)\n",
              "        (relu): ReLU()\n",
              "        (conv2): Conv2d(128, 128, kernel_size=(3, 3), stride=(1, 1), padding=(1, 1), bias=False)\n",
              "        (bn2): BatchNorm2d(128, eps=1e-05, momentum=0.1, affine=True, track_running_stats=True)\n",
              "      )\n",
              "    )\n",
              "    (6): Sequential(\n",
              "      (0): BasicBlock(\n",
              "        (conv1): Conv2d(128, 256, kernel_size=(3, 3), stride=(2, 2), padding=(1, 1), bias=False)\n",
              "        (bn1): BatchNorm2d(256, eps=1e-05, momentum=0.1, affine=True, track_running_stats=True)\n",
              "        (relu): ReLU()\n",
              "        (conv2): Conv2d(256, 256, kernel_size=(3, 3), stride=(1, 1), padding=(1, 1), bias=False)\n",
              "        (bn2): BatchNorm2d(256, eps=1e-05, momentum=0.1, affine=True, track_running_stats=True)\n",
              "        (downsample): Sequential(\n",
              "          (0): Conv2d(128, 256, kernel_size=(1, 1), stride=(2, 2), bias=False)\n",
              "          (1): BatchNorm2d(256, eps=1e-05, momentum=0.1, affine=True, track_running_stats=True)\n",
              "        )\n",
              "      )\n",
              "      (1): BasicBlock(\n",
              "        (conv1): Conv2d(256, 256, kernel_size=(3, 3), stride=(1, 1), padding=(1, 1), bias=False)\n",
              "        (bn1): BatchNorm2d(256, eps=1e-05, momentum=0.1, affine=True, track_running_stats=True)\n",
              "        (relu): ReLU()\n",
              "        (conv2): Conv2d(256, 256, kernel_size=(3, 3), stride=(1, 1), padding=(1, 1), bias=False)\n",
              "        (bn2): BatchNorm2d(256, eps=1e-05, momentum=0.1, affine=True, track_running_stats=True)\n",
              "      )\n",
              "    )\n",
              "    (7): Sequential(\n",
              "      (0): BasicBlock(\n",
              "        (conv1): Conv2d(256, 512, kernel_size=(3, 3), stride=(2, 2), padding=(1, 1), bias=False)\n",
              "        (bn1): BatchNorm2d(512, eps=1e-05, momentum=0.1, affine=True, track_running_stats=True)\n",
              "        (relu): ReLU()\n",
              "        (conv2): Conv2d(512, 512, kernel_size=(3, 3), stride=(1, 1), padding=(1, 1), bias=False)\n",
              "        (bn2): BatchNorm2d(512, eps=1e-05, momentum=0.1, affine=True, track_running_stats=True)\n",
              "        (downsample): Sequential(\n",
              "          (0): Conv2d(256, 512, kernel_size=(1, 1), stride=(2, 2), bias=False)\n",
              "          (1): BatchNorm2d(512, eps=1e-05, momentum=0.1, affine=True, track_running_stats=True)\n",
              "        )\n",
              "      )\n",
              "      (1): BasicBlock(\n",
              "        (conv1): Conv2d(512, 512, kernel_size=(3, 3), stride=(1, 1), padding=(1, 1), bias=False)\n",
              "        (bn1): BatchNorm2d(512, eps=1e-05, momentum=0.1, affine=True, track_running_stats=True)\n",
              "        (relu): ReLU()\n",
              "        (conv2): Conv2d(512, 512, kernel_size=(3, 3), stride=(1, 1), padding=(1, 1), bias=False)\n",
              "        (bn2): BatchNorm2d(512, eps=1e-05, momentum=0.1, affine=True, track_running_stats=True)\n",
              "      )\n",
              "    )\n",
              "    (8): AdaptiveAvgPool2d(output_size=(1, 1))\n",
              "  )\n",
              "  (backbone4): Sequential(\n",
              "    (0): Conv2d(3, 64, kernel_size=(7, 7), stride=(2, 2), padding=(3, 3), bias=False)\n",
              "    (1): BatchNorm2d(64, eps=1e-05, momentum=0.1, affine=True, track_running_stats=True)\n",
              "    (2): ReLU()\n",
              "    (3): MaxPool2d(kernel_size=3, stride=2, padding=1, dilation=1, ceil_mode=False)\n",
              "    (4): Sequential(\n",
              "      (0): BasicBlock(\n",
              "        (conv1): Conv2d(64, 64, kernel_size=(3, 3), stride=(1, 1), padding=(1, 1), bias=False)\n",
              "        (bn1): BatchNorm2d(64, eps=1e-05, momentum=0.1, affine=True, track_running_stats=True)\n",
              "        (relu): ReLU()\n",
              "        (conv2): Conv2d(64, 64, kernel_size=(3, 3), stride=(1, 1), padding=(1, 1), bias=False)\n",
              "        (bn2): BatchNorm2d(64, eps=1e-05, momentum=0.1, affine=True, track_running_stats=True)\n",
              "      )\n",
              "      (1): BasicBlock(\n",
              "        (conv1): Conv2d(64, 64, kernel_size=(3, 3), stride=(1, 1), padding=(1, 1), bias=False)\n",
              "        (bn1): BatchNorm2d(64, eps=1e-05, momentum=0.1, affine=True, track_running_stats=True)\n",
              "        (relu): ReLU()\n",
              "        (conv2): Conv2d(64, 64, kernel_size=(3, 3), stride=(1, 1), padding=(1, 1), bias=False)\n",
              "        (bn2): BatchNorm2d(64, eps=1e-05, momentum=0.1, affine=True, track_running_stats=True)\n",
              "      )\n",
              "    )\n",
              "    (5): Sequential(\n",
              "      (0): BasicBlock(\n",
              "        (conv1): Conv2d(64, 128, kernel_size=(3, 3), stride=(2, 2), padding=(1, 1), bias=False)\n",
              "        (bn1): BatchNorm2d(128, eps=1e-05, momentum=0.1, affine=True, track_running_stats=True)\n",
              "        (relu): ReLU()\n",
              "        (conv2): Conv2d(128, 128, kernel_size=(3, 3), stride=(1, 1), padding=(1, 1), bias=False)\n",
              "        (bn2): BatchNorm2d(128, eps=1e-05, momentum=0.1, affine=True, track_running_stats=True)\n",
              "        (downsample): Sequential(\n",
              "          (0): Conv2d(64, 128, kernel_size=(1, 1), stride=(2, 2), bias=False)\n",
              "          (1): BatchNorm2d(128, eps=1e-05, momentum=0.1, affine=True, track_running_stats=True)\n",
              "        )\n",
              "      )\n",
              "      (1): BasicBlock(\n",
              "        (conv1): Conv2d(128, 128, kernel_size=(3, 3), stride=(1, 1), padding=(1, 1), bias=False)\n",
              "        (bn1): BatchNorm2d(128, eps=1e-05, momentum=0.1, affine=True, track_running_stats=True)\n",
              "        (relu): ReLU()\n",
              "        (conv2): Conv2d(128, 128, kernel_size=(3, 3), stride=(1, 1), padding=(1, 1), bias=False)\n",
              "        (bn2): BatchNorm2d(128, eps=1e-05, momentum=0.1, affine=True, track_running_stats=True)\n",
              "      )\n",
              "    )\n",
              "    (6): Sequential(\n",
              "      (0): BasicBlock(\n",
              "        (conv1): Conv2d(128, 256, kernel_size=(3, 3), stride=(2, 2), padding=(1, 1), bias=False)\n",
              "        (bn1): BatchNorm2d(256, eps=1e-05, momentum=0.1, affine=True, track_running_stats=True)\n",
              "        (relu): ReLU()\n",
              "        (conv2): Conv2d(256, 256, kernel_size=(3, 3), stride=(1, 1), padding=(1, 1), bias=False)\n",
              "        (bn2): BatchNorm2d(256, eps=1e-05, momentum=0.1, affine=True, track_running_stats=True)\n",
              "        (downsample): Sequential(\n",
              "          (0): Conv2d(128, 256, kernel_size=(1, 1), stride=(2, 2), bias=False)\n",
              "          (1): BatchNorm2d(256, eps=1e-05, momentum=0.1, affine=True, track_running_stats=True)\n",
              "        )\n",
              "      )\n",
              "      (1): BasicBlock(\n",
              "        (conv1): Conv2d(256, 256, kernel_size=(3, 3), stride=(1, 1), padding=(1, 1), bias=False)\n",
              "        (bn1): BatchNorm2d(256, eps=1e-05, momentum=0.1, affine=True, track_running_stats=True)\n",
              "        (relu): ReLU()\n",
              "        (conv2): Conv2d(256, 256, kernel_size=(3, 3), stride=(1, 1), padding=(1, 1), bias=False)\n",
              "        (bn2): BatchNorm2d(256, eps=1e-05, momentum=0.1, affine=True, track_running_stats=True)\n",
              "      )\n",
              "    )\n",
              "    (7): Sequential(\n",
              "      (0): BasicBlock(\n",
              "        (conv1): Conv2d(256, 512, kernel_size=(3, 3), stride=(2, 2), padding=(1, 1), bias=False)\n",
              "        (bn1): BatchNorm2d(512, eps=1e-05, momentum=0.1, affine=True, track_running_stats=True)\n",
              "        (relu): ReLU()\n",
              "        (conv2): Conv2d(512, 512, kernel_size=(3, 3), stride=(1, 1), padding=(1, 1), bias=False)\n",
              "        (bn2): BatchNorm2d(512, eps=1e-05, momentum=0.1, affine=True, track_running_stats=True)\n",
              "        (downsample): Sequential(\n",
              "          (0): Conv2d(256, 512, kernel_size=(1, 1), stride=(2, 2), bias=False)\n",
              "          (1): BatchNorm2d(512, eps=1e-05, momentum=0.1, affine=True, track_running_stats=True)\n",
              "        )\n",
              "      )\n",
              "      (1): BasicBlock(\n",
              "        (conv1): Conv2d(512, 512, kernel_size=(3, 3), stride=(1, 1), padding=(1, 1), bias=False)\n",
              "        (bn1): BatchNorm2d(512, eps=1e-05, momentum=0.1, affine=True, track_running_stats=True)\n",
              "        (relu): ReLU()\n",
              "        (conv2): Conv2d(512, 512, kernel_size=(3, 3), stride=(1, 1), padding=(1, 1), bias=False)\n",
              "        (bn2): BatchNorm2d(512, eps=1e-05, momentum=0.1, affine=True, track_running_stats=True)\n",
              "      )\n",
              "    )\n",
              "    (8): AdaptiveAvgPool2d(output_size=(1, 1))\n",
              "  )\n",
              "  (fc1): Sequential(\n",
              "    (0): Dropout(p=0.5, inplace=False)\n",
              "    (1): Linear(in_features=512, out_features=128, bias=True)\n",
              "    (2): ReLU()\n",
              "    (3): Dropout(p=0.5, inplace=False)\n",
              "  )\n",
              "  (fc): Sequential(\n",
              "    (0): Linear(in_features=512, out_features=3, bias=True)\n",
              "  )\n",
              ")"
            ]
          },
          "metadata": {},
          "execution_count": 6
        }
      ]
    },
    {
      "cell_type": "code",
      "source": [
        "from torch.utils.data import TensorDataset, DataLoader\n",
        "from torch import nn\n",
        "x = torch.load(\"drive/MyDrive/MNIST Feature Attribution/\" + \"x_subset.tensor\")\n",
        "y = torch.load(\"drive/MyDrive/MNIST Feature Attribution/\" + \"y_subset.tensor\")\n",
        "dataset = TensorDataset(x,nn.functional.one_hot(y,3))"
      ],
      "metadata": {
        "id": "Xus_IAr00wMX"
      },
      "execution_count": null,
      "outputs": []
    },
    {
      "cell_type": "code",
      "source": [
        "dataloader = DataLoader(dataset,5,drop_last = True)"
      ],
      "metadata": {
        "id": "Of3eBFYwx-TA"
      },
      "execution_count": null,
      "outputs": []
    },
    {
      "cell_type": "code",
      "source": [
        "!pip install -q captum\n",
        "\n",
        "from captum.attr import *"
      ],
      "metadata": {
        "colab": {
          "base_uri": "https://localhost:8080/"
        },
        "id": "kOELm90z3obv",
        "outputId": "19714bb8-dc71-4fb0-85ac-2ae465309601"
      },
      "execution_count": null,
      "outputs": [
        {
          "output_type": "stream",
          "name": "stdout",
          "text": [
            "\u001b[?25l\r\u001b[K     |▎                               | 10 kB 20.4 MB/s eta 0:00:01\r\u001b[K     |▌                               | 20 kB 11.3 MB/s eta 0:00:01\r\u001b[K     |▊                               | 30 kB 8.5 MB/s eta 0:00:01\r\u001b[K     |█                               | 40 kB 3.8 MB/s eta 0:00:01\r\u001b[K     |█▏                              | 51 kB 3.7 MB/s eta 0:00:01\r\u001b[K     |█▍                              | 61 kB 4.4 MB/s eta 0:00:01\r\u001b[K     |█▋                              | 71 kB 4.7 MB/s eta 0:00:01\r\u001b[K     |█▉                              | 81 kB 4.6 MB/s eta 0:00:01\r\u001b[K     |██                              | 92 kB 5.2 MB/s eta 0:00:01\r\u001b[K     |██▎                             | 102 kB 4.4 MB/s eta 0:00:01\r\u001b[K     |██▌                             | 112 kB 4.4 MB/s eta 0:00:01\r\u001b[K     |██▊                             | 122 kB 4.4 MB/s eta 0:00:01\r\u001b[K     |███                             | 133 kB 4.4 MB/s eta 0:00:01\r\u001b[K     |███▏                            | 143 kB 4.4 MB/s eta 0:00:01\r\u001b[K     |███▌                            | 153 kB 4.4 MB/s eta 0:00:01\r\u001b[K     |███▊                            | 163 kB 4.4 MB/s eta 0:00:01\r\u001b[K     |████                            | 174 kB 4.4 MB/s eta 0:00:01\r\u001b[K     |████▏                           | 184 kB 4.4 MB/s eta 0:00:01\r\u001b[K     |████▍                           | 194 kB 4.4 MB/s eta 0:00:01\r\u001b[K     |████▋                           | 204 kB 4.4 MB/s eta 0:00:01\r\u001b[K     |████▉                           | 215 kB 4.4 MB/s eta 0:00:01\r\u001b[K     |█████                           | 225 kB 4.4 MB/s eta 0:00:01\r\u001b[K     |█████▎                          | 235 kB 4.4 MB/s eta 0:00:01\r\u001b[K     |█████▌                          | 245 kB 4.4 MB/s eta 0:00:01\r\u001b[K     |█████▊                          | 256 kB 4.4 MB/s eta 0:00:01\r\u001b[K     |██████                          | 266 kB 4.4 MB/s eta 0:00:01\r\u001b[K     |██████▏                         | 276 kB 4.4 MB/s eta 0:00:01\r\u001b[K     |██████▍                         | 286 kB 4.4 MB/s eta 0:00:01\r\u001b[K     |██████▋                         | 296 kB 4.4 MB/s eta 0:00:01\r\u001b[K     |███████                         | 307 kB 4.4 MB/s eta 0:00:01\r\u001b[K     |███████▏                        | 317 kB 4.4 MB/s eta 0:00:01\r\u001b[K     |███████▍                        | 327 kB 4.4 MB/s eta 0:00:01\r\u001b[K     |███████▋                        | 337 kB 4.4 MB/s eta 0:00:01\r\u001b[K     |███████▉                        | 348 kB 4.4 MB/s eta 0:00:01\r\u001b[K     |████████                        | 358 kB 4.4 MB/s eta 0:00:01\r\u001b[K     |████████▎                       | 368 kB 4.4 MB/s eta 0:00:01\r\u001b[K     |████████▌                       | 378 kB 4.4 MB/s eta 0:00:01\r\u001b[K     |████████▊                       | 389 kB 4.4 MB/s eta 0:00:01\r\u001b[K     |█████████                       | 399 kB 4.4 MB/s eta 0:00:01\r\u001b[K     |█████████▏                      | 409 kB 4.4 MB/s eta 0:00:01\r\u001b[K     |█████████▍                      | 419 kB 4.4 MB/s eta 0:00:01\r\u001b[K     |█████████▋                      | 430 kB 4.4 MB/s eta 0:00:01\r\u001b[K     |█████████▉                      | 440 kB 4.4 MB/s eta 0:00:01\r\u001b[K     |██████████▏                     | 450 kB 4.4 MB/s eta 0:00:01\r\u001b[K     |██████████▍                     | 460 kB 4.4 MB/s eta 0:00:01\r\u001b[K     |██████████▋                     | 471 kB 4.4 MB/s eta 0:00:01\r\u001b[K     |██████████▉                     | 481 kB 4.4 MB/s eta 0:00:01\r\u001b[K     |███████████                     | 491 kB 4.4 MB/s eta 0:00:01\r\u001b[K     |███████████▎                    | 501 kB 4.4 MB/s eta 0:00:01\r\u001b[K     |███████████▌                    | 512 kB 4.4 MB/s eta 0:00:01\r\u001b[K     |███████████▊                    | 522 kB 4.4 MB/s eta 0:00:01\r\u001b[K     |████████████                    | 532 kB 4.4 MB/s eta 0:00:01\r\u001b[K     |████████████▏                   | 542 kB 4.4 MB/s eta 0:00:01\r\u001b[K     |████████████▍                   | 552 kB 4.4 MB/s eta 0:00:01\r\u001b[K     |████████████▋                   | 563 kB 4.4 MB/s eta 0:00:01\r\u001b[K     |████████████▉                   | 573 kB 4.4 MB/s eta 0:00:01\r\u001b[K     |█████████████                   | 583 kB 4.4 MB/s eta 0:00:01\r\u001b[K     |█████████████▎                  | 593 kB 4.4 MB/s eta 0:00:01\r\u001b[K     |█████████████▋                  | 604 kB 4.4 MB/s eta 0:00:01\r\u001b[K     |█████████████▉                  | 614 kB 4.4 MB/s eta 0:00:01\r\u001b[K     |██████████████                  | 624 kB 4.4 MB/s eta 0:00:01\r\u001b[K     |██████████████▎                 | 634 kB 4.4 MB/s eta 0:00:01\r\u001b[K     |██████████████▌                 | 645 kB 4.4 MB/s eta 0:00:01\r\u001b[K     |██████████████▊                 | 655 kB 4.4 MB/s eta 0:00:01\r\u001b[K     |███████████████                 | 665 kB 4.4 MB/s eta 0:00:01\r\u001b[K     |███████████████▏                | 675 kB 4.4 MB/s eta 0:00:01\r\u001b[K     |███████████████▍                | 686 kB 4.4 MB/s eta 0:00:01\r\u001b[K     |███████████████▋                | 696 kB 4.4 MB/s eta 0:00:01\r\u001b[K     |███████████████▉                | 706 kB 4.4 MB/s eta 0:00:01\r\u001b[K     |████████████████                | 716 kB 4.4 MB/s eta 0:00:01\r\u001b[K     |████████████████▎               | 727 kB 4.4 MB/s eta 0:00:01\r\u001b[K     |████████████████▌               | 737 kB 4.4 MB/s eta 0:00:01\r\u001b[K     |████████████████▊               | 747 kB 4.4 MB/s eta 0:00:01\r\u001b[K     |█████████████████               | 757 kB 4.4 MB/s eta 0:00:01\r\u001b[K     |█████████████████▎              | 768 kB 4.4 MB/s eta 0:00:01\r\u001b[K     |█████████████████▌              | 778 kB 4.4 MB/s eta 0:00:01\r\u001b[K     |█████████████████▊              | 788 kB 4.4 MB/s eta 0:00:01\r\u001b[K     |██████████████████              | 798 kB 4.4 MB/s eta 0:00:01\r\u001b[K     |██████████████████▏             | 808 kB 4.4 MB/s eta 0:00:01\r\u001b[K     |██████████████████▍             | 819 kB 4.4 MB/s eta 0:00:01\r\u001b[K     |██████████████████▋             | 829 kB 4.4 MB/s eta 0:00:01\r\u001b[K     |██████████████████▉             | 839 kB 4.4 MB/s eta 0:00:01\r\u001b[K     |███████████████████             | 849 kB 4.4 MB/s eta 0:00:01\r\u001b[K     |███████████████████▎            | 860 kB 4.4 MB/s eta 0:00:01\r\u001b[K     |███████████████████▌            | 870 kB 4.4 MB/s eta 0:00:01\r\u001b[K     |███████████████████▊            | 880 kB 4.4 MB/s eta 0:00:01\r\u001b[K     |████████████████████            | 890 kB 4.4 MB/s eta 0:00:01\r\u001b[K     |████████████████████▎           | 901 kB 4.4 MB/s eta 0:00:01\r\u001b[K     |████████████████████▌           | 911 kB 4.4 MB/s eta 0:00:01\r\u001b[K     |████████████████████▊           | 921 kB 4.4 MB/s eta 0:00:01\r\u001b[K     |█████████████████████           | 931 kB 4.4 MB/s eta 0:00:01\r\u001b[K     |█████████████████████▏          | 942 kB 4.4 MB/s eta 0:00:01\r\u001b[K     |█████████████████████▍          | 952 kB 4.4 MB/s eta 0:00:01\r\u001b[K     |█████████████████████▋          | 962 kB 4.4 MB/s eta 0:00:01\r\u001b[K     |█████████████████████▉          | 972 kB 4.4 MB/s eta 0:00:01\r\u001b[K     |██████████████████████          | 983 kB 4.4 MB/s eta 0:00:01\r\u001b[K     |██████████████████████▎         | 993 kB 4.4 MB/s eta 0:00:01\r\u001b[K     |██████████████████████▌         | 1.0 MB 4.4 MB/s eta 0:00:01\r\u001b[K     |██████████████████████▊         | 1.0 MB 4.4 MB/s eta 0:00:01\r\u001b[K     |███████████████████████         | 1.0 MB 4.4 MB/s eta 0:00:01\r\u001b[K     |███████████████████████▏        | 1.0 MB 4.4 MB/s eta 0:00:01\r\u001b[K     |███████████████████████▍        | 1.0 MB 4.4 MB/s eta 0:00:01\r\u001b[K     |███████████████████████▊        | 1.1 MB 4.4 MB/s eta 0:00:01\r\u001b[K     |████████████████████████        | 1.1 MB 4.4 MB/s eta 0:00:01\r\u001b[K     |████████████████████████▏       | 1.1 MB 4.4 MB/s eta 0:00:01\r\u001b[K     |████████████████████████▍       | 1.1 MB 4.4 MB/s eta 0:00:01\r\u001b[K     |████████████████████████▋       | 1.1 MB 4.4 MB/s eta 0:00:01\r\u001b[K     |████████████████████████▉       | 1.1 MB 4.4 MB/s eta 0:00:01\r\u001b[K     |█████████████████████████       | 1.1 MB 4.4 MB/s eta 0:00:01\r\u001b[K     |█████████████████████████▎      | 1.1 MB 4.4 MB/s eta 0:00:01\r\u001b[K     |█████████████████████████▌      | 1.1 MB 4.4 MB/s eta 0:00:01\r\u001b[K     |█████████████████████████▊      | 1.1 MB 4.4 MB/s eta 0:00:01\r\u001b[K     |██████████████████████████      | 1.2 MB 4.4 MB/s eta 0:00:01\r\u001b[K     |██████████████████████████▏     | 1.2 MB 4.4 MB/s eta 0:00:01\r\u001b[K     |██████████████████████████▍     | 1.2 MB 4.4 MB/s eta 0:00:01\r\u001b[K     |██████████████████████████▋     | 1.2 MB 4.4 MB/s eta 0:00:01\r\u001b[K     |███████████████████████████     | 1.2 MB 4.4 MB/s eta 0:00:01\r\u001b[K     |███████████████████████████▏    | 1.2 MB 4.4 MB/s eta 0:00:01\r\u001b[K     |███████████████████████████▍    | 1.2 MB 4.4 MB/s eta 0:00:01\r\u001b[K     |███████████████████████████▋    | 1.2 MB 4.4 MB/s eta 0:00:01\r\u001b[K     |███████████████████████████▉    | 1.2 MB 4.4 MB/s eta 0:00:01\r\u001b[K     |████████████████████████████    | 1.2 MB 4.4 MB/s eta 0:00:01\r\u001b[K     |████████████████████████████▎   | 1.3 MB 4.4 MB/s eta 0:00:01\r\u001b[K     |████████████████████████████▌   | 1.3 MB 4.4 MB/s eta 0:00:01\r\u001b[K     |████████████████████████████▊   | 1.3 MB 4.4 MB/s eta 0:00:01\r\u001b[K     |█████████████████████████████   | 1.3 MB 4.4 MB/s eta 0:00:01\r\u001b[K     |█████████████████████████████▏  | 1.3 MB 4.4 MB/s eta 0:00:01\r\u001b[K     |█████████████████████████████▍  | 1.3 MB 4.4 MB/s eta 0:00:01\r\u001b[K     |█████████████████████████████▋  | 1.3 MB 4.4 MB/s eta 0:00:01\r\u001b[K     |█████████████████████████████▉  | 1.3 MB 4.4 MB/s eta 0:00:01\r\u001b[K     |██████████████████████████████  | 1.3 MB 4.4 MB/s eta 0:00:01\r\u001b[K     |██████████████████████████████▍ | 1.4 MB 4.4 MB/s eta 0:00:01\r\u001b[K     |██████████████████████████████▋ | 1.4 MB 4.4 MB/s eta 0:00:01\r\u001b[K     |██████████████████████████████▉ | 1.4 MB 4.4 MB/s eta 0:00:01\r\u001b[K     |███████████████████████████████ | 1.4 MB 4.4 MB/s eta 0:00:01\r\u001b[K     |███████████████████████████████▎| 1.4 MB 4.4 MB/s eta 0:00:01\r\u001b[K     |███████████████████████████████▌| 1.4 MB 4.4 MB/s eta 0:00:01\r\u001b[K     |███████████████████████████████▊| 1.4 MB 4.4 MB/s eta 0:00:01\r\u001b[K     |████████████████████████████████| 1.4 MB 4.4 MB/s eta 0:00:01\r\u001b[K     |████████████████████████████████| 1.4 MB 4.4 MB/s \n",
            "\u001b[?25h"
          ]
        }
      ]
    },
    {
      "cell_type": "code",
      "source": [
        "ig = IntegratedGradients(model)"
      ],
      "metadata": {
        "id": "O42E4e9YAGe0"
      },
      "execution_count": null,
      "outputs": []
    },
    {
      "cell_type": "code",
      "source": [
        "all_attributions = []\n",
        "# you do 5 at a time here\n",
        "for images, labels in dataloader:\n",
        "  # send images to the GPU\n",
        "  images = images.to(device)\n",
        "  # create new class-representative labels\n",
        "  new_labels = []\n",
        "  for t in labels.squeeze():\n",
        "    if torch.equal(t, torch.tensor([1,0,0])):\n",
        "      new_labels.append(0)\n",
        "    elif torch.equal(t, torch.tensor([0,1,0])):\n",
        "      new_labels.append(1)\n",
        "    elif torch.equal(t, torch.tensor([0,0,1])):\n",
        "      new_labels.append(2)\n",
        "  new_labels = torch.tensor(new_labels,device=device)\n",
        "  # get the attributions\n",
        "  attributions = ig.attribute(images, target=new_labels, baselines = (images * 0), n_steps = 10, internal_batch_size = 10)\n",
        "  all_attributions.append(attributions.cpu())\n",
        "  del images, labels, attributions\n",
        "  torch.cuda.empty_cache()"
      ],
      "metadata": {
        "id": "Id8xi7V49tl0"
      },
      "execution_count": null,
      "outputs": []
    },
    {
      "cell_type": "code",
      "source": [
        "# full\n",
        "len(all_attributions)"
      ],
      "metadata": {
        "colab": {
          "base_uri": "https://localhost:8080/"
        },
        "id": "SYDJQCtSADbt",
        "outputId": "6719dfb2-623b-499f-d7cc-5511c8989a82"
      },
      "execution_count": null,
      "outputs": [
        {
          "output_type": "execute_result",
          "data": {
            "text/plain": [
              "10"
            ]
          },
          "metadata": {},
          "execution_count": 13
        }
      ]
    },
    {
      "cell_type": "code",
      "source": [
        "all_attributions[0].shape"
      ],
      "metadata": {
        "colab": {
          "base_uri": "https://localhost:8080/"
        },
        "id": "Jv-0dtAfnCdN",
        "outputId": "c2504dd7-ca5d-42eb-b364-a1547314fda5"
      },
      "execution_count": null,
      "outputs": [
        {
          "output_type": "execute_result",
          "data": {
            "text/plain": [
              "torch.Size([5, 4, 3, 200, 1024])"
            ]
          },
          "metadata": {},
          "execution_count": 15
        }
      ]
    },
    {
      "cell_type": "code",
      "source": [
        "combined_attributions = torch.zeros(50, 4, 3, 200, 1024)"
      ],
      "metadata": {
        "id": "aQxNVp-gAaP8"
      },
      "execution_count": null,
      "outputs": []
    },
    {
      "cell_type": "code",
      "source": [
        "t = [i*5 for i in range(11)]\n",
        "pairs = zip(t[::2], t[1::2])\n",
        "\n",
        "for idx, pair in enumerate(pairs):\n",
        "  combined_attributions[pair[0]:pair[1]] = all_attributions[idx]"
      ],
      "metadata": {
        "id": "Q44Y4se3BSM9"
      },
      "execution_count": null,
      "outputs": []
    },
    {
      "cell_type": "code",
      "source": [
        "combined_attributions.shape"
      ],
      "metadata": {
        "colab": {
          "base_uri": "https://localhost:8080/"
        },
        "id": "nK1z53CLpJH-",
        "outputId": "206c2b33-e8f7-4092-d4c9-7abe1e47d6d1"
      },
      "execution_count": null,
      "outputs": [
        {
          "output_type": "execute_result",
          "data": {
            "text/plain": [
              "torch.Size([50, 4, 3, 200, 1024])"
            ]
          },
          "metadata": {},
          "execution_count": 45
        }
      ]
    },
    {
      "cell_type": "code",
      "source": [
        "!pip install -q umap-learn[plot]\n",
        "\n",
        "import umap\n",
        "\n",
        "reducerFish = umap.UMAP(n_neighbors = 20,min_dist=0.5, verbose = True)\n",
        "embeddingFish = reducerFish.fit_transform(torch.reshape(combined_attributions, (50, 2457600)))"
      ],
      "metadata": {
        "colab": {
          "base_uri": "https://localhost:8080/",
          "height": 868,
          "referenced_widgets": [
            "b6bcc02c9a0f4b07808f0283ebba128f",
            "ef41befb8075476b82f25995b4118e58",
            "37a5a7ec64954a12b93b323b9e15b8b9",
            "dc31a5ef2a7c4258adcb320864994bd3",
            "e4b94fa7459f4609858874dcaaf07edb",
            "fc1402bc86a14636b338e0e4c6e60d6c",
            "a7b7a053f66b42ab88f1b02c942ab98d",
            "0e351c898058432fbc916382b940df76",
            "1f537cad3b814eedaf86da85c18ca499",
            "59847ef7fa9346d79f7f1d0d5be2499f",
            "618eb62b266c4f02aeb2d07cd6fceaee"
          ]
        },
        "id": "Tu-bfSG7q7yy",
        "outputId": "eee24f17-8f62-4b75-e6fd-78b854584333"
      },
      "execution_count": null,
      "outputs": [
        {
          "output_type": "stream",
          "name": "stdout",
          "text": [
            "\u001b[K     |████████████████████████████████| 86 kB 2.2 MB/s \n",
            "\u001b[K     |████████████████████████████████| 1.1 MB 7.6 MB/s \n",
            "\u001b[K     |████████████████████████████████| 15.8 MB 487 kB/s \n",
            "\u001b[K     |████████████████████████████████| 76 kB 4.6 MB/s \n",
            "\u001b[K     |████████████████████████████████| 134 kB 46.0 MB/s \n",
            "\u001b[K     |████████████████████████████████| 837 kB 39.6 MB/s \n",
            "\u001b[K     |████████████████████████████████| 830 kB 49.4 MB/s \n",
            "\u001b[K     |████████████████████████████████| 822 kB 48.2 MB/s \n",
            "\u001b[K     |████████████████████████████████| 802 kB 48.1 MB/s \n",
            "\u001b[K     |████████████████████████████████| 802 kB 29.5 MB/s \n",
            "\u001b[K     |████████████████████████████████| 793 kB 34.4 MB/s \n",
            "\u001b[K     |████████████████████████████████| 793 kB 54.2 MB/s \n",
            "\u001b[K     |████████████████████████████████| 791 kB 39.3 MB/s \n",
            "\u001b[K     |████████████████████████████████| 786 kB 36.8 MB/s \n",
            "\u001b[K     |████████████████████████████████| 779 kB 45.6 MB/s \n",
            "\u001b[K     |████████████████████████████████| 778 kB 53.4 MB/s \n",
            "\u001b[K     |████████████████████████████████| 776 kB 14.5 MB/s \n",
            "\u001b[K     |████████████████████████████████| 769 kB 26.8 MB/s \n",
            "\u001b[K     |████████████████████████████████| 766 kB 47.0 MB/s \n",
            "\u001b[K     |████████████████████████████████| 1.0 MB 44.6 MB/s \n",
            "\u001b[K     |████████████████████████████████| 722 kB 41.7 MB/s \n",
            "\u001b[K     |████████████████████████████████| 722 kB 27.9 MB/s \n",
            "\u001b[K     |████████████████████████████████| 715 kB 48.2 MB/s \n",
            "\u001b[K     |████████████████████████████████| 705 kB 31.4 MB/s \n",
            "\u001b[K     |████████████████████████████████| 699 kB 48.1 MB/s \n",
            "\u001b[K     |████████████████████████████████| 696 kB 48.3 MB/s \n",
            "\u001b[K     |████████████████████████████████| 684 kB 48.3 MB/s \n",
            "\u001b[K     |████████████████████████████████| 679 kB 50.7 MB/s \n",
            "\u001b[K     |████████████████████████████████| 675 kB 51.9 MB/s \n",
            "\u001b[K     |████████████████████████████████| 675 kB 49.2 MB/s \n",
            "\u001b[K     |████████████████████████████████| 672 kB 49.9 MB/s \n",
            "\u001b[K     |████████████████████████████████| 671 kB 46.6 MB/s \n",
            "\u001b[K     |████████████████████████████████| 669 kB 54.2 MB/s \n",
            "\u001b[K     |████████████████████████████████| 656 kB 50.0 MB/s \n",
            "\u001b[?25h  Building wheel for umap-learn (setup.py) ... \u001b[?25l\u001b[?25hdone\n",
            "  Building wheel for pynndescent (setup.py) ... \u001b[?25l\u001b[?25hdone\n",
            "  Building wheel for datashape (setup.py) ... \u001b[?25l\u001b[?25hdone\n",
            "\u001b[31mERROR: pip's dependency resolver does not currently take into account all the packages that are installed. This behaviour is the source of the following dependency conflicts.\n",
            "gym 0.17.3 requires cloudpickle<1.7.0,>=1.2.0, but you have cloudpickle 2.0.0 which is incompatible.\u001b[0m\n",
            "UMAP(min_dist=0.5, n_neighbors=20, verbose=True)\n"
          ]
        },
        {
          "output_type": "stream",
          "name": "stderr",
          "text": [
            "/usr/local/lib/python3.7/dist-packages/numba/np/ufunc/parallel.py:363: NumbaWarning: The TBB threading layer requires TBB version 2019.5 or later i.e., TBB_INTERFACE_VERSION >= 11005. Found TBB_INTERFACE_VERSION = 9107. The TBB threading layer is disabled.\n",
            "  warnings.warn(problem)\n"
          ]
        },
        {
          "output_type": "stream",
          "name": "stdout",
          "text": [
            "Wed Mar  9 07:56:23 2022 Construct fuzzy simplicial set\n",
            "Wed Mar  9 07:56:25 2022 Finding Nearest Neighbors\n",
            "Wed Mar  9 07:56:29 2022 Finished Nearest Neighbor Search\n",
            "Wed Mar  9 07:56:32 2022 Construct embedding\n"
          ]
        },
        {
          "output_type": "display_data",
          "data": {
            "application/vnd.jupyter.widget-view+json": {
              "model_id": "b6bcc02c9a0f4b07808f0283ebba128f",
              "version_minor": 0,
              "version_major": 2
            },
            "text/plain": [
              "Epochs completed:   0%|            0/500 [00:00]"
            ]
          },
          "metadata": {}
        },
        {
          "output_type": "stream",
          "name": "stdout",
          "text": [
            "Wed Mar  9 07:56:36 2022 Finished embedding\n"
          ]
        }
      ]
    },
    {
      "cell_type": "code",
      "source": [
        "combined_attributions.shape"
      ],
      "metadata": {
        "colab": {
          "base_uri": "https://localhost:8080/"
        },
        "id": "m83yuCIor9BQ",
        "outputId": "9f864d55-1baf-4cac-e9b1-05233360c72e"
      },
      "execution_count": null,
      "outputs": [
        {
          "output_type": "execute_result",
          "data": {
            "text/plain": [
              "torch.Size([50, 4, 3, 200, 1024])"
            ]
          },
          "metadata": {},
          "execution_count": 53
        }
      ]
    },
    {
      "cell_type": "code",
      "source": [
        "x.shape"
      ],
      "metadata": {
        "colab": {
          "base_uri": "https://localhost:8080/"
        },
        "id": "iYlDZztusZkr",
        "outputId": "ae3442a9-637b-4218-a038-b2fb131739b5"
      },
      "execution_count": null,
      "outputs": [
        {
          "output_type": "execute_result",
          "data": {
            "text/plain": [
              "torch.Size([50, 4, 3, 200, 1024])"
            ]
          },
          "metadata": {},
          "execution_count": 54
        }
      ]
    },
    {
      "cell_type": "code",
      "source": [
        "from io import BytesIO\n",
        "import base64\n",
        "from PIL import Image\n",
        "\n",
        "from bokeh import plotting, palettes\n",
        "from bokeh.models import HoverTool, ColumnDataSource, CategoricalColorMapper\n",
        "import numpy as np\n",
        "import pandas as pd\n",
        "\n",
        "plotting.output_notebook()"
      ],
      "metadata": {
        "id": "X-LJQHOTuj-X"
      },
      "execution_count": null,
      "outputs": []
    },
    {
      "cell_type": "code",
      "source": [
        "import matplotlib.colors as mplc"
      ],
      "metadata": {
        "id": "zueg8C8Ith6A"
      },
      "execution_count": null,
      "outputs": []
    },
    {
      "cell_type": "code",
      "source": [
        "def embeddableImage(data):\n",
        "    # data should be [4, 3, 200, 1024] instance\n",
        "    encoded_subimages = []\n",
        "    for sub_image in data:\n",
        "      # need to normalize each image to be between 0.0 to 1.0\n",
        "      # can assume that everything is already a numpy array\n",
        "      norm = mplc.Normalize(vmin = np.amin(sub_image), vmax = np.amax(sub_image))\n",
        "      img_data = (norm(sub_image) * 255).astype(np.uint8).transpose(1, 2, 0)\n",
        "      image = Image.fromarray(img_data, mode='RGB')\n",
        "      buffer = BytesIO()\n",
        "      image.save(buffer, format='png')\n",
        "      encoded_subimages.append('data:image/png;base64,' + base64.b64encode(buffer.getvalue()).decode())\n",
        "    return encoded_subimages"
      ],
      "metadata": {
        "id": "FcXsPSf0sact"
      },
      "execution_count": null,
      "outputs": []
    },
    {
      "cell_type": "code",
      "source": [
        "import pandas as pd\n",
        "import numpy as np\n",
        "\n",
        "def umapPlot(embedding, x, y, yTrue=None, title=''):\n",
        "    \"\"\" Plot the embedding of X and y with popovers using Bokeh \"\"\"\n",
        "    \n",
        "    df = pd.DataFrame(embedding, columns=('x', 'y'))\n",
        "    # for each image should be able to apply the embeddable image function\n",
        "    # list of lists [rows x columns], x instances with 4 columns\n",
        "    sub_images = np.array(list(map(embeddableImage, x)))\n",
        "    for i in range(4):\n",
        "      df['image'+str(i+1)] = sub_images[:,i]\n",
        "    df['class'] = [str(d) for d in y]\n",
        "    df['index'] = list(range(len(y)))\n",
        "    if yTrue is not None:\n",
        "        df['trueDigit'] = [str(d) for d in yTrue]\n",
        "\n",
        "    datasource = ColumnDataSource(df)\n",
        "\n",
        "    colorMapping = CategoricalColorMapper(factors=np.arange(10).astype(np.str), palette=palettes.Spectral10)\n",
        "\n",
        "    plotFigure = plotting.figure(\n",
        "        title=title,\n",
        "        plot_width=600,\n",
        "        plot_height=600,\n",
        "        tools=('pan, wheel_zoom, reset')\n",
        "    )\n",
        "\n",
        "    if yTrue is None:\n",
        "        tooltip = \"\"\"\n",
        "            <div>\n",
        "                <div>\n",
        "                    <img src='@image1' style='float: left; width:256px; height:50px; margin: 5px 5px 5px 5px'/>\n",
        "                </div>\n",
        "                <div>\n",
        "                    <img src='@image2' style='float: left; width:256px; height:50px; margin: 5px 5px 5px 5px'/>\n",
        "                </div>\n",
        "                <div>\n",
        "                    <img src='@image3' style='float: left; width:256px; height:50px; margin: 5px 5px 5px 5px'/>\n",
        "                </div>\n",
        "                <div>\n",
        "                    <img src='@image4' style='float: left; width:256px; height:50px; margin: 5px 5px 5px 5px'/>\n",
        "                </div>\n",
        "                <div>\n",
        "                    <span style='font-size: 16px; color: #224499'>Class:</span>\n",
        "                    <span style='font-size: 18px'>@class</span>\n",
        "                    <span style='font-size: 16px; color: #224499'>Index:</span>\n",
        "                    <span style='font-size: 18px'>@index</span>\n",
        "                </div>\n",
        "            </div>\n",
        "            \"\"\"\n",
        "    else:\n",
        "        tooltip = \"\"\"\n",
        "            <div>\n",
        "                <div>\n",
        "                    <img src='@image' style='float: left; margin: 5px 5px 5px 5px'/>\n",
        "                </div>\n",
        "                <div>\n",
        "                    <span style='font-size: 16px; color: #224499'>Digit:</span>\n",
        "                    <span style='font-size: 18px'>@digit (true: @trueDigit)</span>\n",
        "                </div>\n",
        "            </div>\n",
        "            \"\"\"\n",
        "    plotFigure.add_tools(HoverTool(tooltips=tooltip))\n",
        "\n",
        "    plotFigure.circle(\n",
        "        'x', 'y',\n",
        "        source=datasource,\n",
        "        color=dict(field='class', transform=colorMapping),\n",
        "        line_alpha=0.6, fill_alpha=0.6, size=8\n",
        "    )\n",
        "    plotting.show(plotFigure)\n",
        "    \n",
        "    return plotFigure"
      ],
      "metadata": {
        "id": "utWREX3dskDj"
      },
      "execution_count": null,
      "outputs": []
    },
    {
      "cell_type": "code",
      "source": [
        "fig = umapPlot(embeddingFish, combined_attributions.numpy(), y.squeeze().numpy(), title='UMAP projection of the Zebrafish dataset with Integrated Gradients Applied')"
      ],
      "metadata": {
        "colab": {
          "base_uri": "https://localhost:8080/",
          "height": 71
        },
        "id": "3vxPUq1juNCX",
        "outputId": "ef0f2160-6d5d-4fa1-eb55-77ed54a106d5"
      },
      "execution_count": null,
      "outputs": [
        {
          "output_type": "stream",
          "name": "stderr",
          "text": [
            "/usr/local/lib/python3.7/dist-packages/ipykernel_launcher.py:20: DeprecationWarning: `np.str` is a deprecated alias for the builtin `str`. To silence this warning, use `str` by itself. Doing this will not modify any behavior and is safe. If you specifically wanted the numpy scalar type, use `np.str_` here.\n",
            "Deprecated in NumPy 1.20; for more details and guidance: https://numpy.org/devdocs/release/1.20.0-notes.html#deprecations\n"
          ]
        },
        {
          "output_type": "display_data",
          "data": {
            "application/javascript": [
              "\n",
              "(function(root) {\n",
              "  function now() {\n",
              "    return new Date();\n",
              "  }\n",
              "\n",
              "  var force = true;\n",
              "\n",
              "  if (typeof root._bokeh_onload_callbacks === \"undefined\" || force === true) {\n",
              "    root._bokeh_onload_callbacks = [];\n",
              "    root._bokeh_is_loading = undefined;\n",
              "  }\n",
              "\n",
              "  var JS_MIME_TYPE = 'application/javascript';\n",
              "  var HTML_MIME_TYPE = 'text/html';\n",
              "  var EXEC_MIME_TYPE = 'application/vnd.bokehjs_exec.v0+json';\n",
              "  var CLASS_NAME = 'output_bokeh rendered_html';\n",
              "\n",
              "  /**\n",
              "   * Render data to the DOM node\n",
              "   */\n",
              "  function render(props, node) {\n",
              "    var script = document.createElement(\"script\");\n",
              "    node.appendChild(script);\n",
              "  }\n",
              "\n",
              "  /**\n",
              "   * Handle when an output is cleared or removed\n",
              "   */\n",
              "  function handleClearOutput(event, handle) {\n",
              "    var cell = handle.cell;\n",
              "\n",
              "    var id = cell.output_area._bokeh_element_id;\n",
              "    var server_id = cell.output_area._bokeh_server_id;\n",
              "    // Clean up Bokeh references\n",
              "    if (id != null && id in Bokeh.index) {\n",
              "      Bokeh.index[id].model.document.clear();\n",
              "      delete Bokeh.index[id];\n",
              "    }\n",
              "\n",
              "    if (server_id !== undefined) {\n",
              "      // Clean up Bokeh references\n",
              "      var cmd = \"from bokeh.io.state import curstate; print(curstate().uuid_to_server['\" + server_id + \"'].get_sessions()[0].document.roots[0]._id)\";\n",
              "      cell.notebook.kernel.execute(cmd, {\n",
              "        iopub: {\n",
              "          output: function(msg) {\n",
              "            var id = msg.content.text.trim();\n",
              "            if (id in Bokeh.index) {\n",
              "              Bokeh.index[id].model.document.clear();\n",
              "              delete Bokeh.index[id];\n",
              "            }\n",
              "          }\n",
              "        }\n",
              "      });\n",
              "      // Destroy server and session\n",
              "      var cmd = \"import bokeh.io.notebook as ion; ion.destroy_server('\" + server_id + \"')\";\n",
              "      cell.notebook.kernel.execute(cmd);\n",
              "    }\n",
              "  }\n",
              "\n",
              "  /**\n",
              "   * Handle when a new output is added\n",
              "   */\n",
              "  function handleAddOutput(event, handle) {\n",
              "    var output_area = handle.output_area;\n",
              "    var output = handle.output;\n",
              "\n",
              "    // limit handleAddOutput to display_data with EXEC_MIME_TYPE content only\n",
              "    if ((output.output_type != \"display_data\") || (!Object.prototype.hasOwnProperty.call(output.data, EXEC_MIME_TYPE))) {\n",
              "      return\n",
              "    }\n",
              "\n",
              "    var toinsert = output_area.element.find(\".\" + CLASS_NAME.split(' ')[0]);\n",
              "\n",
              "    if (output.metadata[EXEC_MIME_TYPE][\"id\"] !== undefined) {\n",
              "      toinsert[toinsert.length - 1].firstChild.textContent = output.data[JS_MIME_TYPE];\n",
              "      // store reference to embed id on output_area\n",
              "      output_area._bokeh_element_id = output.metadata[EXEC_MIME_TYPE][\"id\"];\n",
              "    }\n",
              "    if (output.metadata[EXEC_MIME_TYPE][\"server_id\"] !== undefined) {\n",
              "      var bk_div = document.createElement(\"div\");\n",
              "      bk_div.innerHTML = output.data[HTML_MIME_TYPE];\n",
              "      var script_attrs = bk_div.children[0].attributes;\n",
              "      for (var i = 0; i < script_attrs.length; i++) {\n",
              "        toinsert[toinsert.length - 1].firstChild.setAttribute(script_attrs[i].name, script_attrs[i].value);\n",
              "        toinsert[toinsert.length - 1].firstChild.textContent = bk_div.children[0].textContent\n",
              "      }\n",
              "      // store reference to server id on output_area\n",
              "      output_area._bokeh_server_id = output.metadata[EXEC_MIME_TYPE][\"server_id\"];\n",
              "    }\n",
              "  }\n",
              "\n",
              "  function register_renderer(events, OutputArea) {\n",
              "\n",
              "    function append_mime(data, metadata, element) {\n",
              "      // create a DOM node to render to\n",
              "      var toinsert = this.create_output_subarea(\n",
              "        metadata,\n",
              "        CLASS_NAME,\n",
              "        EXEC_MIME_TYPE\n",
              "      );\n",
              "      this.keyboard_manager.register_events(toinsert);\n",
              "      // Render to node\n",
              "      var props = {data: data, metadata: metadata[EXEC_MIME_TYPE]};\n",
              "      render(props, toinsert[toinsert.length - 1]);\n",
              "      element.append(toinsert);\n",
              "      return toinsert\n",
              "    }\n",
              "\n",
              "    /* Handle when an output is cleared or removed */\n",
              "    events.on('clear_output.CodeCell', handleClearOutput);\n",
              "    events.on('delete.Cell', handleClearOutput);\n",
              "\n",
              "    /* Handle when a new output is added */\n",
              "    events.on('output_added.OutputArea', handleAddOutput);\n",
              "\n",
              "    /**\n",
              "     * Register the mime type and append_mime function with output_area\n",
              "     */\n",
              "    OutputArea.prototype.register_mime_type(EXEC_MIME_TYPE, append_mime, {\n",
              "      /* Is output safe? */\n",
              "      safe: true,\n",
              "      /* Index of renderer in `output_area.display_order` */\n",
              "      index: 0\n",
              "    });\n",
              "  }\n",
              "\n",
              "  // register the mime type if in Jupyter Notebook environment and previously unregistered\n",
              "  if (root.Jupyter !== undefined) {\n",
              "    var events = require('base/js/events');\n",
              "    var OutputArea = require('notebook/js/outputarea').OutputArea;\n",
              "\n",
              "    if (OutputArea.prototype.mime_types().indexOf(EXEC_MIME_TYPE) == -1) {\n",
              "      register_renderer(events, OutputArea);\n",
              "    }\n",
              "  }\n",
              "\n",
              "  \n",
              "  if (typeof (root._bokeh_timeout) === \"undefined\" || force === true) {\n",
              "    root._bokeh_timeout = Date.now() + 5000;\n",
              "    root._bokeh_failed_load = false;\n",
              "  }\n",
              "\n",
              "  var NB_LOAD_WARNING = {'data': {'text/html':\n",
              "     \"<div style='background-color: #fdd'>\\n\"+\n",
              "     \"<p>\\n\"+\n",
              "     \"BokehJS does not appear to have successfully loaded. If loading BokehJS from CDN, this \\n\"+\n",
              "     \"may be due to a slow or bad network connection. Possible fixes:\\n\"+\n",
              "     \"</p>\\n\"+\n",
              "     \"<ul>\\n\"+\n",
              "     \"<li>re-rerun `output_notebook()` to attempt to load from CDN again, or</li>\\n\"+\n",
              "     \"<li>use INLINE resources instead, as so:</li>\\n\"+\n",
              "     \"</ul>\\n\"+\n",
              "     \"<code>\\n\"+\n",
              "     \"from bokeh.resources import INLINE\\n\"+\n",
              "     \"output_notebook(resources=INLINE)\\n\"+\n",
              "     \"</code>\\n\"+\n",
              "     \"</div>\"}};\n",
              "\n",
              "  function display_loaded() {\n",
              "    var el = document.getElementById(null);\n",
              "    if (el != null) {\n",
              "      el.textContent = \"BokehJS is loading...\";\n",
              "    }\n",
              "    if (root.Bokeh !== undefined) {\n",
              "      if (el != null) {\n",
              "        el.textContent = \"BokehJS \" + root.Bokeh.version + \" successfully loaded.\";\n",
              "      }\n",
              "    } else if (Date.now() < root._bokeh_timeout) {\n",
              "      setTimeout(display_loaded, 100)\n",
              "    }\n",
              "  }\n",
              "\n",
              "\n",
              "  function run_callbacks() {\n",
              "    try {\n",
              "      root._bokeh_onload_callbacks.forEach(function(callback) {\n",
              "        if (callback != null)\n",
              "          callback();\n",
              "      });\n",
              "    } finally {\n",
              "      delete root._bokeh_onload_callbacks\n",
              "    }\n",
              "    console.debug(\"Bokeh: all callbacks have finished\");\n",
              "  }\n",
              "\n",
              "  function load_libs(css_urls, js_urls, callback) {\n",
              "    if (css_urls == null) css_urls = [];\n",
              "    if (js_urls == null) js_urls = [];\n",
              "\n",
              "    root._bokeh_onload_callbacks.push(callback);\n",
              "    if (root._bokeh_is_loading > 0) {\n",
              "      console.debug(\"Bokeh: BokehJS is being loaded, scheduling callback at\", now());\n",
              "      return null;\n",
              "    }\n",
              "    if (js_urls == null || js_urls.length === 0) {\n",
              "      run_callbacks();\n",
              "      return null;\n",
              "    }\n",
              "    console.debug(\"Bokeh: BokehJS not loaded, scheduling load and callback at\", now());\n",
              "    root._bokeh_is_loading = css_urls.length + js_urls.length;\n",
              "\n",
              "    function on_load() {\n",
              "      root._bokeh_is_loading--;\n",
              "      if (root._bokeh_is_loading === 0) {\n",
              "        console.debug(\"Bokeh: all BokehJS libraries/stylesheets loaded\");\n",
              "        run_callbacks()\n",
              "      }\n",
              "    }\n",
              "\n",
              "    function on_error(url) {\n",
              "      console.error(\"failed to load \" + url);\n",
              "    }\n",
              "\n",
              "    for (let i = 0; i < css_urls.length; i++) {\n",
              "      const url = css_urls[i];\n",
              "      const element = document.createElement(\"link\");\n",
              "      element.onload = on_load;\n",
              "      element.onerror = on_error.bind(null, url);\n",
              "      element.rel = \"stylesheet\";\n",
              "      element.type = \"text/css\";\n",
              "      element.href = url;\n",
              "      console.debug(\"Bokeh: injecting link tag for BokehJS stylesheet: \", url);\n",
              "      document.body.appendChild(element);\n",
              "    }\n",
              "\n",
              "    const hashes = {\"https://cdn.bokeh.org/bokeh/release/bokeh-2.3.3.min.js\": \"dM3QQsP+wXdHg42wTqW85BjZQdLNNIXqlPw/BgKoExPmTG7ZLML4EGqLMfqHT6ON\", \"https://cdn.bokeh.org/bokeh/release/bokeh-tables-2.3.3.min.js\": \"8x57I4YuIfu8XyZfFo0XVr2WAT8EK4rh/uDe3wF7YuW2FNUSNEpJbsPaB1nJ2fz2\", \"https://cdn.bokeh.org/bokeh/release/bokeh-widgets-2.3.3.min.js\": \"3QTqdz9LyAm2i0sG5XTePsHec3UHWwVsrOL68SYRoAXsafvfAyqtQ+h440+qIBhS\"};\n",
              "\n",
              "    for (let i = 0; i < js_urls.length; i++) {\n",
              "      const url = js_urls[i];\n",
              "      const element = document.createElement('script');\n",
              "      element.onload = on_load;\n",
              "      element.onerror = on_error.bind(null, url);\n",
              "      element.async = false;\n",
              "      element.src = url;\n",
              "      if (url in hashes) {\n",
              "        element.crossOrigin = \"anonymous\";\n",
              "        element.integrity = \"sha384-\" + hashes[url];\n",
              "      }\n",
              "      console.debug(\"Bokeh: injecting script tag for BokehJS library: \", url);\n",
              "      document.head.appendChild(element);\n",
              "    }\n",
              "  };\n",
              "\n",
              "  function inject_raw_css(css) {\n",
              "    const element = document.createElement(\"style\");\n",
              "    element.appendChild(document.createTextNode(css));\n",
              "    document.body.appendChild(element);\n",
              "  }\n",
              "\n",
              "  \n",
              "  var js_urls = [\"https://cdn.bokeh.org/bokeh/release/bokeh-2.3.3.min.js\", \"https://cdn.bokeh.org/bokeh/release/bokeh-widgets-2.3.3.min.js\", \"https://cdn.bokeh.org/bokeh/release/bokeh-tables-2.3.3.min.js\"];\n",
              "  var css_urls = [];\n",
              "  \n",
              "\n",
              "  var inline_js = [\n",
              "    function(Bokeh) {\n",
              "      Bokeh.set_log_level(\"info\");\n",
              "    },\n",
              "    function(Bokeh) {\n",
              "    \n",
              "    \n",
              "    }\n",
              "  ];\n",
              "\n",
              "  function run_inline_js() {\n",
              "    \n",
              "    if (root.Bokeh !== undefined || force === true) {\n",
              "      \n",
              "    for (var i = 0; i < inline_js.length; i++) {\n",
              "      inline_js[i].call(root, root.Bokeh);\n",
              "    }\n",
              "    } else if (Date.now() < root._bokeh_timeout) {\n",
              "      setTimeout(run_inline_js, 100);\n",
              "    } else if (!root._bokeh_failed_load) {\n",
              "      console.log(\"Bokeh: BokehJS failed to load within specified timeout.\");\n",
              "      root._bokeh_failed_load = true;\n",
              "    } else if (force !== true) {\n",
              "      var cell = $(document.getElementById(null)).parents('.cell').data().cell;\n",
              "      cell.output_area.append_execute_result(NB_LOAD_WARNING)\n",
              "    }\n",
              "\n",
              "  }\n",
              "\n",
              "  if (root._bokeh_is_loading === 0) {\n",
              "    console.debug(\"Bokeh: BokehJS loaded, going straight to plotting\");\n",
              "    run_inline_js();\n",
              "  } else {\n",
              "    load_libs(css_urls, js_urls, function() {\n",
              "      console.debug(\"Bokeh: BokehJS plotting callback run at\", now());\n",
              "      run_inline_js();\n",
              "    });\n",
              "  }\n",
              "}(window));"
            ],
            "application/vnd.bokehjs_load.v0+json": "\n(function(root) {\n  function now() {\n    return new Date();\n  }\n\n  var force = true;\n\n  if (typeof root._bokeh_onload_callbacks === \"undefined\" || force === true) {\n    root._bokeh_onload_callbacks = [];\n    root._bokeh_is_loading = undefined;\n  }\n\n  \n\n  \n  if (typeof (root._bokeh_timeout) === \"undefined\" || force === true) {\n    root._bokeh_timeout = Date.now() + 5000;\n    root._bokeh_failed_load = false;\n  }\n\n  var NB_LOAD_WARNING = {'data': {'text/html':\n     \"<div style='background-color: #fdd'>\\n\"+\n     \"<p>\\n\"+\n     \"BokehJS does not appear to have successfully loaded. If loading BokehJS from CDN, this \\n\"+\n     \"may be due to a slow or bad network connection. Possible fixes:\\n\"+\n     \"</p>\\n\"+\n     \"<ul>\\n\"+\n     \"<li>re-rerun `output_notebook()` to attempt to load from CDN again, or</li>\\n\"+\n     \"<li>use INLINE resources instead, as so:</li>\\n\"+\n     \"</ul>\\n\"+\n     \"<code>\\n\"+\n     \"from bokeh.resources import INLINE\\n\"+\n     \"output_notebook(resources=INLINE)\\n\"+\n     \"</code>\\n\"+\n     \"</div>\"}};\n\n  function display_loaded() {\n    var el = document.getElementById(null);\n    if (el != null) {\n      el.textContent = \"BokehJS is loading...\";\n    }\n    if (root.Bokeh !== undefined) {\n      if (el != null) {\n        el.textContent = \"BokehJS \" + root.Bokeh.version + \" successfully loaded.\";\n      }\n    } else if (Date.now() < root._bokeh_timeout) {\n      setTimeout(display_loaded, 100)\n    }\n  }\n\n\n  function run_callbacks() {\n    try {\n      root._bokeh_onload_callbacks.forEach(function(callback) {\n        if (callback != null)\n          callback();\n      });\n    } finally {\n      delete root._bokeh_onload_callbacks\n    }\n    console.debug(\"Bokeh: all callbacks have finished\");\n  }\n\n  function load_libs(css_urls, js_urls, callback) {\n    if (css_urls == null) css_urls = [];\n    if (js_urls == null) js_urls = [];\n\n    root._bokeh_onload_callbacks.push(callback);\n    if (root._bokeh_is_loading > 0) {\n      console.debug(\"Bokeh: BokehJS is being loaded, scheduling callback at\", now());\n      return null;\n    }\n    if (js_urls == null || js_urls.length === 0) {\n      run_callbacks();\n      return null;\n    }\n    console.debug(\"Bokeh: BokehJS not loaded, scheduling load and callback at\", now());\n    root._bokeh_is_loading = css_urls.length + js_urls.length;\n\n    function on_load() {\n      root._bokeh_is_loading--;\n      if (root._bokeh_is_loading === 0) {\n        console.debug(\"Bokeh: all BokehJS libraries/stylesheets loaded\");\n        run_callbacks()\n      }\n    }\n\n    function on_error(url) {\n      console.error(\"failed to load \" + url);\n    }\n\n    for (let i = 0; i < css_urls.length; i++) {\n      const url = css_urls[i];\n      const element = document.createElement(\"link\");\n      element.onload = on_load;\n      element.onerror = on_error.bind(null, url);\n      element.rel = \"stylesheet\";\n      element.type = \"text/css\";\n      element.href = url;\n      console.debug(\"Bokeh: injecting link tag for BokehJS stylesheet: \", url);\n      document.body.appendChild(element);\n    }\n\n    const hashes = {\"https://cdn.bokeh.org/bokeh/release/bokeh-2.3.3.min.js\": \"dM3QQsP+wXdHg42wTqW85BjZQdLNNIXqlPw/BgKoExPmTG7ZLML4EGqLMfqHT6ON\", \"https://cdn.bokeh.org/bokeh/release/bokeh-tables-2.3.3.min.js\": \"8x57I4YuIfu8XyZfFo0XVr2WAT8EK4rh/uDe3wF7YuW2FNUSNEpJbsPaB1nJ2fz2\", \"https://cdn.bokeh.org/bokeh/release/bokeh-widgets-2.3.3.min.js\": \"3QTqdz9LyAm2i0sG5XTePsHec3UHWwVsrOL68SYRoAXsafvfAyqtQ+h440+qIBhS\"};\n\n    for (let i = 0; i < js_urls.length; i++) {\n      const url = js_urls[i];\n      const element = document.createElement('script');\n      element.onload = on_load;\n      element.onerror = on_error.bind(null, url);\n      element.async = false;\n      element.src = url;\n      if (url in hashes) {\n        element.crossOrigin = \"anonymous\";\n        element.integrity = \"sha384-\" + hashes[url];\n      }\n      console.debug(\"Bokeh: injecting script tag for BokehJS library: \", url);\n      document.head.appendChild(element);\n    }\n  };\n\n  function inject_raw_css(css) {\n    const element = document.createElement(\"style\");\n    element.appendChild(document.createTextNode(css));\n    document.body.appendChild(element);\n  }\n\n  \n  var js_urls = [\"https://cdn.bokeh.org/bokeh/release/bokeh-2.3.3.min.js\", \"https://cdn.bokeh.org/bokeh/release/bokeh-widgets-2.3.3.min.js\", \"https://cdn.bokeh.org/bokeh/release/bokeh-tables-2.3.3.min.js\"];\n  var css_urls = [];\n  \n\n  var inline_js = [\n    function(Bokeh) {\n      Bokeh.set_log_level(\"info\");\n    },\n    function(Bokeh) {\n    \n    \n    }\n  ];\n\n  function run_inline_js() {\n    \n    if (root.Bokeh !== undefined || force === true) {\n      \n    for (var i = 0; i < inline_js.length; i++) {\n      inline_js[i].call(root, root.Bokeh);\n    }\n    } else if (Date.now() < root._bokeh_timeout) {\n      setTimeout(run_inline_js, 100);\n    } else if (!root._bokeh_failed_load) {\n      console.log(\"Bokeh: BokehJS failed to load within specified timeout.\");\n      root._bokeh_failed_load = true;\n    } else if (force !== true) {\n      var cell = $(document.getElementById(null)).parents('.cell').data().cell;\n      cell.output_area.append_execute_result(NB_LOAD_WARNING)\n    }\n\n  }\n\n  if (root._bokeh_is_loading === 0) {\n    console.debug(\"Bokeh: BokehJS loaded, going straight to plotting\");\n    run_inline_js();\n  } else {\n    load_libs(css_urls, js_urls, function() {\n      console.debug(\"Bokeh: BokehJS plotting callback run at\", now());\n      run_inline_js();\n    });\n  }\n}(window));"
          },
          "metadata": {}
        },
        {
          "output_type": "display_data",
          "data": {
            "text/html": [
              "\n",
              "\n",
              "\n",
              "\n",
              "\n",
              "\n",
              "  <div class=\"bk-root\" id=\"6307f164-1b05-4283-83a0-ec64367ed30f\" data-root-id=\"1093\"></div>\n"
            ]
          },
          "metadata": {}
        }
      ]
    },
    {
      "cell_type": "code",
      "source": [
        "combined_attributions.shape"
      ],
      "metadata": {
        "colab": {
          "base_uri": "https://localhost:8080/"
        },
        "id": "4UY_xgoeuUCr",
        "outputId": "95e9c80a-867c-431a-adc7-2f43c068c8f1"
      },
      "execution_count": null,
      "outputs": [
        {
          "output_type": "execute_result",
          "data": {
            "text/plain": [
              "torch.Size([50, 4, 3, 200, 1024])"
            ]
          },
          "metadata": {},
          "execution_count": 70
        }
      ]
    },
    {
      "cell_type": "code",
      "source": [
        "torch.save(combined_attributions,\"drive/MyDrive/MNIST Feature Attribution/\" +  \"integrated_gradients_combined_attributions.tensor\")"
      ],
      "metadata": {
        "id": "j2jCX3jtu7Uo"
      },
      "execution_count": null,
      "outputs": []
    }
  ]
}