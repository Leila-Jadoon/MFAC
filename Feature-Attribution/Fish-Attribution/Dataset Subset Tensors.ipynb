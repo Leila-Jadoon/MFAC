{
 "cells": [
  {
   "cell_type": "code",
   "execution_count": 4,
   "id": "416c8cba-c71b-44e2-a5a7-0e22202f04b9",
   "metadata": {},
   "outputs": [],
   "source": [
    "import torch"
   ]
  },
  {
   "cell_type": "code",
   "execution_count": 2,
   "id": "33c29740-a165-4d93-8ad9-c06689fd5eea",
   "metadata": {},
   "outputs": [],
   "source": [
    "import numpy as np\n",
    "x = np.load(\"x_train_b.npy\")\n",
    "y = np.load(\"y_train_b.npy\")"
   ]
  },
  {
   "cell_type": "code",
   "execution_count": 3,
   "id": "7b33a59c-0372-40c4-a3b8-0ec0b72e82b9",
   "metadata": {},
   "outputs": [
    {
     "name": "stdout",
     "output_type": "stream",
     "text": [
      "(285, 4, 200, 1024, 3)\n",
      "(285, 1)\n"
     ]
    }
   ],
   "source": [
    "print(x.shape)\n",
    "print(y.shape)"
   ]
  },
  {
   "cell_type": "code",
   "execution_count": 6,
   "id": "25f7ad7e-8824-475a-ada2-4265b3f1012f",
   "metadata": {},
   "outputs": [
    {
     "name": "stderr",
     "output_type": "stream",
     "text": [
      "/Users/jzl/opt/anaconda3/envs/MFAC/lib/python3.7/site-packages/tqdm/auto.py:22: TqdmWarning: IProgress not found. Please update jupyter and ipywidgets. See https://ipywidgets.readthedocs.io/en/stable/user_install.html\n",
      "  from .autonotebook import tqdm as notebook_tqdm\n"
     ]
    },
    {
     "name": "stdout",
     "output_type": "stream",
     "text": [
      "x train shape:  torch.Size([256, 4, 3, 200, 1024]) x test shape:  torch.Size([29, 4, 3, 200, 1024])\n",
      "y train shape:  torch.Size([256, 1]) y test shape:  torch.Size([29, 1])\n"
     ]
    }
   ],
   "source": [
    "import torch\n",
    "from sklearn.model_selection import train_test_split\n",
    "\n",
    "# conver to PyTorch Tensors\n",
    "tensor_x = torch.Tensor(x) \n",
    "tensor_y = torch.Tensor(y).long()\n",
    "\n",
    "\n",
    "tensor_x = torch.swapaxes(tensor_x,2,4)\n",
    "tensor_x = torch.swapaxes(tensor_x,3,4)\n",
    "\n",
    "x_train,x_test,y_train,y_test = train_test_split(tensor_x,tensor_y,test_size=0.1)\n",
    "\n",
    "print(\"x train shape: \", x_train.shape,\"x test shape: \",x_test.shape)\n",
    "print(\"y train shape: \", y_train.shape,\"y test shape: \",y_test.shape)"
   ]
  },
  {
   "cell_type": "code",
   "execution_count": 7,
   "id": "d55429d3-9916-4651-b3cc-c5fbb50f8bd8",
   "metadata": {},
   "outputs": [
    {
     "data": {
      "text/plain": [
       "torch.Size([50, 4, 3, 200, 1024])"
      ]
     },
     "execution_count": 7,
     "metadata": {},
     "output_type": "execute_result"
    }
   ],
   "source": [
    "tensor_x[:50].shape # 100 instances from x, unrandomized"
   ]
  },
  {
   "cell_type": "code",
   "execution_count": 9,
   "id": "6747ba43-7c38-4a44-bc42-87b855b8af57",
   "metadata": {},
   "outputs": [
    {
     "data": {
      "text/plain": [
       "torch.Size([50, 1])"
      ]
     },
     "execution_count": 9,
     "metadata": {},
     "output_type": "execute_result"
    }
   ],
   "source": [
    "tensor_y[:50].shape # 100 instances from y, unrandomized"
   ]
  },
  {
   "cell_type": "code",
   "execution_count": 11,
   "id": "c544cc41-0410-4cff-acd2-d055f8234ced",
   "metadata": {},
   "outputs": [],
   "source": [
    "torch.save(tensor_x[:50], \"x_subset.tensor\")\n",
    "torch.save(tensor_y[:50], \"y_subset.tensor\")"
   ]
  }
 ],
 "metadata": {
  "kernelspec": {
   "display_name": "Python 3",
   "language": "python",
   "name": "python3"
  },
  "language_info": {
   "codemirror_mode": {
    "name": "ipython",
    "version": 3
   },
   "file_extension": ".py",
   "mimetype": "text/x-python",
   "name": "python",
   "nbconvert_exporter": "python",
   "pygments_lexer": "ipython3",
   "version": "3.7.12"
  }
 },
 "nbformat": 4,
 "nbformat_minor": 5
}
