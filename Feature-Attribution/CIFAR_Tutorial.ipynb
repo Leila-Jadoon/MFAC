{
  "nbformat": 4,
  "nbformat_minor": 0,
  "metadata": {
    "colab": {
      "name": "CIFAR Tutorial",
      "provenance": []
    },
    "kernelspec": {
      "name": "python3",
      "display_name": "Python 3"
    },
    "language_info": {
      "name": "python"
    },
    "widgets": {
      "application/vnd.jupyter.widget-state+json": {
        "80834b3738b04f7ca74c97bf579cc479": {
          "model_module": "@jupyter-widgets/controls",
          "model_name": "HBoxModel",
          "model_module_version": "1.5.0",
          "state": {
            "_view_name": "HBoxView",
            "_dom_classes": [],
            "_model_name": "HBoxModel",
            "_view_module": "@jupyter-widgets/controls",
            "_model_module_version": "1.5.0",
            "_view_count": null,
            "_view_module_version": "1.5.0",
            "box_style": "",
            "layout": "IPY_MODEL_047e0186a5c64f1cb6249d5ad7de938d",
            "_model_module": "@jupyter-widgets/controls",
            "children": [
              "IPY_MODEL_8ca742ff293b49b0b80dfc380d171c57",
              "IPY_MODEL_0459ef0a8bb7415d8e28c4f86bcdd523",
              "IPY_MODEL_2f87e66c744c4ebba3bf3e099df14ef8"
            ]
          }
        },
        "047e0186a5c64f1cb6249d5ad7de938d": {
          "model_module": "@jupyter-widgets/base",
          "model_name": "LayoutModel",
          "model_module_version": "1.2.0",
          "state": {
            "_view_name": "LayoutView",
            "grid_template_rows": null,
            "right": null,
            "justify_content": null,
            "_view_module": "@jupyter-widgets/base",
            "overflow": null,
            "_model_module_version": "1.2.0",
            "_view_count": null,
            "flex_flow": null,
            "width": null,
            "min_width": null,
            "border": null,
            "align_items": null,
            "bottom": null,
            "_model_module": "@jupyter-widgets/base",
            "top": null,
            "grid_column": null,
            "overflow_y": null,
            "overflow_x": null,
            "grid_auto_flow": null,
            "grid_area": null,
            "grid_template_columns": null,
            "flex": null,
            "_model_name": "LayoutModel",
            "justify_items": null,
            "grid_row": null,
            "max_height": null,
            "align_content": null,
            "visibility": null,
            "align_self": null,
            "height": null,
            "min_height": null,
            "padding": null,
            "grid_auto_rows": null,
            "grid_gap": null,
            "max_width": null,
            "order": null,
            "_view_module_version": "1.2.0",
            "grid_template_areas": null,
            "object_position": null,
            "object_fit": null,
            "grid_auto_columns": null,
            "margin": null,
            "display": null,
            "left": null
          }
        },
        "8ca742ff293b49b0b80dfc380d171c57": {
          "model_module": "@jupyter-widgets/controls",
          "model_name": "HTMLModel",
          "model_module_version": "1.5.0",
          "state": {
            "_view_name": "HTMLView",
            "style": "IPY_MODEL_201521c7a30249bbbc4425cb4aad5587",
            "_dom_classes": [],
            "description": "",
            "_model_name": "HTMLModel",
            "placeholder": "​",
            "_view_module": "@jupyter-widgets/controls",
            "_model_module_version": "1.5.0",
            "value": "",
            "_view_count": null,
            "_view_module_version": "1.5.0",
            "description_tooltip": null,
            "_model_module": "@jupyter-widgets/controls",
            "layout": "IPY_MODEL_0214c082a2fb40a983f0d7ff25c0e612"
          }
        },
        "0459ef0a8bb7415d8e28c4f86bcdd523": {
          "model_module": "@jupyter-widgets/controls",
          "model_name": "FloatProgressModel",
          "model_module_version": "1.5.0",
          "state": {
            "_view_name": "ProgressView",
            "style": "IPY_MODEL_0280b897d6934de8a2385b9a8b647f56",
            "_dom_classes": [],
            "description": "",
            "_model_name": "FloatProgressModel",
            "bar_style": "success",
            "max": 170498071,
            "_view_module": "@jupyter-widgets/controls",
            "_model_module_version": "1.5.0",
            "value": 170498071,
            "_view_count": null,
            "_view_module_version": "1.5.0",
            "orientation": "horizontal",
            "min": 0,
            "description_tooltip": null,
            "_model_module": "@jupyter-widgets/controls",
            "layout": "IPY_MODEL_4e17864185b044fdbba9ae25b645ae34"
          }
        },
        "2f87e66c744c4ebba3bf3e099df14ef8": {
          "model_module": "@jupyter-widgets/controls",
          "model_name": "HTMLModel",
          "model_module_version": "1.5.0",
          "state": {
            "_view_name": "HTMLView",
            "style": "IPY_MODEL_1eb25f8eba76489ba8bc34e3b598347d",
            "_dom_classes": [],
            "description": "",
            "_model_name": "HTMLModel",
            "placeholder": "​",
            "_view_module": "@jupyter-widgets/controls",
            "_model_module_version": "1.5.0",
            "value": " 170499072/? [00:05&lt;00:00, 31829336.34it/s]",
            "_view_count": null,
            "_view_module_version": "1.5.0",
            "description_tooltip": null,
            "_model_module": "@jupyter-widgets/controls",
            "layout": "IPY_MODEL_76bb2737e36943f6ab23771b829193f8"
          }
        },
        "201521c7a30249bbbc4425cb4aad5587": {
          "model_module": "@jupyter-widgets/controls",
          "model_name": "DescriptionStyleModel",
          "model_module_version": "1.5.0",
          "state": {
            "_view_name": "StyleView",
            "_model_name": "DescriptionStyleModel",
            "description_width": "",
            "_view_module": "@jupyter-widgets/base",
            "_model_module_version": "1.5.0",
            "_view_count": null,
            "_view_module_version": "1.2.0",
            "_model_module": "@jupyter-widgets/controls"
          }
        },
        "0214c082a2fb40a983f0d7ff25c0e612": {
          "model_module": "@jupyter-widgets/base",
          "model_name": "LayoutModel",
          "model_module_version": "1.2.0",
          "state": {
            "_view_name": "LayoutView",
            "grid_template_rows": null,
            "right": null,
            "justify_content": null,
            "_view_module": "@jupyter-widgets/base",
            "overflow": null,
            "_model_module_version": "1.2.0",
            "_view_count": null,
            "flex_flow": null,
            "width": null,
            "min_width": null,
            "border": null,
            "align_items": null,
            "bottom": null,
            "_model_module": "@jupyter-widgets/base",
            "top": null,
            "grid_column": null,
            "overflow_y": null,
            "overflow_x": null,
            "grid_auto_flow": null,
            "grid_area": null,
            "grid_template_columns": null,
            "flex": null,
            "_model_name": "LayoutModel",
            "justify_items": null,
            "grid_row": null,
            "max_height": null,
            "align_content": null,
            "visibility": null,
            "align_self": null,
            "height": null,
            "min_height": null,
            "padding": null,
            "grid_auto_rows": null,
            "grid_gap": null,
            "max_width": null,
            "order": null,
            "_view_module_version": "1.2.0",
            "grid_template_areas": null,
            "object_position": null,
            "object_fit": null,
            "grid_auto_columns": null,
            "margin": null,
            "display": null,
            "left": null
          }
        },
        "0280b897d6934de8a2385b9a8b647f56": {
          "model_module": "@jupyter-widgets/controls",
          "model_name": "ProgressStyleModel",
          "model_module_version": "1.5.0",
          "state": {
            "_view_name": "StyleView",
            "_model_name": "ProgressStyleModel",
            "description_width": "",
            "_view_module": "@jupyter-widgets/base",
            "_model_module_version": "1.5.0",
            "_view_count": null,
            "_view_module_version": "1.2.0",
            "bar_color": null,
            "_model_module": "@jupyter-widgets/controls"
          }
        },
        "4e17864185b044fdbba9ae25b645ae34": {
          "model_module": "@jupyter-widgets/base",
          "model_name": "LayoutModel",
          "model_module_version": "1.2.0",
          "state": {
            "_view_name": "LayoutView",
            "grid_template_rows": null,
            "right": null,
            "justify_content": null,
            "_view_module": "@jupyter-widgets/base",
            "overflow": null,
            "_model_module_version": "1.2.0",
            "_view_count": null,
            "flex_flow": null,
            "width": null,
            "min_width": null,
            "border": null,
            "align_items": null,
            "bottom": null,
            "_model_module": "@jupyter-widgets/base",
            "top": null,
            "grid_column": null,
            "overflow_y": null,
            "overflow_x": null,
            "grid_auto_flow": null,
            "grid_area": null,
            "grid_template_columns": null,
            "flex": null,
            "_model_name": "LayoutModel",
            "justify_items": null,
            "grid_row": null,
            "max_height": null,
            "align_content": null,
            "visibility": null,
            "align_self": null,
            "height": null,
            "min_height": null,
            "padding": null,
            "grid_auto_rows": null,
            "grid_gap": null,
            "max_width": null,
            "order": null,
            "_view_module_version": "1.2.0",
            "grid_template_areas": null,
            "object_position": null,
            "object_fit": null,
            "grid_auto_columns": null,
            "margin": null,
            "display": null,
            "left": null
          }
        },
        "1eb25f8eba76489ba8bc34e3b598347d": {
          "model_module": "@jupyter-widgets/controls",
          "model_name": "DescriptionStyleModel",
          "model_module_version": "1.5.0",
          "state": {
            "_view_name": "StyleView",
            "_model_name": "DescriptionStyleModel",
            "description_width": "",
            "_view_module": "@jupyter-widgets/base",
            "_model_module_version": "1.5.0",
            "_view_count": null,
            "_view_module_version": "1.2.0",
            "_model_module": "@jupyter-widgets/controls"
          }
        },
        "76bb2737e36943f6ab23771b829193f8": {
          "model_module": "@jupyter-widgets/base",
          "model_name": "LayoutModel",
          "model_module_version": "1.2.0",
          "state": {
            "_view_name": "LayoutView",
            "grid_template_rows": null,
            "right": null,
            "justify_content": null,
            "_view_module": "@jupyter-widgets/base",
            "overflow": null,
            "_model_module_version": "1.2.0",
            "_view_count": null,
            "flex_flow": null,
            "width": null,
            "min_width": null,
            "border": null,
            "align_items": null,
            "bottom": null,
            "_model_module": "@jupyter-widgets/base",
            "top": null,
            "grid_column": null,
            "overflow_y": null,
            "overflow_x": null,
            "grid_auto_flow": null,
            "grid_area": null,
            "grid_template_columns": null,
            "flex": null,
            "_model_name": "LayoutModel",
            "justify_items": null,
            "grid_row": null,
            "max_height": null,
            "align_content": null,
            "visibility": null,
            "align_self": null,
            "height": null,
            "min_height": null,
            "padding": null,
            "grid_auto_rows": null,
            "grid_gap": null,
            "max_width": null,
            "order": null,
            "_view_module_version": "1.2.0",
            "grid_template_areas": null,
            "object_position": null,
            "object_fit": null,
            "grid_auto_columns": null,
            "margin": null,
            "display": null,
            "left": null
          }
        }
      }
    }
  },
  "cells": [
    {
      "cell_type": "markdown",
      "source": [
        "The Default tutorial on applying Integrated Gradients to the CIFAR 10 dataset and a custom neural network from the tutorial: https://captum.ai/tutorials/CIFAR_TorchVision_Interpret"
      ],
      "metadata": {
        "id": "8MnI1DMqHZOn"
      }
    },
    {
      "cell_type": "code",
      "execution_count": null,
      "metadata": {
        "id": "Xe3RQjUMlWJI",
        "colab": {
          "base_uri": "https://localhost:8080/"
        },
        "outputId": "82057612-0f92-4551-c731-40fdbf5706c1"
      },
      "outputs": [
        {
          "output_type": "stream",
          "name": "stdout",
          "text": [
            "Collecting captum\n",
            "  Downloading captum-0.4.1-py3-none-any.whl (1.4 MB)\n",
            "\u001b[?25l\r\u001b[K     |▎                               | 10 kB 21.9 MB/s eta 0:00:01\r\u001b[K     |▌                               | 20 kB 27.1 MB/s eta 0:00:01\r\u001b[K     |▊                               | 30 kB 30.4 MB/s eta 0:00:01\r\u001b[K     |█                               | 40 kB 23.1 MB/s eta 0:00:01\r\u001b[K     |█▏                              | 51 kB 15.0 MB/s eta 0:00:01\r\u001b[K     |█▍                              | 61 kB 17.3 MB/s eta 0:00:01\r\u001b[K     |█▋                              | 71 kB 15.4 MB/s eta 0:00:01\r\u001b[K     |█▉                              | 81 kB 12.7 MB/s eta 0:00:01\r\u001b[K     |██▏                             | 92 kB 14.0 MB/s eta 0:00:01\r\u001b[K     |██▍                             | 102 kB 15.3 MB/s eta 0:00:01\r\u001b[K     |██▋                             | 112 kB 15.3 MB/s eta 0:00:01\r\u001b[K     |██▉                             | 122 kB 15.3 MB/s eta 0:00:01\r\u001b[K     |███                             | 133 kB 15.3 MB/s eta 0:00:01\r\u001b[K     |███▎                            | 143 kB 15.3 MB/s eta 0:00:01\r\u001b[K     |███▌                            | 153 kB 15.3 MB/s eta 0:00:01\r\u001b[K     |███▊                            | 163 kB 15.3 MB/s eta 0:00:01\r\u001b[K     |████                            | 174 kB 15.3 MB/s eta 0:00:01\r\u001b[K     |████▎                           | 184 kB 15.3 MB/s eta 0:00:01\r\u001b[K     |████▌                           | 194 kB 15.3 MB/s eta 0:00:01\r\u001b[K     |████▊                           | 204 kB 15.3 MB/s eta 0:00:01\r\u001b[K     |█████                           | 215 kB 15.3 MB/s eta 0:00:01\r\u001b[K     |█████▏                          | 225 kB 15.3 MB/s eta 0:00:01\r\u001b[K     |█████▍                          | 235 kB 15.3 MB/s eta 0:00:01\r\u001b[K     |█████▋                          | 245 kB 15.3 MB/s eta 0:00:01\r\u001b[K     |█████▉                          | 256 kB 15.3 MB/s eta 0:00:01\r\u001b[K     |██████▏                         | 266 kB 15.3 MB/s eta 0:00:01\r\u001b[K     |██████▍                         | 276 kB 15.3 MB/s eta 0:00:01\r\u001b[K     |██████▋                         | 286 kB 15.3 MB/s eta 0:00:01\r\u001b[K     |██████▉                         | 296 kB 15.3 MB/s eta 0:00:01\r\u001b[K     |███████                         | 307 kB 15.3 MB/s eta 0:00:01\r\u001b[K     |███████▎                        | 317 kB 15.3 MB/s eta 0:00:01\r\u001b[K     |███████▌                        | 327 kB 15.3 MB/s eta 0:00:01\r\u001b[K     |███████▊                        | 337 kB 15.3 MB/s eta 0:00:01\r\u001b[K     |████████                        | 348 kB 15.3 MB/s eta 0:00:01\r\u001b[K     |████████▎                       | 358 kB 15.3 MB/s eta 0:00:01\r\u001b[K     |████████▌                       | 368 kB 15.3 MB/s eta 0:00:01\r\u001b[K     |████████▊                       | 378 kB 15.3 MB/s eta 0:00:01\r\u001b[K     |█████████                       | 389 kB 15.3 MB/s eta 0:00:01\r\u001b[K     |█████████▏                      | 399 kB 15.3 MB/s eta 0:00:01\r\u001b[K     |█████████▍                      | 409 kB 15.3 MB/s eta 0:00:01\r\u001b[K     |█████████▋                      | 419 kB 15.3 MB/s eta 0:00:01\r\u001b[K     |█████████▉                      | 430 kB 15.3 MB/s eta 0:00:01\r\u001b[K     |██████████▏                     | 440 kB 15.3 MB/s eta 0:00:01\r\u001b[K     |██████████▍                     | 450 kB 15.3 MB/s eta 0:00:01\r\u001b[K     |██████████▋                     | 460 kB 15.3 MB/s eta 0:00:01\r\u001b[K     |██████████▉                     | 471 kB 15.3 MB/s eta 0:00:01\r\u001b[K     |███████████                     | 481 kB 15.3 MB/s eta 0:00:01\r\u001b[K     |███████████▎                    | 491 kB 15.3 MB/s eta 0:00:01\r\u001b[K     |███████████▌                    | 501 kB 15.3 MB/s eta 0:00:01\r\u001b[K     |███████████▊                    | 512 kB 15.3 MB/s eta 0:00:01\r\u001b[K     |████████████                    | 522 kB 15.3 MB/s eta 0:00:01\r\u001b[K     |████████████▎                   | 532 kB 15.3 MB/s eta 0:00:01\r\u001b[K     |████████████▌                   | 542 kB 15.3 MB/s eta 0:00:01\r\u001b[K     |████████████▊                   | 552 kB 15.3 MB/s eta 0:00:01\r\u001b[K     |█████████████                   | 563 kB 15.3 MB/s eta 0:00:01\r\u001b[K     |█████████████▏                  | 573 kB 15.3 MB/s eta 0:00:01\r\u001b[K     |█████████████▍                  | 583 kB 15.3 MB/s eta 0:00:01\r\u001b[K     |█████████████▋                  | 593 kB 15.3 MB/s eta 0:00:01\r\u001b[K     |█████████████▉                  | 604 kB 15.3 MB/s eta 0:00:01\r\u001b[K     |██████████████▏                 | 614 kB 15.3 MB/s eta 0:00:01\r\u001b[K     |██████████████▍                 | 624 kB 15.3 MB/s eta 0:00:01\r\u001b[K     |██████████████▋                 | 634 kB 15.3 MB/s eta 0:00:01\r\u001b[K     |██████████████▉                 | 645 kB 15.3 MB/s eta 0:00:01\r\u001b[K     |███████████████                 | 655 kB 15.3 MB/s eta 0:00:01\r\u001b[K     |███████████████▎                | 665 kB 15.3 MB/s eta 0:00:01\r\u001b[K     |███████████████▌                | 675 kB 15.3 MB/s eta 0:00:01\r\u001b[K     |███████████████▊                | 686 kB 15.3 MB/s eta 0:00:01\r\u001b[K     |████████████████                | 696 kB 15.3 MB/s eta 0:00:01\r\u001b[K     |████████████████▎               | 706 kB 15.3 MB/s eta 0:00:01\r\u001b[K     |████████████████▌               | 716 kB 15.3 MB/s eta 0:00:01\r\u001b[K     |████████████████▊               | 727 kB 15.3 MB/s eta 0:00:01\r\u001b[K     |█████████████████               | 737 kB 15.3 MB/s eta 0:00:01\r\u001b[K     |█████████████████▏              | 747 kB 15.3 MB/s eta 0:00:01\r\u001b[K     |█████████████████▍              | 757 kB 15.3 MB/s eta 0:00:01\r\u001b[K     |█████████████████▋              | 768 kB 15.3 MB/s eta 0:00:01\r\u001b[K     |█████████████████▉              | 778 kB 15.3 MB/s eta 0:00:01\r\u001b[K     |██████████████████▏             | 788 kB 15.3 MB/s eta 0:00:01\r\u001b[K     |██████████████████▍             | 798 kB 15.3 MB/s eta 0:00:01\r\u001b[K     |██████████████████▋             | 808 kB 15.3 MB/s eta 0:00:01\r\u001b[K     |██████████████████▉             | 819 kB 15.3 MB/s eta 0:00:01\r\u001b[K     |███████████████████             | 829 kB 15.3 MB/s eta 0:00:01\r\u001b[K     |███████████████████▎            | 839 kB 15.3 MB/s eta 0:00:01\r\u001b[K     |███████████████████▌            | 849 kB 15.3 MB/s eta 0:00:01\r\u001b[K     |███████████████████▊            | 860 kB 15.3 MB/s eta 0:00:01\r\u001b[K     |████████████████████            | 870 kB 15.3 MB/s eta 0:00:01\r\u001b[K     |████████████████████▎           | 880 kB 15.3 MB/s eta 0:00:01\r\u001b[K     |████████████████████▌           | 890 kB 15.3 MB/s eta 0:00:01\r\u001b[K     |████████████████████▊           | 901 kB 15.3 MB/s eta 0:00:01\r\u001b[K     |█████████████████████           | 911 kB 15.3 MB/s eta 0:00:01\r\u001b[K     |█████████████████████▏          | 921 kB 15.3 MB/s eta 0:00:01\r\u001b[K     |█████████████████████▍          | 931 kB 15.3 MB/s eta 0:00:01\r\u001b[K     |█████████████████████▋          | 942 kB 15.3 MB/s eta 0:00:01\r\u001b[K     |██████████████████████          | 952 kB 15.3 MB/s eta 0:00:01\r\u001b[K     |██████████████████████▏         | 962 kB 15.3 MB/s eta 0:00:01\r\u001b[K     |██████████████████████▍         | 972 kB 15.3 MB/s eta 0:00:01\r\u001b[K     |██████████████████████▋         | 983 kB 15.3 MB/s eta 0:00:01\r\u001b[K     |██████████████████████▉         | 993 kB 15.3 MB/s eta 0:00:01\r\u001b[K     |███████████████████████         | 1.0 MB 15.3 MB/s eta 0:00:01\r\u001b[K     |███████████████████████▎        | 1.0 MB 15.3 MB/s eta 0:00:01\r\u001b[K     |███████████████████████▌        | 1.0 MB 15.3 MB/s eta 0:00:01\r\u001b[K     |███████████████████████▊        | 1.0 MB 15.3 MB/s eta 0:00:01\r\u001b[K     |████████████████████████        | 1.0 MB 15.3 MB/s eta 0:00:01\r\u001b[K     |████████████████████████▎       | 1.1 MB 15.3 MB/s eta 0:00:01\r\u001b[K     |████████████████████████▌       | 1.1 MB 15.3 MB/s eta 0:00:01\r\u001b[K     |████████████████████████▊       | 1.1 MB 15.3 MB/s eta 0:00:01\r\u001b[K     |█████████████████████████       | 1.1 MB 15.3 MB/s eta 0:00:01\r\u001b[K     |█████████████████████████▏      | 1.1 MB 15.3 MB/s eta 0:00:01\r\u001b[K     |█████████████████████████▍      | 1.1 MB 15.3 MB/s eta 0:00:01\r\u001b[K     |█████████████████████████▋      | 1.1 MB 15.3 MB/s eta 0:00:01\r\u001b[K     |██████████████████████████      | 1.1 MB 15.3 MB/s eta 0:00:01\r\u001b[K     |██████████████████████████▏     | 1.1 MB 15.3 MB/s eta 0:00:01\r\u001b[K     |██████████████████████████▍     | 1.1 MB 15.3 MB/s eta 0:00:01\r\u001b[K     |██████████████████████████▋     | 1.2 MB 15.3 MB/s eta 0:00:01\r\u001b[K     |██████████████████████████▉     | 1.2 MB 15.3 MB/s eta 0:00:01\r\u001b[K     |███████████████████████████     | 1.2 MB 15.3 MB/s eta 0:00:01\r\u001b[K     |███████████████████████████▎    | 1.2 MB 15.3 MB/s eta 0:00:01\r\u001b[K     |███████████████████████████▌    | 1.2 MB 15.3 MB/s eta 0:00:01\r\u001b[K     |███████████████████████████▊    | 1.2 MB 15.3 MB/s eta 0:00:01\r\u001b[K     |████████████████████████████    | 1.2 MB 15.3 MB/s eta 0:00:01\r\u001b[K     |████████████████████████████▎   | 1.2 MB 15.3 MB/s eta 0:00:01\r\u001b[K     |████████████████████████████▌   | 1.2 MB 15.3 MB/s eta 0:00:01\r\u001b[K     |████████████████████████████▊   | 1.2 MB 15.3 MB/s eta 0:00:01\r\u001b[K     |█████████████████████████████   | 1.3 MB 15.3 MB/s eta 0:00:01\r\u001b[K     |█████████████████████████████▏  | 1.3 MB 15.3 MB/s eta 0:00:01\r\u001b[K     |█████████████████████████████▍  | 1.3 MB 15.3 MB/s eta 0:00:01\r\u001b[K     |█████████████████████████████▋  | 1.3 MB 15.3 MB/s eta 0:00:01\r\u001b[K     |██████████████████████████████  | 1.3 MB 15.3 MB/s eta 0:00:01\r\u001b[K     |██████████████████████████████▏ | 1.3 MB 15.3 MB/s eta 0:00:01\r\u001b[K     |██████████████████████████████▍ | 1.3 MB 15.3 MB/s eta 0:00:01\r\u001b[K     |██████████████████████████████▋ | 1.3 MB 15.3 MB/s eta 0:00:01\r\u001b[K     |██████████████████████████████▉ | 1.3 MB 15.3 MB/s eta 0:00:01\r\u001b[K     |███████████████████████████████ | 1.4 MB 15.3 MB/s eta 0:00:01\r\u001b[K     |███████████████████████████████▎| 1.4 MB 15.3 MB/s eta 0:00:01\r\u001b[K     |███████████████████████████████▌| 1.4 MB 15.3 MB/s eta 0:00:01\r\u001b[K     |███████████████████████████████▊| 1.4 MB 15.3 MB/s eta 0:00:01\r\u001b[K     |████████████████████████████████| 1.4 MB 15.3 MB/s \n",
            "\u001b[?25hRequirement already satisfied: matplotlib in /usr/local/lib/python3.7/dist-packages (from captum) (3.2.2)\n",
            "Requirement already satisfied: torch>=1.2 in /usr/local/lib/python3.7/dist-packages (from captum) (1.10.0+cu111)\n",
            "Requirement already satisfied: numpy in /usr/local/lib/python3.7/dist-packages (from captum) (1.19.5)\n",
            "Requirement already satisfied: typing-extensions in /usr/local/lib/python3.7/dist-packages (from torch>=1.2->captum) (3.10.0.2)\n",
            "Requirement already satisfied: pyparsing!=2.0.4,!=2.1.2,!=2.1.6,>=2.0.1 in /usr/local/lib/python3.7/dist-packages (from matplotlib->captum) (3.0.7)\n",
            "Requirement already satisfied: kiwisolver>=1.0.1 in /usr/local/lib/python3.7/dist-packages (from matplotlib->captum) (1.3.2)\n",
            "Requirement already satisfied: cycler>=0.10 in /usr/local/lib/python3.7/dist-packages (from matplotlib->captum) (0.11.0)\n",
            "Requirement already satisfied: python-dateutil>=2.1 in /usr/local/lib/python3.7/dist-packages (from matplotlib->captum) (2.8.2)\n",
            "Requirement already satisfied: six>=1.5 in /usr/local/lib/python3.7/dist-packages (from python-dateutil>=2.1->matplotlib->captum) (1.15.0)\n",
            "Installing collected packages: captum\n",
            "Successfully installed captum-0.4.1\n"
          ]
        }
      ],
      "source": [
        "# Google seems to provide these by default\n",
        "# !pip install matplotlib\n",
        "# !pip install torch\n",
        "# !pip install torchvision\n",
        "\n",
        "# Install Captum\n",
        "!pip install captum"
      ]
    },
    {
      "cell_type": "code",
      "source": [
        "import matplotlib.pyplot as plt\n",
        "import numpy as np\n",
        "\n",
        "%matplotlib inline\n",
        "\n",
        "import torch\n",
        "import torchvision\n",
        "import torchvision.transforms as transforms\n",
        "import torchvision.transforms.functional as TF\n",
        "\n",
        "from torchvision import models\n",
        "\n",
        "# Attribution methods\n",
        "from captum.attr import IntegratedGradients\n",
        "from captum.attr import Saliency\n",
        "from captum.attr import DeepLift\n",
        "from captum.attr import NoiseTunnel\n",
        "from captum.attr import visualization as viz"
      ],
      "metadata": {
        "id": "zydIC-aNmF8h"
      },
      "execution_count": null,
      "outputs": []
    },
    {
      "cell_type": "code",
      "source": [
        "# Image transformations\n",
        "transform = transforms.Compose(\n",
        "    [transforms.ToTensor(), # convert to tensor form\n",
        "     transforms.Normalize((0.5, 0.5, 0.5), (0.5, 0.5, 0.5))]) # Normalize\n",
        "\n",
        "# Create training and test sets,\n",
        "# \"loader\" = \"python iteratable over a dataset\"\n",
        "trainset = torchvision.datasets.CIFAR10(root='./data', train=True,\n",
        "                                        download=True, transform=transform)\n",
        "trainloader = torch.utils.data.DataLoader(trainset, batch_size=4,\n",
        "                                          shuffle=True, num_workers=2)\n",
        "\n",
        "testset = torchvision.datasets.CIFAR10(root='./data', train=False,\n",
        "                                       download=True, transform=transform)\n",
        "testloader = torch.utils.data.DataLoader(testset, batch_size=4,\n",
        "                                         shuffle=False, num_workers=2)\n",
        "\n",
        "classes = ('plane', 'car', 'bird', 'cat',\n",
        "           'deer', 'dog', 'frog', 'horse', 'ship', 'truck')"
      ],
      "metadata": {
        "colab": {
          "base_uri": "https://localhost:8080/",
          "height": 100,
          "referenced_widgets": [
            "80834b3738b04f7ca74c97bf579cc479",
            "047e0186a5c64f1cb6249d5ad7de938d",
            "8ca742ff293b49b0b80dfc380d171c57",
            "0459ef0a8bb7415d8e28c4f86bcdd523",
            "2f87e66c744c4ebba3bf3e099df14ef8",
            "201521c7a30249bbbc4425cb4aad5587",
            "0214c082a2fb40a983f0d7ff25c0e612",
            "0280b897d6934de8a2385b9a8b647f56",
            "4e17864185b044fdbba9ae25b645ae34",
            "1eb25f8eba76489ba8bc34e3b598347d",
            "76bb2737e36943f6ab23771b829193f8"
          ]
        },
        "id": "3JmkyrBtmUc8",
        "outputId": "0cce8f12-2c68-47e3-e965-fe6567e53a93"
      },
      "execution_count": null,
      "outputs": [
        {
          "output_type": "stream",
          "name": "stdout",
          "text": [
            "Downloading https://www.cs.toronto.edu/~kriz/cifar-10-python.tar.gz to ./data/cifar-10-python.tar.gz\n"
          ]
        },
        {
          "output_type": "display_data",
          "data": {
            "application/vnd.jupyter.widget-view+json": {
              "model_id": "80834b3738b04f7ca74c97bf579cc479",
              "version_minor": 0,
              "version_major": 2
            },
            "text/plain": [
              "  0%|          | 0/170498071 [00:00<?, ?it/s]"
            ]
          },
          "metadata": {}
        },
        {
          "output_type": "stream",
          "name": "stdout",
          "text": [
            "Extracting ./data/cifar-10-python.tar.gz to ./data\n",
            "Files already downloaded and verified\n"
          ]
        }
      ]
    },
    {
      "cell_type": "code",
      "source": [
        "import torch.nn as nn\n",
        "import torch.nn.functional as F\n",
        "\n",
        "\n",
        "class Net(nn.Module):\n",
        "    def __init__(self):\n",
        "        super(Net, self).__init__()\n",
        "        self.conv1 = nn.Conv2d(3, 6, 5)\n",
        "        self.pool1 = nn.MaxPool2d(2, 2)\n",
        "        self.pool2 = nn.MaxPool2d(2, 2)\n",
        "        self.conv2 = nn.Conv2d(6, 16, 5)\n",
        "        self.fc1 = nn.Linear(16 * 5 * 5, 120)\n",
        "        self.fc2 = nn.Linear(120, 84)\n",
        "        self.fc3 = nn.Linear(84, 10)\n",
        "        self.relu1 = nn.ReLU()\n",
        "        self.relu2 = nn.ReLU()\n",
        "        self.relu3 = nn.ReLU()\n",
        "        self.relu4 = nn.ReLU()\n",
        "\n",
        "    def forward(self, x):\n",
        "        x = self.pool1(self.relu1(self.conv1(x)))\n",
        "        x = self.pool2(self.relu2(self.conv2(x)))\n",
        "        x = x.view(-1, 16 * 5 * 5)\n",
        "        x = self.relu3(self.fc1(x))\n",
        "        x = self.relu4(self.fc2(x))\n",
        "        x = self.fc3(x)\n",
        "        return x\n",
        "\n",
        "\n",
        "net = Net()"
      ],
      "metadata": {
        "id": "8GGEQyB9n-TX"
      },
      "execution_count": null,
      "outputs": []
    },
    {
      "cell_type": "code",
      "source": [
        "import torch.optim as optim\n",
        "\n",
        "criterion = nn.CrossEntropyLoss()\n",
        "optimizer = optim.SGD(net.parameters(), lr=0.001, momentum=0.9)"
      ],
      "metadata": {
        "id": "xrB3akdwoXPc"
      },
      "execution_count": null,
      "outputs": []
    },
    {
      "cell_type": "code",
      "source": [
        "for epoch in range(2):  # loop over the dataset multiple times\n",
        "\n",
        "    running_loss = 0.0\n",
        "    for i, data in enumerate(trainloader, 0):\n",
        "        # get the inputs; data is a list of [inputs, labels]\n",
        "        inputs, labels = data\n",
        "\n",
        "        # zero the parameter gradients\n",
        "        optimizer.zero_grad()\n",
        "\n",
        "        # forward + backward + optimize\n",
        "        outputs = net(inputs)\n",
        "        loss = criterion(outputs, labels)\n",
        "        loss.backward()\n",
        "        optimizer.step()\n",
        "\n",
        "        # print statistics\n",
        "        running_loss += loss.item()\n",
        "        if i % 2000 == 1999:    # print every 2000 mini-batches\n",
        "            print(f'[{epoch + 1}, {i + 1:5d}] loss: {running_loss / 2000:.3f}')\n",
        "            running_loss = 0.0\n",
        "\n",
        "print('Finished Training')"
      ],
      "metadata": {
        "colab": {
          "base_uri": "https://localhost:8080/"
        },
        "id": "xegN3k-voZj1",
        "outputId": "1d5096d5-3dc8-4d3c-c7c4-a024481aa6c7"
      },
      "execution_count": null,
      "outputs": [
        {
          "output_type": "stream",
          "name": "stdout",
          "text": [
            "[1,  2000] loss: 2.195\n",
            "[1,  4000] loss: 1.921\n",
            "[1,  6000] loss: 1.720\n",
            "[1,  8000] loss: 1.621\n",
            "[1, 10000] loss: 1.562\n",
            "[1, 12000] loss: 1.492\n",
            "[2,  2000] loss: 1.435\n",
            "[2,  4000] loss: 1.434\n",
            "[2,  6000] loss: 1.409\n",
            "[2,  8000] loss: 1.387\n",
            "[2, 10000] loss: 1.341\n",
            "[2, 12000] loss: 1.324\n",
            "Finished Training\n"
          ]
        }
      ]
    },
    {
      "cell_type": "code",
      "source": [
        "def imshow(img, transpose = True):\n",
        "    img = img / 2 + 0.5     # unnormalize\n",
        "    npimg = img.numpy()\n",
        "    plt.imshow(np.transpose(npimg, (1, 2, 0)))\n",
        "    plt.show()\n",
        "\n",
        "dataiter = iter(testloader)\n",
        "images, labels = dataiter.next()\n",
        "\n",
        "# print images\n",
        "imshow(torchvision.utils.make_grid(images))\n",
        "print('GroundTruth: ', ' '.join('%5s' % classes[labels[j]] for j in range(4)))\n",
        "\n",
        "\n",
        "outputs = net(images)\n",
        "\n",
        "_, predicted = torch.max(outputs, 1)\n",
        "\n",
        "print('Predicted: ', ' '.join('%5s' % classes[predicted[j]]\n",
        "                              for j in range(4)))"
      ],
      "metadata": {
        "colab": {
          "base_uri": "https://localhost:8080/",
          "height": 172
        },
        "id": "nrAGi9rJpm-o",
        "outputId": "0d2d8718-de38-461b-95f3-ef4d2bc62c07"
      },
      "execution_count": null,
      "outputs": [
        {
          "output_type": "display_data",
          "data": {
            "image/png": "[encoded data removed]",
            "text/plain": [
              "<Figure size 432x288 with 1 Axes>"
            ]
          },
          "metadata": {
            "needs_background": "light"
          }
        },
        {
          "output_type": "stream",
          "name": "stdout",
          "text": [
            "GroundTruth:    cat  ship  ship plane\n",
            "Predicted:    cat  ship   car  ship\n"
          ]
        }
      ]
    },
    {
      "cell_type": "code",
      "source": [
        "ind = 3\n",
        "\n",
        "input = images[ind].unsqueeze(0)\n",
        "input.requires_grad = True"
      ],
      "metadata": {
        "id": "r5NgHxNCpnfg"
      },
      "execution_count": null,
      "outputs": []
    },
    {
      "cell_type": "code",
      "source": [
        "# Turn off some parts of the network that were used in training (ex: droupout)\n",
        "net.eval()"
      ],
      "metadata": {
        "colab": {
          "base_uri": "https://localhost:8080/"
        },
        "id": "Mz0fZVJbprOu",
        "outputId": "002d5bea-cf46-4dc3-d31d-47772568abf4"
      },
      "execution_count": null,
      "outputs": [
        {
          "output_type": "execute_result",
          "data": {
            "text/plain": [
              "Net(\n",
              "  (conv1): Conv2d(3, 6, kernel_size=(5, 5), stride=(1, 1))\n",
              "  (pool1): MaxPool2d(kernel_size=2, stride=2, padding=0, dilation=1, ceil_mode=False)\n",
              "  (pool2): MaxPool2d(kernel_size=2, stride=2, padding=0, dilation=1, ceil_mode=False)\n",
              "  (conv2): Conv2d(6, 16, kernel_size=(5, 5), stride=(1, 1))\n",
              "  (fc1): Linear(in_features=400, out_features=120, bias=True)\n",
              "  (fc2): Linear(in_features=120, out_features=84, bias=True)\n",
              "  (fc3): Linear(in_features=84, out_features=10, bias=True)\n",
              "  (relu1): ReLU()\n",
              "  (relu2): ReLU()\n",
              "  (relu3): ReLU()\n",
              "  (relu4): ReLU()\n",
              ")"
            ]
          },
          "metadata": {},
          "execution_count": 11
        }
      ]
    },
    {
      "cell_type": "code",
      "source": [
        "def attribute_image_features(algorithm, input, **kwargs):\n",
        "    net.zero_grad()\n",
        "    tensor_attributions = algorithm.attribute(input,\n",
        "                                              target=labels[ind],\n",
        "                                              **kwargs\n",
        "                                             )\n",
        "    \n",
        "    return tensor_attributions\n",
        "        "
      ],
      "metadata": {
        "id": "kPO6kQSoptcM"
      },
      "execution_count": null,
      "outputs": []
    },
    {
      "cell_type": "code",
      "source": [
        "saliency = Saliency(net)\n",
        "grads = saliency.attribute(input, target=labels[ind].item())\n",
        "grads = np.transpose(grads.squeeze().cpu().detach().numpy(), (1, 2, 0))"
      ],
      "metadata": {
        "id": "fN-c1wtbqF82"
      },
      "execution_count": null,
      "outputs": []
    },
    {
      "cell_type": "code",
      "source": [
        "ig = IntegratedGradients(net)\n",
        "attr_ig, delta = attribute_image_features(ig, input, baselines=input * 0, return_convergence_delta=True)\n",
        "attr_ig = np.transpose(attr_ig.squeeze().cpu().detach().numpy(), (1, 2, 0))\n",
        "print('Approximation delta: ', abs(delta))"
      ],
      "metadata": {
        "colab": {
          "base_uri": "https://localhost:8080/"
        },
        "id": "2AWk1JMbqGQM",
        "outputId": "33f19c17-e159-4776-97ca-4666b72dfac4"
      },
      "execution_count": null,
      "outputs": [
        {
          "output_type": "stream",
          "name": "stdout",
          "text": [
            "Approximation delta:  tensor([0.0413], dtype=torch.float64)\n"
          ]
        }
      ]
    },
    {
      "cell_type": "code",
      "source": [
        "ig = IntegratedGradients(net)\n",
        "nt = NoiseTunnel(ig)\n",
        "attr_ig_nt = attribute_image_features(nt, input, baselines=input * 0, nt_type='smoothgrad_sq',\n",
        "                                      nt_samples=100, stdevs=0.2)\n",
        "attr_ig_nt = np.transpose(attr_ig_nt.squeeze(0).cpu().detach().numpy(), (1, 2, 0))"
      ],
      "metadata": {
        "id": "DHlkLnCrqexW"
      },
      "execution_count": null,
      "outputs": []
    },
    {
      "cell_type": "code",
      "source": [
        "dl = DeepLift(net)\n",
        "attr_dl = attribute_image_features(dl, input, baselines=input * 0)\n",
        "attr_dl = np.transpose(attr_dl.squeeze(0).cpu().detach().numpy(), (1, 2, 0))"
      ],
      "metadata": {
        "colab": {
          "base_uri": "https://localhost:8080/"
        },
        "id": "tHq28ZsWqi6e",
        "outputId": "f22d7a5d-b3b7-4684-d4a2-29b09e788372"
      },
      "execution_count": null,
      "outputs": [
        {
          "output_type": "stream",
          "name": "stderr",
          "text": [
            "/usr/local/lib/python3.7/dist-packages/captum/attr/_core/deep_lift.py:323: UserWarning: Setting forward, backward hooks and attributes on non-linear\n",
            "               activations. The hooks and attributes will be removed\n",
            "            after the attribution is finished\n",
            "  after the attribution is finished\"\"\"\n"
          ]
        }
      ]
    },
    {
      "cell_type": "code",
      "source": [
        "print('Original Image')\n",
        "print('Predicted:', classes[predicted[ind]], \n",
        "      ' Probability:', torch.max(F.softmax(outputs, 1)).item())\n",
        "\n",
        "original_image = np.transpose((images[ind].cpu().detach().numpy() / 2) + 0.5, (1, 2, 0))\n",
        "\n",
        "_ = viz.visualize_image_attr(None, original_image, \n",
        "                      method=\"original_image\", title=\"Original Image\")\n",
        "\n",
        "_ = viz.visualize_image_attr(grads, original_image, method=\"blended_heat_map\", sign=\"absolute_value\",\n",
        "                          show_colorbar=True, title=\"Overlayed Gradient Magnitudes\")\n",
        "\n",
        "_ = viz.visualize_image_attr(attr_ig, original_image, method=\"blended_heat_map\",sign=\"all\",\n",
        "                          show_colorbar=True, title=\"Overlayed Integrated Gradients\")\n",
        "\n",
        "_ = viz.visualize_image_attr(attr_ig_nt, original_image, method=\"blended_heat_map\", sign=\"absolute_value\", \n",
        "                             outlier_perc=10, show_colorbar=True, \n",
        "                             title=\"Overlayed Integrated Gradients \\n with SmoothGrad Squared\")\n",
        "\n",
        "_ = viz.visualize_image_attr(attr_dl, original_image, method=\"blended_heat_map\",sign=\"all\",show_colorbar=True, \n",
        "                          title=\"Overlayed DeepLift\")"
      ],
      "metadata": {
        "id": "nV27RirWql9O",
        "outputId": "ae76afbe-30c6-4ec7-a149-24ce5c1d6202",
        "colab": {
          "base_uri": "https://localhost:8080/",
          "height": 1000
        }
      },
      "execution_count": null,
      "outputs": [
        {
          "output_type": "stream",
          "name": "stdout",
          "text": [
            "Original Image\n",
            "Predicted: ship  Probability: 0.6449168920516968\n"
          ]
        },
        {
          "output_type": "display_data",
          "data": {
            "image/png": "[encoded data removed]",
            "text/plain": [
              "<Figure size 432x432 with 1 Axes>"
            ]
          },
          "metadata": {
            "needs_background": "light"
          }
        },
        {
          "output_type": "display_data",
          "data": {
            "image/png": "[encoded data removed]",
            "text/plain": [
              "<Figure size 432x432 with 2 Axes>"
            ]
          },
          "metadata": {
            "needs_background": "light"
          }
        },
        {
          "output_type": "display_data",
          "data": {
            "image/png": "[encoded data removed]",
            "text/plain": [
              "<Figure size 432x432 with 2 Axes>"
            ]
          },
          "metadata": {
            "needs_background": "light"
          }
        },
        {
          "output_type": "display_data",
          "data": {
            "image/png": "[encoded data removed]",
            "text/plain": [
              "<Figure size 432x432 with 2 Axes>"
            ]
          },
          "metadata": {
            "needs_background": "light"
          }
        },
        {
          "output_type": "display_data",
          "data": {
            "image/png": "[encoded data removed]",
            "text/plain": [
              "<Figure size 432x432 with 2 Axes>"
            ]
          },
          "metadata": {
            "needs_background": "light"
          }
        }
      ]
    },
    {
      "cell_type": "code",
      "source": [
        ""
      ],
      "metadata": {
        "id": "ZraQf-sdqoik"
      },
      "execution_count": null,
      "outputs": []
    }
  ]
}