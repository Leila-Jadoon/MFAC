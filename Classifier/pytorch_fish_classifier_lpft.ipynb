{
  "cells": [
    {
      "cell_type": "markdown",
      "metadata": {
        "id": "iwv87i7kt60v"
      },
      "source": [
        "#Requirements\n",
        "In this secttion we import the required packages for training our classifier."
      ]
    },
    {
      "cell_type": "code",
      "execution_count": 28,
      "metadata": {
        "colab": {
          "base_uri": "https://localhost:8080/"
        },
        "id": "_kA_BNgzN7Zn",
        "outputId": "75d90f59-ef9c-4f50-9c77-f62396caa0a2"
      },
      "outputs": [
        {
          "output_type": "stream",
          "name": "stdout",
          "text": [
            "cuda:0\n"
          ]
        }
      ],
      "source": [
        "import torch\n",
        "import torch.optim as optim\n",
        "from torch.optim import lr_scheduler\n",
        "\n",
        "import torch.nn as nn\n",
        "from torch.utils.data import TensorDataset, DataLoader\n",
        "\n",
        "import torchvision\n",
        "from torchvision import datasets, models, transforms\n",
        "import copy\n",
        "\n",
        "import numpy as np\n",
        "import pandas as pd\n",
        "\n",
        "%matplotlib inline \n",
        "import matplotlib.pyplot as plt\n",
        "import time\n",
        "import os\n",
        "import copy\n",
        "import random\n",
        "import math\n",
        "import string\n",
        "\n",
        "import scipy.stats as stats\n",
        "\n",
        "from sklearn.model_selection import train_test_split\n",
        "from sklearn.metrics import accuracy_score\n",
        "from sklearn.metrics import confusion_matrix\n",
        "from sklearn.mixture import GaussianMixture\n",
        "\n",
        "from skimage.filters import sobel\n",
        "from skimage.color import rgb2gray\n",
        "\n",
        "device = torch.device(\"cuda:0\" if torch.cuda.is_available() else \"cpu\")\n",
        "\n",
        "print(device)"
      ]
    },
    {
      "cell_type": "code",
      "execution_count": 29,
      "metadata": {
        "colab": {
          "base_uri": "https://localhost:8080/"
        },
        "id": "G_MSIOaV8fAk",
        "outputId": "32efac53-564c-4143-e31f-910504a1afe3"
      },
      "outputs": [
        {
          "output_type": "stream",
          "name": "stdout",
          "text": [
            "Drive already mounted at /content/drive; to attempt to forcibly remount, call drive.mount(\"/content/drive\", force_remount=True).\n"
          ]
        }
      ],
      "source": [
        "#We mount the google drive. If You are running this notebook locally do not run this cell. \n",
        "from google.colab import drive\n",
        "drive.mount('/content/drive')"
      ]
    },
    {
      "cell_type": "markdown",
      "metadata": {
        "id": "UxpvNK6It6PI"
      },
      "source": [
        "#Configurations\n",
        "In this section we define the configs for training. "
      ]
    },
    {
      "cell_type": "code",
      "execution_count": 30,
      "metadata": {
        "id": "62mzNuS-89r8"
      },
      "outputs": [],
      "source": [
        "DATASET = \"Allele B Cropped\"\n",
        "X_PATH = \"/content/drive/Shareddrives/Exploding Gradients/X_cropped_b.npy\"\n",
        "Y_PATH= \"/content/drive/Shareddrives/Exploding Gradients/y_b.npy\"\n",
        "\n",
        "\n",
        "BACKBONE = \"Efficientnet b7\"\n",
        "MULTI_BACKBONE = True\n",
        "OPTIM = \"Adam\"\n",
        "LR =5e-5\n",
        "SCHEDULER = \"None\"\n",
        "EPOCHS = 120\n",
        "BATCHSIZE = 4\n",
        "DROPOUT = [0.5]\n",
        "AUGMENTATION = True\n",
        "\n",
        "#The following is a list of hyper parameters to test. All Permuttations will be\n",
        "#tested\n",
        "\n",
        "WEIGHT_DECAY = [1e-5]\n"
      ]
    },
    {
      "cell_type": "markdown",
      "metadata": {
        "id": "vk8VqKiOuv-U"
      },
      "source": [
        "#Data Processing\n",
        "In this section, we read the dataset as a pre saved numpy array. After reading the datset. we divide it into train-test sets. We tthen create a pytorch dataset which we will then turn into a dataloader. "
      ]
    },
    {
      "cell_type": "code",
      "execution_count": 31,
      "metadata": {
        "colab": {
          "base_uri": "https://localhost:8080/"
        },
        "id": "Ob7GdwdTOjia",
        "outputId": "254b4e32-bf18-4510-a699-2d1eaead6532"
      },
      "outputs": [
        {
          "output_type": "stream",
          "name": "stdout",
          "text": [
            "X Tensor Shape:  (285, 4, 130, 750, 3)\n",
            "y Tensor Shape:  (285, 1)\n"
          ]
        }
      ],
      "source": [
        "#We read the \n",
        "x = np.load(X_PATH)\n",
        "y = np.load(Y_PATH)\n",
        "print(\"X Tensor Shape: \",x.shape)\n",
        "print(\"y Tensor Shape: \",y.shape)"
      ]
    },
    {
      "cell_type": "code",
      "execution_count": 32,
      "metadata": {
        "colab": {
          "base_uri": "https://localhost:8080/",
          "height": 252
        },
        "id": "qQq6Lhq3_E1-",
        "outputId": "3de41163-71eb-45a2-9be6-9f6f944a33c3"
      },
      "outputs": [
        {
          "output_type": "display_data",
          "data": {
            "text/plain": [
              "<Figure size 432x288 with 1 Axes>"
            ],
            "image/png": "[encoded data removed]"
          },
          "metadata": {}
        }
      ],
      "source": [
        "# In this part we draw the pie graph for the distribution of the data with 3 labels\n",
        "import matplotlib.pyplot as plt\n",
        "\n",
        "percentages= [np.count_nonzero(y==0),\n",
        "              np.count_nonzero(y==1),\n",
        "              np.count_nonzero(y==2)]\n",
        "              \n",
        "fig1, ax1 = plt.subplots()\n",
        "ax1.pie(percentages,labels=[\"1\",\"2\",\"3\"], autopct='%1.1f%%',\n",
        "        shadow=True, startangle=90)\n",
        "ax1.axis('equal')  \n",
        "\n",
        "plt.show()"
      ]
    },
    {
      "cell_type": "code",
      "execution_count": 33,
      "metadata": {
        "colab": {
          "base_uri": "https://localhost:8080/"
        },
        "id": "t2tTpGUZPSgL",
        "outputId": "0bb25a8e-0a04-4fd3-ac95-5931472456bc"
      },
      "outputs": [
        {
          "output_type": "stream",
          "name": "stdout",
          "text": [
            "x train shape:  torch.Size([230, 4, 3, 130, 750])\n",
            "y train shape:  torch.Size([230, 1])\n",
            "x test shape:  torch.Size([29, 4, 3, 130, 750])\n",
            "y test shape:  torch.Size([29, 1])\n",
            "x validation shape:  torch.Size([26, 4, 3, 130, 750])\n",
            "y validation shape:  torch.Size([26, 1])\n"
          ]
        }
      ],
      "source": [
        "# We creatte tensors from the numpy arrays\n",
        "tensor_x = torch.Tensor(x) \n",
        "tensor_y = torch.Tensor(y).long()\n",
        "\n",
        "#initially the data is in the form (Batch, 4Images, Width, Height, Channels)\n",
        "#We then  change it to (Batch, 4Images,Channels, Width, Height )\n",
        "tensor_x = torch.swapaxes(tensor_x,2,4)\n",
        "tensor_x = torch.swapaxes(tensor_x,3,4)\n",
        "\n",
        "x_train,x_test,y_train,y_test = train_test_split(tensor_x,tensor_y,test_size=0.1,stratify=tensor_y)\n",
        "x_train,x_validation,y_train,y_validation = train_test_split(x_train,y_train,test_size=0.1,stratify=y_train)\n",
        "\n",
        "print(\"x train shape: \", x_train.shape)\n",
        "print(\"y train shape: \", y_train.shape)\n",
        "print(\"x test shape: \", x_test.shape)\n",
        "print(\"y test shape: \", y_test.shape)\n",
        "print(\"x validation shape: \", x_validation.shape)\n",
        "print(\"y validation shape: \", y_validation.shape)\n",
        "\n",
        "train_ds = TensorDataset(x_train, nn.functional.one_hot(y_train,3))\n",
        "validation_ds = TensorDataset(x_validation, nn.functional.one_hot(y_validation,3))\n",
        "test_ds = TensorDataset(x_test,nn.functional.one_hot(y_test,3)) \n",
        "train_dl = DataLoader(train_ds,BATCHSIZE,shuffle = True)\n",
        "validation_dl = DataLoader(validation_ds,BATCHSIZE)\n",
        "test_dl = DataLoader(test_ds,BATCHSIZE)\n",
        "del x, y"
      ]
    },
    {
      "cell_type": "code",
      "execution_count": 34,
      "metadata": {
        "colab": {
          "base_uri": "https://localhost:8080/",
          "height": 252
        },
        "id": "9ien3JWFXYe3",
        "outputId": "4ab65545-9631-48b3-aa59-c0f8d12fb782"
      },
      "outputs": [
        {
          "output_type": "display_data",
          "data": {
            "text/plain": [
              "<Figure size 432x288 with 1 Axes>"
            ],
            "image/png": "[encoded data removed]"
          },
          "metadata": {}
        }
      ],
      "source": [
        "#The following is the distribution of the test set\n",
        "#We want this to be similar to the dataset as a whole\n",
        "import matplotlib.pyplot as plt\n",
        "\n",
        "percentages= [np.count_nonzero(y_test==0),\n",
        "              np.count_nonzero(y_test==1),\n",
        "              np.count_nonzero(y_test==2)]\n",
        "              \n",
        "fig1, ax1 = plt.subplots()\n",
        "ax1.pie(percentages,labels=[\"1\",\"2\",\"3\"], autopct='%1.1f%%',\n",
        "        shadow=True, startangle=90)\n",
        "ax1.axis('equal')  \n",
        "\n",
        "plt.show()"
      ]
    },
    {
      "cell_type": "markdown",
      "metadata": {
        "id": "6qxyFVTvyJ9G"
      },
      "source": [
        "#Classifier\n",
        "The following section includes the code for the classifier.\n",
        "We have support for muliple backbones. \n"
      ]
    },
    {
      "cell_type": "code",
      "execution_count": 35,
      "metadata": {
        "id": "Og6k2dvk8Wni"
      },
      "outputs": [],
      "source": [
        "#This function takes in a model and replaces inplace relu layers to an independent relu layer\n",
        "def reluToInplaceFalse(model):\n",
        "  for name, child in model.named_children():\n",
        "    if isinstance(child, nn.ReLU):\n",
        "      setattr(child, 'inplace', False)\n",
        "    else:\n",
        "      reluToInplaceFalse(child)"
      ]
    },
    {
      "cell_type": "code",
      "execution_count": 36,
      "metadata": {
        "id": "VHTLP0NoRnLm"
      },
      "outputs": [],
      "source": [
        "#This is the classifier Class.\n",
        "from torchvision.transforms.transforms import RandomRotation, RandomAdjustSharpness, RandomGrayscale\n",
        "\n",
        "class Classifier(torch.nn.Module):\n",
        "\n",
        "  def __init__(self, backbone='resnet', multi_backbone = False, device =\"cuda:0\",dropout_rate = 0.2, do_augmentation = False):\n",
        "    super().__init__()\n",
        "    self.multi_backbone = multi_backbone # Bool: Indicates if we use multibackbone\n",
        "\n",
        "    #In the following secttion we download the appropriatee prettrained model\n",
        "    if backbone == \"vgg19\":\n",
        "      backbone = torchvision.models.vgg19(pretrained=True)\n",
        "      self.out_channels = 25088\n",
        "      \n",
        "    elif backbone == \"resnet18\":\n",
        "      backbone = torchvision.models.resnet18(pretrained=True)\n",
        "      self.out_channels = 512\n",
        "\n",
        "    elif backbone == \"resnet50\":\n",
        "      backbone = torchvision.models.resnet50(pretrained=True)\n",
        "      self.out_channels = 2048\n",
        "\n",
        "    elif backbone == \"Efficientnet b1\":\n",
        "      backbone = torchvision.models.efficientnet_b1(pretrained=True)\n",
        "      self.out_channels = 1280\n",
        "\n",
        "    elif backbone == \"Efficientnet b3\":\n",
        "      backbone = torchvision.models.efficientnet_b3(pretrained=True)\n",
        "      self.out_channels = 1536\n",
        "\n",
        "    elif backbone == \"Efficientnet b5\":\n",
        "      backbone = torchvision.models.efficientnet_b5(pretrained=True)\n",
        "      self.out_channels = 2048\n",
        "\n",
        "    elif backbone == \"Efficientnet b7\":\n",
        "      backbone = torchvision.models.efficientnet_b7(pretrained=True)\n",
        "      self.out_channels = 2560\n",
        "      \n",
        "    # Disabling inplace ReLu becasuse GradCam doesn't work it enabled\n",
        "    reluToInplaceFalse(backbone)\n",
        "     \n",
        "    modules = list(backbone.children())[:-1]\n",
        "    self.do_augmentation = do_augmentation\n",
        "\n",
        "    if self.do_augmentation: #If augmentation is enabled we  init tthe layer\n",
        "      self.augmentation = nn.Sequential(transforms.RandomHorizontalFlip(0.5),\n",
        "                                        transforms.RandomVerticalFlip(0.5),\n",
        "                                        # transforms.RandomPerspective(0.2),\n",
        "                                        transforms.RandomCrop(size=(125,745)),\n",
        "                                        transforms.RandomRotation(10, interpolation=transforms.InterpolationMode.BILINEAR),\n",
        "                                        # RandomAdjustSharpness(,),\n",
        "                                        # RandomGrayscale(),\n",
        "                                        # transforms.RandomAutocontrast()\n",
        "      )\n",
        "\n",
        "    if self.multi_backbone: #We create the backbones and put them on the device\n",
        "      self.backbone1 = nn.Sequential(*copy.deepcopy(modules)).to(device)\n",
        "      self.backbone2 = nn.Sequential(*copy.deepcopy(modules)).to(device)\n",
        "      self.backbone3 = nn.Sequential(*copy.deepcopy(modules)).to(device)\n",
        "      self.backbone4 = nn.Sequential(*copy.deepcopy(modules)).to(device)\n",
        "\n",
        "    else:\n",
        "      self.backbone =  nn.Sequential(*modules).to(device)\n",
        "\n",
        "\n",
        "    #This is the final classification layer\n",
        "    self.fc = nn.Sequential(nn.Dropout(dropout_rate),\n",
        "                            nn.Linear(self.out_channels * 4, 3))                \n",
        "     \n",
        "  def forward(self, x, is_training = True): \n",
        "    if self.do_augmentation and is_training:\n",
        "      imgs = [self.augmentation(x[:,i]) for i in range(4)] #list of 4 images\n",
        "    else:\n",
        "      imgs = [x[:,i] for i in range(4)] #list of 4 images\n",
        "\n",
        "    if self.multi_backbone:\n",
        "      encodings = [self.backbone1(imgs[0]).flatten(1), \n",
        "                   self.backbone2(imgs[1]).flatten(1),\n",
        "                   self.backbone3(imgs[2]).flatten(1),\n",
        "                   self.backbone4(imgs[3]).flatten(1)]\n",
        "    else:\n",
        "      encodings = [self.backbone(img).flatten(1) for img in imgs]\n",
        "\n",
        "    return self.fc(torch.cat(encodings,1))\n"
      ]
    },
    {
      "cell_type": "markdown",
      "metadata": {
        "id": "7LPQIAFx5jfC"
      },
      "source": [
        "#Training\n",
        "This secttion containes the code for training the model."
      ]
    },
    {
      "cell_type": "markdown",
      "metadata": {
        "id": "LJCPliROwCVF"
      },
      "source": [
        "## Test Model"
      ]
    },
    {
      "cell_type": "code",
      "execution_count": 37,
      "metadata": {
        "id": "H6wrm2SBPmc9"
      },
      "outputs": [],
      "source": [
        "from torch.utils.tensorboard import SummaryWriter\n",
        "from tqdm import tqdm\n",
        "\n",
        "def test_model(model, test_dl, criterion):\n",
        "  test_running_loss = 0.0\n",
        "  test_running_corrects = 0\n",
        "  model.eval()\n",
        "  with torch.no_grad():\n",
        "    for inputs, labels in test_dl:\n",
        "      inputs = inputs.to(device, non_blocking = True)\n",
        "      labels = labels.to(device, non_blocking = True)\n",
        "      labels = labels.squeeze(1)\n",
        "      outputs = model(inputs,is_training=False)\n",
        "      loss = criterion(outputs, labels.float())\n",
        "      _, preds = torch.max(outputs, 1)\n",
        "\n",
        "\n",
        "      test_running_loss += loss.item() * inputs.size(0)\n",
        "      test_running_corrects += torch.sum(preds == torch.argmax(labels,1))\n",
        "  \n",
        "  eval_loss = test_running_loss / len(test_dl.dataset)\n",
        "  eval_acc = test_running_corrects.double() / len(test_dl.dataset)\n",
        "  return eval_loss, eval_acc\n"
      ]
    },
    {
      "cell_type": "markdown",
      "metadata": {
        "id": "hUqTtYNB6Xmn"
      },
      "source": [
        "## Training  with linear probing-fine tuning\n",
        "\n",
        "https://arxiv.org/abs/2202.10054"
      ]
    },
    {
      "cell_type": "code",
      "execution_count": 38,
      "metadata": {
        "id": "94nssmyc6YKS"
      },
      "outputs": [],
      "source": [
        "# Freeze the pretrained backbone for linear probing - fine tuning\n",
        "def freeze_backbone(model):\n",
        "  # freeze all layers\n",
        "  if model.multi_backbone:\n",
        "    for param in model.backbone1.parameters():\n",
        "      param.requires_grad = False\n",
        "\n",
        "    for param in model.backbone2.parameters():\n",
        "      param.requires_grad = False\n",
        "\n",
        "    for param in model.backbone3.parameters():\n",
        "      param.requires_grad = False\n",
        "\n",
        "    for param in model.backbone4.parameters():\n",
        "      param.requires_grad = False\n",
        "  else:\n",
        "    for param in model.backbone.parameters():\n",
        "      param.requires_grad = False\n",
        "  # unfreeze linear layers\n",
        "  model.fc.requires_grad = True\n",
        "\n",
        "def unfreeze_backbone(model):\n",
        "  if model.multi_backbone:\n",
        "    for param in model.backbone1.parameters():\n",
        "      param.requires_grad = True\n",
        "\n",
        "    for param in model.backbone2.parameters():\n",
        "      param.requires_grad = True\n",
        "\n",
        "    for param in model.backbone3.parameters():\n",
        "      param.requires_grad = True\n",
        "\n",
        "    for param in model.backbone4.parameters():\n",
        "      param.requires_grad = True\n",
        "  else:\n",
        "    for param in model.backbone.parameters():\n",
        "      param.requires_grad = True"
      ]
    },
    {
      "cell_type": "code",
      "execution_count": 39,
      "metadata": {
        "id": "P2cMlGFfv0r4"
      },
      "outputs": [],
      "source": [
        "\n",
        "from datetime import datetime\n",
        "from torch.utils.tensorboard import SummaryWriter\n",
        "from tqdm import tqdm\n",
        "\n",
        "\n",
        "# Based on the technique described in this paper\n",
        "# https://arxiv.org/abs/2202.10054\n",
        "def train_model_lpft(model, train_dl, validation_dl, test_dl, lr, weight_decay, evaluation_steps = 20, epochs = 1, savefile='model_' + datetime.today().strftime('%Y-%m-%d %H:%M:%S') + '.pt'):\n",
        "  writer = SummaryWriter('runs/lpft/' + savefile)\n",
        "\n",
        "  best_validate_acc = 0\n",
        "  best_validate_loss = float('inf')\n",
        "  best_validate_loss_step = 0\n",
        "  final_validate_loss = 0\n",
        "  final_validate_acc = 0\n",
        "\n",
        "  criterion = nn.CrossEntropyLoss()\n",
        "  optimizer = torch.optim.Adam(model.parameters(), lr=lr, weight_decay=weight_decay)\n",
        "\n",
        "  freeze_backbone(model)\n",
        "\n",
        "  step = 0\n",
        "  for epoch in tqdm(range(epochs)):\n",
        "    #print(f'Epoch : {epoch}')\n",
        "    running_loss = 0.0\n",
        "    running_corrects = 0\n",
        "\n",
        "    for inputs, labels, in train_dl:\n",
        "      inputs = inputs.to(device, non_blocking = True)\n",
        "      labels = labels.to(device, non_blocking = True)\n",
        "      labels = labels.squeeze(1)\n",
        "      model.train()\n",
        "      optimizer.zero_grad()\n",
        "      step += 1\n",
        "      outputs = model(inputs)\n",
        "\n",
        "      preds = torch.argmax(outputs, 1)\n",
        "      loss = criterion(outputs, labels.float())\n",
        "      loss.backward()\n",
        "      optimizer.step()\n",
        "      \n",
        "      running_loss += loss.item() * inputs.size(0)\n",
        "      running_corrects += torch.sum(preds == torch.argmax(labels, 1))\n",
        "\n",
        "      if step % evaluation_steps == 0:\n",
        "        validate_loss, validate_acc = test_model(model, validation_dl, criterion)\n",
        "        writer.add_scalar('Loss/validation', validate_loss, step)\n",
        "        writer.add_scalar('Accuracy/validation', validate_acc, step)\n",
        "\n",
        "        if validate_loss < best_validate_loss:\n",
        "          best_validate_loss = validate_loss\n",
        "          best_validate_loss_step = step\n",
        "          best_validate_acc = validate_acc\n",
        "          torch.save(model, savefile)\n",
        "\n",
        "        final_validate_loss = validate_loss\n",
        "        final_validate_acc = validate_acc\n",
        "\n",
        "    epoch_loss = running_loss / len(train_dl.dataset)\n",
        "    epoch_acc = running_corrects.double() / len(train_dl.dataset)\n",
        "    writer.add_scalar('Loss/train', epoch_loss, step)\n",
        "    writer.add_scalar('Accuracy/train', epoch_acc, step)\n",
        "    \n",
        "    final_train_loss = epoch_loss\n",
        "    final_train_acc = epoch_acc\n",
        "\n",
        "\n",
        "  test_loss, test_acc = test_model(torch.load(savefile), test_dl, criterion)\n",
        "  return {  \"Test Acc\": test_acc.cpu().item(),\n",
        "            \"Test Loss\": test_loss,\n",
        "            \"Best Validate Acc\": best_validate_acc.cpu().item(),\n",
        "            \"Best Validate Loss\": best_validate_loss,\n",
        "            \"Best Validate Step\": best_validate_loss_step,\n",
        "            \"Final Train Acc\": final_train_acc.cpu().item(),\n",
        "            \"Final Eval Acc\": final_validate_acc.cpu().item(),\n",
        "            \"Final Train Loss\": final_train_loss,\n",
        "            \"Final Eval Loss\": final_validate_loss,\n",
        "        }"
      ]
    },
    {
      "cell_type": "code",
      "execution_count": 40,
      "metadata": {
        "id": "AbxMX6PCHT2i"
      },
      "outputs": [],
      "source": [
        "# model = Classifier(dropout_rate=0.5,backbone=BACKBONE,multi_backbone=MULTI_BACKBONE).to(device)\n",
        "# train_model_lpft(model, train_dl, validation_dl, test_dl, LR, 1e-5, epochs=10, savefile = 'model_lpft.pt')"
      ]
    },
    {
      "cell_type": "code",
      "execution_count": 41,
      "metadata": {
        "colab": {
          "base_uri": "https://localhost:8080/"
        },
        "id": "t2U_z6_ZHKHc",
        "outputId": "539f96c0-e37c-4388-9c2d-8bb315bd0e17"
      },
      "outputs": [
        {
          "output_type": "stream",
          "name": "stdout",
          "text": [
            "Weight Decay 1e-05 \n",
            "Dropout Rate 0.5 \n",
            "------------------------------------------------------\n"
          ]
        },
        {
          "output_type": "stream",
          "name": "stderr",
          "text": [
            "100%|██████████| 120/120 [1:24:08<00:00, 42.07s/it]\n"
          ]
        }
      ],
      "source": [
        "#This part of the code runs multiple trainings on multiple combination on \n",
        "#specified hyperparameters for hyper-parameter tuning \n",
        "\n",
        "Sweep_Summary = {\n",
        "    \"Model\" : [],\n",
        "    \"Backbone\" : [],\n",
        "    \"Multi Backbone\": [],\n",
        "    \"Optim\" : [],\n",
        "    \"LR\" : [],\n",
        "    \"Scheduler\" : [],\n",
        "    \"Epochs\" : [],\n",
        "    \"Batch Size\" : [],\n",
        "    \"Dropout\": [],\n",
        "    \"Augmentation\": [],\n",
        "    \"Weight Decay\": [],\n",
        "    \"Test Loss\": [],\n",
        "    \"Test Acc\": [],\n",
        "    \"Best Validate Loss\": [],\n",
        "    \"Best Validate Step\": [],\n",
        "    \"Best Validate Acc\": [],\n",
        "    \"Final Train Acc\": [],\n",
        "    \"Final Eval Acc\": [],\n",
        "    \"Final Train Loss\": [],\n",
        "    \"Final Eval Loss\": [],\n",
        "\n",
        "}\n",
        "\n",
        "for weight_decay in WEIGHT_DECAY:\n",
        "  for dropout_rate in DROPOUT:\n",
        "    print(\"Weight Decay {} \".format(weight_decay))\n",
        "    print(\"Dropout Rate {} \\n------------------------------------------------------\".format(dropout_rate))\n",
        "    model_name = 'model{}{}.'.format(weight_decay,dropout_rate) + datetime.today().strftime('%Y-%m-%d %H:%M:%S') + '.pt'\n",
        "    model = Classifier(dropout_rate=dropout_rate,backbone=BACKBONE,multi_backbone=MULTI_BACKBONE, do_augmentation=AUGMENTATION).to(device)\n",
        "    summary = train_model_lpft(model,train_dl,validation_dl,test_dl,LR, weight_decay,epochs=EPOCHS,savefile=model_name)\n",
        "\n",
        "    Sweep_Summary[\"Model\"].append(model_name)\n",
        "    Sweep_Summary[\"Backbone\"].append(BACKBONE)\n",
        "    Sweep_Summary[\"Optim\"].append(OPTIM)\n",
        "    Sweep_Summary[\"LR\"].append(LR)\n",
        "    Sweep_Summary[\"Scheduler\"].append(SCHEDULER)      \n",
        "    Sweep_Summary[\"Epochs\"].append(EPOCHS)\n",
        "    Sweep_Summary[\"Batch Size\"].append(BATCHSIZE)\n",
        "    Sweep_Summary[\"Dropout\"].append(dropout_rate)\n",
        "    Sweep_Summary[\"Augmentation\"].append(AUGMENTATION)\n",
        "    Sweep_Summary[\"Weight Decay\"].append(weight_decay)\n",
        "    Sweep_Summary[\"Multi Backbone\"].append(MULTI_BACKBONE)\n",
        "    for key,value in summary.items():\n",
        "      Sweep_Summary[key].append(value)"
      ]
    },
    {
      "cell_type": "code",
      "execution_count": 42,
      "metadata": {
        "id": "LqSh4JADHRyq",
        "colab": {
          "base_uri": "https://localhost:8080/",
          "height": 232
        },
        "outputId": "4d614a8b-87b2-4276-fe92-230b46fa65d7"
      },
      "outputs": [
        {
          "output_type": "execute_result",
          "data": {
            "text/plain": [
              "                                  Model         Backbone  Multi Backbone  \\\n",
              "0  model1e-050.5.2022-05-11 07:31:54.pt  Efficientnet b7            True   \n",
              "\n",
              "  Optim       LR Scheduler  Epochs  Batch Size  Dropout  Augmentation  \\\n",
              "0  Adam  0.00005      None     120           4      0.5          True   \n",
              "\n",
              "   Weight Decay  Test Loss  Test Acc  Best Validate Loss  Best Validate Step  \\\n",
              "0       0.00001   1.010604  0.551724            1.012667                6280   \n",
              "\n",
              "   Best Validate Acc  Final Train Acc  Final Eval Acc  Final Train Loss  \\\n",
              "0           0.538462         0.613043        0.538462          0.877589   \n",
              "\n",
              "   Final Eval Loss  \n",
              "0         1.013843  "
            ],
            "text/html": [
              "\n",
              "  <div id=\"df-cc8e8ab0-b4c2-4236-8c0c-1980d9b4822c\">\n",
              "    <div class=\"colab-df-container\">\n",
              "      <div>\n",
              "<style scoped>\n",
              "    .dataframe tbody tr th:only-of-type {\n",
              "        vertical-align: middle;\n",
              "    }\n",
              "\n",
              "    .dataframe tbody tr th {\n",
              "        vertical-align: top;\n",
              "    }\n",
              "\n",
              "    .dataframe thead th {\n",
              "        text-align: right;\n",
              "    }\n",
              "</style>\n",
              "<table border=\"1\" class=\"dataframe\">\n",
              "  <thead>\n",
              "    <tr style=\"text-align: right;\">\n",
              "      <th></th>\n",
              "      <th>Model</th>\n",
              "      <th>Backbone</th>\n",
              "      <th>Multi Backbone</th>\n",
              "      <th>Optim</th>\n",
              "      <th>LR</th>\n",
              "      <th>Scheduler</th>\n",
              "      <th>Epochs</th>\n",
              "      <th>Batch Size</th>\n",
              "      <th>Dropout</th>\n",
              "      <th>Augmentation</th>\n",
              "      <th>Weight Decay</th>\n",
              "      <th>Test Loss</th>\n",
              "      <th>Test Acc</th>\n",
              "      <th>Best Validate Loss</th>\n",
              "      <th>Best Validate Step</th>\n",
              "      <th>Best Validate Acc</th>\n",
              "      <th>Final Train Acc</th>\n",
              "      <th>Final Eval Acc</th>\n",
              "      <th>Final Train Loss</th>\n",
              "      <th>Final Eval Loss</th>\n",
              "    </tr>\n",
              "  </thead>\n",
              "  <tbody>\n",
              "    <tr>\n",
              "      <th>0</th>\n",
              "      <td>model1e-050.5.2022-05-11 07:31:54.pt</td>\n",
              "      <td>Efficientnet b7</td>\n",
              "      <td>True</td>\n",
              "      <td>Adam</td>\n",
              "      <td>0.00005</td>\n",
              "      <td>None</td>\n",
              "      <td>120</td>\n",
              "      <td>4</td>\n",
              "      <td>0.5</td>\n",
              "      <td>True</td>\n",
              "      <td>0.00001</td>\n",
              "      <td>1.010604</td>\n",
              "      <td>0.551724</td>\n",
              "      <td>1.012667</td>\n",
              "      <td>6280</td>\n",
              "      <td>0.538462</td>\n",
              "      <td>0.613043</td>\n",
              "      <td>0.538462</td>\n",
              "      <td>0.877589</td>\n",
              "      <td>1.013843</td>\n",
              "    </tr>\n",
              "  </tbody>\n",
              "</table>\n",
              "</div>\n",
              "      <button class=\"colab-df-convert\" onclick=\"convertToInteractive('df-cc8e8ab0-b4c2-4236-8c0c-1980d9b4822c')\"\n",
              "              title=\"Convert this dataframe to an interactive table.\"\n",
              "              style=\"display:none;\">\n",
              "        \n",
              "  <svg xmlns=\"http://www.w3.org/2000/svg\" height=\"24px\"viewBox=\"0 0 24 24\"\n",
              "       width=\"24px\">\n",
              "    <path d=\"M0 0h24v24H0V0z\" fill=\"none\"/>\n",
              "    <path d=\"M18.56 5.44l.94 2.06.94-2.06 2.06-.94-2.06-.94-.94-2.06-.94 2.06-2.06.94zm-11 1L8.5 8.5l.94-2.06 2.06-.94-2.06-.94L8.5 2.5l-.94 2.06-2.06.94zm10 10l.94 2.06.94-2.06 2.06-.94-2.06-.94-.94-2.06-.94 2.06-2.06.94z\"/><path d=\"M17.41 7.96l-1.37-1.37c-.4-.4-.92-.59-1.43-.59-.52 0-1.04.2-1.43.59L10.3 9.45l-7.72 7.72c-.78.78-.78 2.05 0 2.83L4 21.41c.39.39.9.59 1.41.59.51 0 1.02-.2 1.41-.59l7.78-7.78 2.81-2.81c.8-.78.8-2.07 0-2.86zM5.41 20L4 18.59l7.72-7.72 1.47 1.35L5.41 20z\"/>\n",
              "  </svg>\n",
              "      </button>\n",
              "      \n",
              "  <style>\n",
              "    .colab-df-container {\n",
              "      display:flex;\n",
              "      flex-wrap:wrap;\n",
              "      gap: 12px;\n",
              "    }\n",
              "\n",
              "    .colab-df-convert {\n",
              "      background-color: #E8F0FE;\n",
              "      border: none;\n",
              "      border-radius: 50%;\n",
              "      cursor: pointer;\n",
              "      display: none;\n",
              "      fill: #1967D2;\n",
              "      height: 32px;\n",
              "      padding: 0 0 0 0;\n",
              "      width: 32px;\n",
              "    }\n",
              "\n",
              "    .colab-df-convert:hover {\n",
              "      background-color: #E2EBFA;\n",
              "      box-shadow: 0px 1px 2px rgba(60, 64, 67, 0.3), 0px 1px 3px 1px rgba(60, 64, 67, 0.15);\n",
              "      fill: #174EA6;\n",
              "    }\n",
              "\n",
              "    [theme=dark] .colab-df-convert {\n",
              "      background-color: #3B4455;\n",
              "      fill: #D2E3FC;\n",
              "    }\n",
              "\n",
              "    [theme=dark] .colab-df-convert:hover {\n",
              "      background-color: #434B5C;\n",
              "      box-shadow: 0px 1px 3px 1px rgba(0, 0, 0, 0.15);\n",
              "      filter: drop-shadow(0px 1px 2px rgba(0, 0, 0, 0.3));\n",
              "      fill: #FFFFFF;\n",
              "    }\n",
              "  </style>\n",
              "\n",
              "      <script>\n",
              "        const buttonEl =\n",
              "          document.querySelector('#df-cc8e8ab0-b4c2-4236-8c0c-1980d9b4822c button.colab-df-convert');\n",
              "        buttonEl.style.display =\n",
              "          google.colab.kernel.accessAllowed ? 'block' : 'none';\n",
              "\n",
              "        async function convertToInteractive(key) {\n",
              "          const element = document.querySelector('#df-cc8e8ab0-b4c2-4236-8c0c-1980d9b4822c');\n",
              "          const dataTable =\n",
              "            await google.colab.kernel.invokeFunction('convertToInteractive',\n",
              "                                                     [key], {});\n",
              "          if (!dataTable) return;\n",
              "\n",
              "          const docLinkHtml = 'Like what you see? Visit the ' +\n",
              "            '<a target=\"_blank\" href=https://colab.research.google.com/notebooks/data_table.ipynb>data table notebook</a>'\n",
              "            + ' to learn more about interactive tables.';\n",
              "          element.innerHTML = '';\n",
              "          dataTable['output_type'] = 'display_data';\n",
              "          await google.colab.output.renderOutput(dataTable, element);\n",
              "          const docLink = document.createElement('div');\n",
              "          docLink.innerHTML = docLinkHtml;\n",
              "          element.appendChild(docLink);\n",
              "        }\n",
              "      </script>\n",
              "    </div>\n",
              "  </div>\n",
              "  "
            ]
          },
          "metadata": {},
          "execution_count": 42
        }
      ],
      "source": [
        "# We save the results of the training sweep\n",
        "sweep_name = 'Fish_Classifier_Sweep_Results_lpft' + datetime.today().strftime('%Y-%m-%d %H:%M:%S') + '.csv'\n",
        "df = pd.DataFrame(Sweep_Summary)\n",
        "df.to_csv(sweep_name)\n",
        "!cp \"{sweep_name}\" \"/content/drive/MyDrive\"\n",
        "df"
      ]
    },
    {
      "cell_type": "code",
      "source": [
        "# Save models\n",
        "!cp model*.pt \"/content/drive/MyDrive/Models\""
      ],
      "metadata": {
        "id": "Bgini1z_ettB"
      },
      "execution_count": 51,
      "outputs": []
    },
    {
      "cell_type": "code",
      "execution_count": null,
      "metadata": {
        "id": "HNPoGNoKNuy5"
      },
      "outputs": [],
      "source": [
        "!mv runs/lpft/* \"/content/drive/MyDrive/runs/lpft/\"\n",
        "%reload_ext tensorboard\n",
        "%tensorboard --logdir drive/MyDrive/runs/lpft/"
      ]
    },
    {
      "cell_type": "markdown",
      "metadata": {
        "id": "JN197toL8YdE"
      },
      "source": [
        "#Evaluation\n",
        "In this section we load the ttrained model and test it."
      ]
    },
    {
      "cell_type": "code",
      "execution_count": 45,
      "metadata": {
        "id": "u3RdeuEJ8Wnm",
        "colab": {
          "base_uri": "https://localhost:8080/"
        },
        "outputId": "f863526c-6a0d-410f-efb8-abafbfaaa11f"
      },
      "outputs": [
        {
          "output_type": "stream",
          "name": "stdout",
          "text": [
            "Test:\n",
            "Eval Loss: 0.6600 Acc: 0.5517\n",
            "Pred: [1 1 1 1 1 1 1 1 1 1 1 1 1 1 1 1 1 1 1 1 1 1 1 1 1 1 1 1 1]\n",
            "True: [1 1 1 1 0 1 1 0 0 0 1 1 1 0 1 2 1 0 1 2 1 2 2 0 1 1 2 1 2]\n",
            "Confusion Matrix:\n",
            "[[ 0  7  0]\n",
            " [ 0 16  0]\n",
            " [ 0  6  0]]\n",
            "Loss: 0.660002720767054, Acc: 0.5517241379310345\n",
            "\n",
            "Validation:\n",
            "Eval Loss: 0.6632 Acc: 0.5385\n",
            "Pred: [1 1 1 1 1 1 1 1 1 1 1 1 1 1 1 1 1 1 1 1 1 1 1 1 1 1]\n",
            "True: [1 1 2 2 1 1 0 0 2 1 0 0 2 1 1 1 2 1 1 0 1 0 2 1 1 1]\n",
            "Confusion Matrix:\n",
            "[[ 0  6  0]\n",
            " [ 0 14  0]\n",
            " [ 0  6  0]]\n",
            "Loss: 0.663246173125047, Acc: 0.5384615384615385\n",
            "\n",
            "Train:\n",
            "Eval Loss: 0.6226 Acc: 0.5826\n",
            "Pred: [1 1 1 1 1 1 1 1 1 0 1 1 1 1 1 1 1 1 1 1 1 1 1 0 1 1 1 2 1 1 1 1 1 1 1 1 1\n",
            " 1 1 1 1 1 1 1 1 1 1 1 1 1 1 1 1 1 1 1 1 1 1 1 1 1 1 1 1 1 1 1 1 1 1 1 1 1\n",
            " 1 0 1 1 1 1 1 1 1 1 1 1 1 2 1 1 1 0 1 1 0 1 1 1 1 1 1 2 1 1 1 1 1 1 1 1 1\n",
            " 1 0 1 1 1 1 1 0 1 1 1 1 1 1 1 1 1 1 1 1 1 1 1 1 1 1 1 1 1 1 1 1 1 1 1 1 1\n",
            " 1 1 1 1 1 1 1 1 1 1 1 1 0 1 1 1 1 1 1 1 1 1 1 1 1 1 1 1 0 2 0 1 1 1 1 1 1\n",
            " 1 1 1 1 1 1 1 1 1 1 1 0 1 1 1 1 1 1 1 1 1 1 1 1 1 1 1 1 1 1 1 1 1 1 1 1 1\n",
            " 1 1 1 1 1 1 1 1]\n",
            "True: [2 1 0 1 1 1 0 2 1 0 0 1 1 1 0 0 1 2 1 1 1 0 1 1 1 2 2 2 2 2 1 2 1 0 1 0 1\n",
            " 0 0 1 0 0 1 1 1 1 0 1 0 1 1 1 1 1 1 2 1 1 1 0 2 2 1 2 1 1 1 1 1 1 2 0 1 0\n",
            " 1 1 1 1 2 1 1 0 0 0 1 0 1 2 1 1 1 0 2 0 1 1 2 1 1 1 1 2 1 1 2 0 0 1 1 0 1\n",
            " 1 0 0 0 1 2 2 2 1 0 1 2 0 1 2 1 1 1 1 1 1 1 0 2 0 2 1 0 0 1 1 1 0 1 2 0 2\n",
            " 1 1 1 2 0 1 1 1 0 1 1 1 0 1 2 2 2 0 1 1 2 0 1 1 2 1 1 1 0 2 0 2 1 1 1 0 2\n",
            " 1 0 1 1 1 0 0 1 1 1 1 2 1 2 2 1 1 1 2 2 0 0 1 2 1 0 1 2 1 1 0 1 0 1 1 1 2\n",
            " 1 1 1 2 2 1 1 0]\n",
            "Confusion Matrix:\n",
            "[[  6  49   0]\n",
            " [  3 124   0]\n",
            " [  2  42   4]]\n",
            "Loss: 0.622584403079489, Acc: 0.5826086956521739\n"
          ]
        }
      ],
      "source": [
        "# Test model loading\n",
        "def eval_model(model, dl):\n",
        "  model.eval()\n",
        "  test_running_loss = 0.0\n",
        "  all_preds = []\n",
        "  all_labels = []\n",
        "  criterion = nn.BCEWithLogitsLoss()\n",
        "  with torch.no_grad():\n",
        "    for inputs, labels in dl:\n",
        "      inputs = inputs.to(device)\n",
        "      labels = labels.to(device)\n",
        "      labels = labels.squeeze(1)\n",
        "      outputs = model(inputs,is_training=False)\n",
        "      loss = criterion(outputs, labels.float())\n",
        "      _, preds = torch.max(outputs, 1)\n",
        "      all_preds.extend(preds.cpu().tolist())\n",
        "      all_labels.extend([label for label in labels.cpu().tolist()])\n",
        "      test_running_loss += loss.item() * inputs.size(0)\n",
        "\n",
        "  all_preds = np.array(all_preds)\n",
        "  all_labels = np.argmax(all_labels, axis = 1)\n",
        "\n",
        "  eval_loss = test_running_loss / len(dl.dataset)\n",
        "  eval_acc = accuracy_score(all_labels, all_preds)\n",
        "  print('{} Loss: {:.4f} Acc: {:.4f}'.format(\"Eval\", eval_loss, eval_acc))\n",
        "  print(f'Pred: {all_preds}')\n",
        "  print(f'True: {all_labels}')\n",
        "  print('Confusion Matrix:')\n",
        "  print(confusion_matrix(all_labels, all_preds))\n",
        "\n",
        "TRAINED_MODEL_PATH = '/content/model1e-050.5.2022-05-11 07:31:54.pt'\n",
        "saved_model = torch.load(TRAINED_MODEL_PATH)\n",
        "print(\"Test:\")\n",
        "eval_model(saved_model, test_dl)\n",
        "loss, acc = test_model(saved_model, test_dl, nn.BCEWithLogitsLoss())\n",
        "print(f'Loss: {loss}, Acc: {acc}')\n",
        "print(\"\\nValidation:\")\n",
        "eval_model(saved_model, validation_dl)\n",
        "loss, acc = test_model(saved_model, validation_dl, nn.BCEWithLogitsLoss())\n",
        "print(f'Loss: {loss}, Acc: {acc}')\n",
        "print(\"\\nTrain:\")\n",
        "eval_model(saved_model, train_dl)\n",
        "loss, acc = test_model(saved_model, train_dl, nn.BCEWithLogitsLoss())\n",
        "print(f'Loss: {loss}, Acc: {acc}')"
      ]
    },
    {
      "cell_type": "code",
      "execution_count": null,
      "metadata": {
        "id": "SnSMTbvaKRI7"
      },
      "outputs": [],
      "source": [
        "from torchsummary import summary\n",
        "torch.cuda.empty_cache()\n",
        "model = Classifier(dropout_rate=dropout_rate,backbone=BACKBONE,multi_backbone=True).to(device)\n",
        "summary(model, (4, 3, 200, 1000))"
      ]
    }
  ],
  "metadata": {
    "accelerator": "GPU",
    "colab": {
      "collapsed_sections": [],
      "machine_shape": "hm",
      "name": "pytorch_fish_classifier_lpft.ipynb",
      "provenance": []
    },
    "kernelspec": {
      "display_name": "Python 3",
      "name": "python3"
    },
    "language_info": {
      "name": "python"
    }
  },
  "nbformat": 4,
  "nbformat_minor": 0
}