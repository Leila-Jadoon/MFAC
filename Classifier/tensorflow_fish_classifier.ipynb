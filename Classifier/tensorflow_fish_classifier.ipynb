{
  "nbformat": 4,
  "nbformat_minor": 0,
  "metadata": {
    "colab": {
      "name": "tensorflow_fish_classifier.ipynb",
      "provenance": [],
      "machine_shape": "hm",
      "collapsed_sections": [
        "EufKbKjDlNeR",
        "BaUUvTZwq0nl"
      ]
    },
    "kernelspec": {
      "name": "python3",
      "display_name": "Python 3"
    },
    "language_info": {
      "name": "python"
    },
    "accelerator": "GPU"
  },
  "cells": [
    {
      "cell_type": "markdown",
      "source": [
        "##Requirements\n",
        "In this secttion we import the required packages for training our classifier.\n"
      ],
      "metadata": {
        "id": "0M52LGzqdszw"
      }
    },
    {
      "cell_type": "code",
      "source": [
        "!pip install tensorflow_addons"
      ],
      "metadata": {
        "colab": {
          "base_uri": "https://localhost:8080/"
        },
        "id": "5Sabhycrashh",
        "outputId": "4ab14c5a-b594-4aa5-9c1c-8761c6131383"
      },
      "execution_count": null,
      "outputs": [
        {
          "output_type": "stream",
          "name": "stdout",
          "text": [
            "Requirement already satisfied: tensorflow_addons in /usr/local/lib/python3.7/dist-packages (0.16.1)\n",
            "Requirement already satisfied: typeguard>=2.7 in /usr/local/lib/python3.7/dist-packages (from tensorflow_addons) (2.7.1)\n"
          ]
        }
      ]
    },
    {
      "cell_type": "code",
      "source": [
        "import tensorflow as tf\n",
        "import tensorflow_addons as tfa\n",
        "\n",
        "import numpy as np\n",
        "import pandas as pd\n",
        "import matplotlib as plt\n",
        "from sklearn.model_selection import LeaveOneOut,KFold,train_test_split"
      ],
      "metadata": {
        "id": "e5jz8UxbdxSw"
      },
      "execution_count": null,
      "outputs": []
    },
    {
      "cell_type": "code",
      "source": [
        "#We mount the google drive. If You are running this notebook locally do nott run this cell. \n",
        "from google.colab import drive\n",
        "drive.mount('/content/drive')"
      ],
      "metadata": {
        "colab": {
          "base_uri": "https://localhost:8080/"
        },
        "id": "K4WHaUIxd_LO",
        "outputId": "aefdce54-7df3-45b0-e791-66862c79bfb2"
      },
      "execution_count": null,
      "outputs": [
        {
          "output_type": "stream",
          "name": "stdout",
          "text": [
            "Mounted at /content/drive\n"
          ]
        }
      ]
    },
    {
      "cell_type": "markdown",
      "source": [
        "#Configurations\n",
        "In this section we define the configs for training. "
      ],
      "metadata": {
        "id": "HVJblvMveHI9"
      }
    },
    {
      "cell_type": "code",
      "source": [
        "DATASET = \"Allele B Cropped\"\n",
        "X_PATH = \"/content/drive/Shareddrives/Exploding Gradients/X_b.npy\"\n",
        "Y_PATH= \"/content/drive/Shareddrives/Exploding Gradients/y_b.npy\"\n",
        "\n",
        "\n",
        "BACKBONE = \"resnet50\"\n",
        "MULTI_BACKBONE = True\n",
        "OPTIM = \"Adam\"\n",
        "LR =5e-5\n",
        "SCHEDULER = \"None\"\n",
        "EPOCHS = 40\n",
        "BATCHSIZE = 4\n",
        "AUGMENTATION = \"None\"\n",
        "\n",
        "#The following is a list of hyper parameters to test. All Permuttations will be\n",
        "#tested\n",
        "\n",
        "DROPOUT = [0,0.1,0.2,0.5]\n",
        "WEIGHT_DECAY = [0,1e-3,1e-5]\n",
        "FREEZE = [10,25,40,50,55]"
      ],
      "metadata": {
        "id": "cj3DWZdseID4"
      },
      "execution_count": null,
      "outputs": []
    },
    {
      "cell_type": "markdown",
      "source": [
        "#Data Processing\n",
        "In this section, we read the dataset as a pre saved numpy array. After reading the datset. we divide it into train-testtt sets. We tthen create a pytorch dataset which we will then turn into a dataloader.\n"
      ],
      "metadata": {
        "id": "t6dc7L3zd3co"
      }
    },
    {
      "cell_type": "code",
      "source": [
        "#We read the \n",
        "x = np.load(X_PATH)\n",
        "y = np.load(Y_PATH)\n",
        "y = np.squeeze(y.astype(np.int16))\n",
        "b = np.zeros((y.size, y.max()+1))\n",
        "b[np.arange(y.size),y] = 1\n",
        "y = b\n",
        "print(\"X Tensor Shape: \",x.shape)\n",
        "print(\"y Tensor Shape: \",y.shape)"
      ],
      "metadata": {
        "id": "ZB7nRPaCdzdw",
        "colab": {
          "base_uri": "https://localhost:8080/"
        },
        "outputId": "62cdd9de-ae8c-48ea-f004-11a30c7de068"
      },
      "execution_count": null,
      "outputs": [
        {
          "output_type": "stream",
          "name": "stdout",
          "text": [
            "X Tensor Shape:  (285, 4, 200, 1024, 3)\n",
            "y Tensor Shape:  (285, 3)\n"
          ]
        }
      ]
    },
    {
      "cell_type": "markdown",
      "source": [
        "##Model\n",
        "Code for tensorflow model."
      ],
      "metadata": {
        "id": "oOYIWLCceuf5"
      }
    },
    {
      "cell_type": "code",
      "source": [
        "from keras import backend as K\n",
        "\n",
        "def recall_m(y_true, y_pred):\n",
        "    true_positives = K.sum(K.round(K.clip(y_true * y_pred, 0, 1)))\n",
        "    possible_positives = K.sum(K.round(K.clip(y_true, 0, 1)))\n",
        "    recall = true_positives / (possible_positives + K.epsilon())\n",
        "    return recall\n",
        "\n",
        "def precision_m(y_true, y_pred):\n",
        "    true_positives = K.sum(K.round(K.clip(y_true * y_pred, 0, 1)))\n",
        "    predicted_positives = K.sum(K.round(K.clip(y_pred, 0, 1)))\n",
        "    precision = true_positives / (predicted_positives + K.epsilon())\n",
        "    return precision\n",
        "\n",
        "def f1_m(y_true, y_pred):\n",
        "    precision = precision_m(y_true, y_pred)\n",
        "    recall = recall_m(y_true, y_pred)\n",
        "    return 2*((precision*recall)/(precision+recall+K.epsilon()))"
      ],
      "metadata": {
        "id": "bi3Yfw21NaO3"
      },
      "execution_count": null,
      "outputs": []
    },
    {
      "cell_type": "code",
      "source": [
        "class MyCallback(tf.keras.callbacks.Callback):\n",
        "  def __init__(self):\n",
        "    super(MyCallback, self).__init__()\n",
        "\n",
        "  def on_epoch_end(self, logs=None):\n",
        "    print(self.params)"
      ],
      "metadata": {
        "id": "7UzVHGkmLmtI"
      },
      "execution_count": null,
      "outputs": []
    },
    {
      "cell_type": "code",
      "source": [
        "import random\n",
        "\n",
        "IMG_SHAPE = (200, 1024, 3)\n",
        "\n",
        "class Classifier(tf.keras.Model):\n",
        "\n",
        "    def __init__(self, do_augmentation = True, dropout_rate = 0.5):\n",
        "        super(Classifier, self).__init__()\n",
        "        self.backbone = tf.keras.applications.ResNet50(input_shape=IMG_SHAPE,\n",
        "                                                       include_top=False,\n",
        "                                                   weights='imagenet')\n",
        "        # self.conv_layer =  tf.keras.layers.Conv2D(16,3)\n",
        "        self.do_augmentation = do_augmentation\n",
        "\n",
        "        self.pooling = tf.keras.layers.GlobalAveragePooling2D()\n",
        "        self.classifier= tf.keras.Sequential([\n",
        "                                              tf.keras.layers.Dropout(dropout_rate),    \n",
        "                                              tf.keras.layers.Dense(3),\n",
        "                                              \n",
        "        ])\n",
        "       \n",
        "\n",
        "    def call(self, inputs,training=False):\n",
        "\n",
        "        images = [inputs[:,i,:,:,:] for i in range(4)]\n",
        "        if training:\n",
        "          if self.do_augmentation:\n",
        "            if random.random() < 0.5:\n",
        "              images = [tf.image.flip_left_right(img) for img in images]\n",
        "            if random.random() < 0.5:\n",
        "              images = [tf.image.flip_up_down(img) for img in images]\n",
        "            if random.random() < 0.5:\n",
        "              images = [tf.image.adjust_saturation(img,0.5) for img in images]\n",
        "\n",
        "        encodings = [self.pooling(self.backbone(img)) for  img in images]\n",
        "        encodings = [tf.reshape(img,[inputs.shape[0],-1]) for img in encodings]\n",
        "        encodings = tf.concat(encodings,1)\n",
        "\n",
        "        return self.classifier(encodings)\n",
        "\n"
      ],
      "metadata": {
        "id": "YypYfUibez3H"
      },
      "execution_count": null,
      "outputs": []
    },
    {
      "cell_type": "code",
      "source": [
        "def freeze_layers(model,n):\n",
        "  for i,layer in enumerate(model.backbone.layers[:]):\n",
        "    if i<=n:\n",
        "      layer.trainable = False\n",
        "  print(\"total layers: {}\".format(i))\n",
        "  print(\"first {} were frozen.\".format(n))"
      ],
      "metadata": {
        "id": "_7OvCwiN0qei"
      },
      "execution_count": null,
      "outputs": []
    },
    {
      "cell_type": "markdown",
      "source": [
        "##Training"
      ],
      "metadata": {
        "id": "8SdJVSMAuOIv"
      }
    },
    {
      "cell_type": "code",
      "source": [
        "from tensorflow.keras.callbacks import ModelCheckpoint\n",
        "def train_kfold(n_splits):\n",
        "  for train_index, test_index in KFold(n_splits).split(x):\n",
        "\n",
        "    n_train = len(train_index)\n",
        "    n_test = len(test_index)\n",
        "\n",
        "    train_index = train_index[:(n_train//BATCHSIZE)*BATCHSIZE]\n",
        "    test_index = test_index[:(n_test//BATCHSIZE)*BATCHSIZE]\n",
        "\n",
        "    x_train = x[train_index]\n",
        "    y_train = y[train_index]\n",
        "\n",
        "    x_test = x[test_index]\n",
        "    y_test = y[test_index]\n",
        "\n",
        "    train_label_percenttages = [round(np.sum(np.argmax(y_train,1) == i)/len(y_train),2) for i in range(3)]\n",
        "    print(\"Train Lable Distributions: \", train_label_percenttages)\n",
        "\n",
        "    test_label_percenttages = [round(np.sum(np.argmax(y_test,1) == i)/len(y_test),2) for i in range(3)]\n",
        "    print(\"Test Lable Distributions: \", test_label_percenttages)\n",
        "\n",
        "    model = Classifier(do_augmentation=True)\n",
        "\n",
        "    model.compile(tf.keras.optimizers.Adam(learning_rate=0.0001,),\n",
        "                  loss = tf.keras.losses.CategoricalCrossentropy(True),\n",
        "                  metrics=['accuracy',tfa.metrics.F1Score(3,\"macro\")]\n",
        "                  )\n",
        "    \n",
        "    freeze_layers(model,174)\n",
        "\n",
        "    hist = train_model(model,(x_train,y_train),(x_test,y_test))\n",
        "\n",
        "\n",
        "def train_model(model,train_data,validation_data):\n",
        "  mcp_save = ModelCheckpoint('mdl_wts.h5', save_best_only=True, monitor='val_loss', mode='min',save_weights_only=True,verbose=1)\n",
        "  hist = model.fit(train_data[0],train_data[1],BATCHSIZE,epochs=20,validation_data=validation_data,callbacks=[mcp_save])\n",
        "\n",
        "  print(tf.argmax(model(validation_data[0]),1).numpy())\n",
        "  print(np.argmax(validation_data[1],1))\n",
        "\n",
        "  return hist\n",
        "\n",
        "\n"
      ],
      "metadata": {
        "id": "HV8bb2oOIji5"
      },
      "execution_count": null,
      "outputs": []
    },
    {
      "cell_type": "code",
      "source": [
        "model = Classifier(do_augmentation=True)\n",
        "\n",
        "\n",
        "\n",
        "model.compile(tf.keras.optimizers.Adam(learning_rate=0.0001,),\n",
        "              loss = tf.keras.losses.CategoricalCrossentropy(True),\n",
        "              metrics=['accuracy',tfa.metrics.F1Score(3,\"macro\")],\n",
        "              \n",
        "              )\n",
        "\n",
        "model(tf.constant(0,shape=(4,4,200,1024,3)))\n",
        "model.summary()\n",
        "\n",
        "freeze_layers(model,174)\n",
        "\n",
        "x_train,x_test, y_train,y_test= train_test_split(x,y,test_size=0.1,random_state=1)\n",
        "\n",
        "n_train = x_train.shape[0]\n",
        "n_test = x_test.shape[0]\n",
        "\n",
        "x_train = x[:(n_train//BATCHSIZE)*BATCHSIZE]\n",
        "y_train = y[:(n_train//BATCHSIZE)*BATCHSIZE]\n",
        "\n",
        "x_test = x[:(n_test//BATCHSIZE)*BATCHSIZE]\n",
        "y_test = y[:(n_test//BATCHSIZE)*BATCHSIZE]\n",
        "\n",
        "train_label_percenttages = [round(np.sum(np.argmax(y_train,1) == i)/len(y_train),2) for i in range(3)]\n",
        "print(\"Train Lable Distributions: \", train_label_percenttages)\n",
        "\n",
        "test_label_percenttages = [round(np.sum(np.argmax(y_test,1) == i)/len(y_test),2) for i in range(3)]\n",
        "print(\"Test Lable Distributions: \", test_label_percenttages)\n",
        "\n",
        "train_model(model,(x_train,y_train),(x_test,y_test))"
      ],
      "metadata": {
        "colab": {
          "base_uri": "https://localhost:8080/",
          "height": 970
        },
        "id": "nwi6kbByoKtF",
        "outputId": "65ec108e-7e73-4045-e293-c2caf673dfbd"
      },
      "execution_count": null,
      "outputs": [
        {
          "output_type": "stream",
          "name": "stdout",
          "text": [
            "Model: \"classifier_10\"\n",
            "_________________________________________________________________\n",
            " Layer (type)                Output Shape              Param #   \n",
            "=================================================================\n",
            " resnet50 (Functional)       (None, 7, 32, 2048)       23587712  \n",
            "                                                                 \n",
            " global_average_pooling2d_10  multiple                 0         \n",
            "  (GlobalAveragePooling2D)                                       \n",
            "                                                                 \n",
            " sequential_10 (Sequential)  (4, 3)                    24579     \n",
            "                                                                 \n",
            "=================================================================\n",
            "Total params: 23,612,291\n",
            "Trainable params: 23,559,171\n",
            "Non-trainable params: 53,120\n",
            "_________________________________________________________________\n",
            "total layers: 174\n",
            "first 174 were frozen.\n",
            "Train Lable Distributions:  [0.24, 0.55, 0.21]\n",
            "Test Lable Distributions:  [0.11, 0.57, 0.32]\n",
            "Epoch 1/20\n",
            "64/64 [==============================] - 42s 452ms/step - loss: 1.3278 - accuracy: 0.4258 - f1_score: 0.3110 - val_loss: 9.0773 - val_accuracy: 0.5714 - val_f1_score: 0.2424\n",
            "Epoch 2/20\n",
            "64/64 [==============================] - 26s 404ms/step - loss: 1.0338 - accuracy: 0.4922 - f1_score: 0.3449 - val_loss: 3.1606 - val_accuracy: 0.5714 - val_f1_score: 0.2424\n",
            "Epoch 3/20\n",
            "64/64 [==============================] - 25s 398ms/step - loss: 0.8453 - accuracy: 0.6250 - f1_score: 0.5398 - val_loss: 5.6835 - val_accuracy: 0.3214 - val_f1_score: 0.1622\n",
            "Epoch 4/20\n",
            "64/64 [==============================] - 26s 404ms/step - loss: 0.5894 - accuracy: 0.7578 - f1_score: 0.7143 - val_loss: 0.8947 - val_accuracy: 0.7143 - val_f1_score: 0.4931\n",
            "Epoch 5/20\n",
            "64/64 [==============================] - 26s 404ms/step - loss: 0.5103 - accuracy: 0.8047 - f1_score: 0.7779 - val_loss: 0.8656 - val_accuracy: 0.7500 - val_f1_score: 0.5220\n",
            "Epoch 6/20\n",
            "64/64 [==============================] - 26s 404ms/step - loss: 0.3333 - accuracy: 0.8828 - f1_score: 0.8681 - val_loss: 0.6087 - val_accuracy: 0.6786 - val_f1_score: 0.5480\n",
            "Epoch 7/20\n",
            "64/64 [==============================] - 26s 405ms/step - loss: 0.1977 - accuracy: 0.9375 - f1_score: 0.9290 - val_loss: 0.2126 - val_accuracy: 0.9643 - val_f1_score: 0.9232\n",
            "Epoch 8/20\n",
            "15/64 [======>.......................] - ETA: 18s - loss: 0.0660 - accuracy: 0.9833 - f1_score: 0.9846"
          ]
        },
        {
          "output_type": "error",
          "ename": "KeyboardInterrupt",
          "evalue": "ignored",
          "traceback": [
            "\u001b[0;31m---------------------------------------------------------------------------\u001b[0m",
            "\u001b[0;31mKeyboardInterrupt\u001b[0m                         Traceback (most recent call last)",
            "\u001b[0;32m<ipython-input-29-206b323979f9>\u001b[0m in \u001b[0;36m<module>\u001b[0;34m()\u001b[0m\n\u001b[1;32m     31\u001b[0m \u001b[0mprint\u001b[0m\u001b[0;34m(\u001b[0m\u001b[0;34m\"Test Lable Distributions: \"\u001b[0m\u001b[0;34m,\u001b[0m \u001b[0mtest_label_percenttages\u001b[0m\u001b[0;34m)\u001b[0m\u001b[0;34m\u001b[0m\u001b[0;34m\u001b[0m\u001b[0m\n\u001b[1;32m     32\u001b[0m \u001b[0;34m\u001b[0m\u001b[0m\n\u001b[0;32m---> 33\u001b[0;31m \u001b[0mtrain_model\u001b[0m\u001b[0;34m(\u001b[0m\u001b[0mmodel\u001b[0m\u001b[0;34m,\u001b[0m\u001b[0;34m(\u001b[0m\u001b[0mx_train\u001b[0m\u001b[0;34m,\u001b[0m\u001b[0my_train\u001b[0m\u001b[0;34m)\u001b[0m\u001b[0;34m,\u001b[0m\u001b[0;34m(\u001b[0m\u001b[0mx_test\u001b[0m\u001b[0;34m,\u001b[0m\u001b[0my_test\u001b[0m\u001b[0;34m)\u001b[0m\u001b[0;34m)\u001b[0m\u001b[0;34m\u001b[0m\u001b[0;34m\u001b[0m\u001b[0m\n\u001b[0m",
            "\u001b[0;32m<ipython-input-20-067b0b5787c8>\u001b[0m in \u001b[0;36mtrain_model\u001b[0;34m(model, train_data, validation_data)\u001b[0m\n\u001b[1;32m     35\u001b[0m \u001b[0;32mdef\u001b[0m \u001b[0mtrain_model\u001b[0m\u001b[0;34m(\u001b[0m\u001b[0mmodel\u001b[0m\u001b[0;34m,\u001b[0m\u001b[0mtrain_data\u001b[0m\u001b[0;34m,\u001b[0m\u001b[0mvalidation_data\u001b[0m\u001b[0;34m)\u001b[0m\u001b[0;34m:\u001b[0m\u001b[0;34m\u001b[0m\u001b[0;34m\u001b[0m\u001b[0m\n\u001b[1;32m     36\u001b[0m   \u001b[0mmcp_save\u001b[0m \u001b[0;34m=\u001b[0m \u001b[0mModelCheckpoint\u001b[0m\u001b[0;34m(\u001b[0m\u001b[0;34m'mdl_wts.h5'\u001b[0m\u001b[0;34m,\u001b[0m \u001b[0msave_best_only\u001b[0m\u001b[0;34m=\u001b[0m\u001b[0;32mTrue\u001b[0m\u001b[0;34m,\u001b[0m \u001b[0mmonitor\u001b[0m\u001b[0;34m=\u001b[0m\u001b[0;34m'val_loss'\u001b[0m\u001b[0;34m,\u001b[0m \u001b[0mmode\u001b[0m\u001b[0;34m=\u001b[0m\u001b[0;34m'min'\u001b[0m\u001b[0;34m,\u001b[0m\u001b[0msave_weights_only\u001b[0m\u001b[0;34m=\u001b[0m\u001b[0;32mTrue\u001b[0m\u001b[0;34m)\u001b[0m\u001b[0;34m\u001b[0m\u001b[0;34m\u001b[0m\u001b[0m\n\u001b[0;32m---> 37\u001b[0;31m   \u001b[0mhist\u001b[0m \u001b[0;34m=\u001b[0m \u001b[0mmodel\u001b[0m\u001b[0;34m.\u001b[0m\u001b[0mfit\u001b[0m\u001b[0;34m(\u001b[0m\u001b[0mtrain_data\u001b[0m\u001b[0;34m[\u001b[0m\u001b[0;36m0\u001b[0m\u001b[0;34m]\u001b[0m\u001b[0;34m,\u001b[0m\u001b[0mtrain_data\u001b[0m\u001b[0;34m[\u001b[0m\u001b[0;36m1\u001b[0m\u001b[0;34m]\u001b[0m\u001b[0;34m,\u001b[0m\u001b[0mBATCHSIZE\u001b[0m\u001b[0;34m,\u001b[0m\u001b[0mepochs\u001b[0m\u001b[0;34m=\u001b[0m\u001b[0;36m20\u001b[0m\u001b[0;34m,\u001b[0m\u001b[0mvalidation_data\u001b[0m\u001b[0;34m=\u001b[0m\u001b[0mvalidation_data\u001b[0m\u001b[0;34m,\u001b[0m\u001b[0mcallbacks\u001b[0m\u001b[0;34m=\u001b[0m\u001b[0;34m[\u001b[0m\u001b[0mmcp_save\u001b[0m\u001b[0;34m]\u001b[0m\u001b[0;34m)\u001b[0m\u001b[0;34m\u001b[0m\u001b[0;34m\u001b[0m\u001b[0m\n\u001b[0m\u001b[1;32m     38\u001b[0m \u001b[0;34m\u001b[0m\u001b[0m\n\u001b[1;32m     39\u001b[0m   \u001b[0mprint\u001b[0m\u001b[0;34m(\u001b[0m\u001b[0mtf\u001b[0m\u001b[0;34m.\u001b[0m\u001b[0margmax\u001b[0m\u001b[0;34m(\u001b[0m\u001b[0mmodel\u001b[0m\u001b[0;34m(\u001b[0m\u001b[0mvalidation_data\u001b[0m\u001b[0;34m[\u001b[0m\u001b[0;36m0\u001b[0m\u001b[0;34m]\u001b[0m\u001b[0;34m)\u001b[0m\u001b[0;34m,\u001b[0m\u001b[0;36m1\u001b[0m\u001b[0;34m)\u001b[0m\u001b[0;34m.\u001b[0m\u001b[0mnumpy\u001b[0m\u001b[0;34m(\u001b[0m\u001b[0;34m)\u001b[0m\u001b[0;34m)\u001b[0m\u001b[0;34m\u001b[0m\u001b[0;34m\u001b[0m\u001b[0m\n",
            "\u001b[0;32m/usr/local/lib/python3.7/dist-packages/keras/utils/traceback_utils.py\u001b[0m in \u001b[0;36merror_handler\u001b[0;34m(*args, **kwargs)\u001b[0m\n\u001b[1;32m     62\u001b[0m     \u001b[0mfiltered_tb\u001b[0m \u001b[0;34m=\u001b[0m \u001b[0;32mNone\u001b[0m\u001b[0;34m\u001b[0m\u001b[0;34m\u001b[0m\u001b[0m\n\u001b[1;32m     63\u001b[0m     \u001b[0;32mtry\u001b[0m\u001b[0;34m:\u001b[0m\u001b[0;34m\u001b[0m\u001b[0;34m\u001b[0m\u001b[0m\n\u001b[0;32m---> 64\u001b[0;31m       \u001b[0;32mreturn\u001b[0m \u001b[0mfn\u001b[0m\u001b[0;34m(\u001b[0m\u001b[0;34m*\u001b[0m\u001b[0margs\u001b[0m\u001b[0;34m,\u001b[0m \u001b[0;34m**\u001b[0m\u001b[0mkwargs\u001b[0m\u001b[0;34m)\u001b[0m\u001b[0;34m\u001b[0m\u001b[0;34m\u001b[0m\u001b[0m\n\u001b[0m\u001b[1;32m     65\u001b[0m     \u001b[0;32mexcept\u001b[0m \u001b[0mException\u001b[0m \u001b[0;32mas\u001b[0m \u001b[0me\u001b[0m\u001b[0;34m:\u001b[0m  \u001b[0;31m# pylint: disable=broad-except\u001b[0m\u001b[0;34m\u001b[0m\u001b[0;34m\u001b[0m\u001b[0m\n\u001b[1;32m     66\u001b[0m       \u001b[0mfiltered_tb\u001b[0m \u001b[0;34m=\u001b[0m \u001b[0m_process_traceback_frames\u001b[0m\u001b[0;34m(\u001b[0m\u001b[0me\u001b[0m\u001b[0;34m.\u001b[0m\u001b[0m__traceback__\u001b[0m\u001b[0;34m)\u001b[0m\u001b[0;34m\u001b[0m\u001b[0;34m\u001b[0m\u001b[0m\n",
            "\u001b[0;32m/usr/local/lib/python3.7/dist-packages/keras/engine/training.py\u001b[0m in \u001b[0;36mfit\u001b[0;34m(self, x, y, batch_size, epochs, verbose, callbacks, validation_split, validation_data, shuffle, class_weight, sample_weight, initial_epoch, steps_per_epoch, validation_steps, validation_batch_size, validation_freq, max_queue_size, workers, use_multiprocessing)\u001b[0m\n\u001b[1;32m   1382\u001b[0m                 _r=1):\n\u001b[1;32m   1383\u001b[0m               \u001b[0mcallbacks\u001b[0m\u001b[0;34m.\u001b[0m\u001b[0mon_train_batch_begin\u001b[0m\u001b[0;34m(\u001b[0m\u001b[0mstep\u001b[0m\u001b[0;34m)\u001b[0m\u001b[0;34m\u001b[0m\u001b[0;34m\u001b[0m\u001b[0m\n\u001b[0;32m-> 1384\u001b[0;31m               \u001b[0mtmp_logs\u001b[0m \u001b[0;34m=\u001b[0m \u001b[0mself\u001b[0m\u001b[0;34m.\u001b[0m\u001b[0mtrain_function\u001b[0m\u001b[0;34m(\u001b[0m\u001b[0miterator\u001b[0m\u001b[0;34m)\u001b[0m\u001b[0;34m\u001b[0m\u001b[0;34m\u001b[0m\u001b[0m\n\u001b[0m\u001b[1;32m   1385\u001b[0m               \u001b[0;32mif\u001b[0m \u001b[0mdata_handler\u001b[0m\u001b[0;34m.\u001b[0m\u001b[0mshould_sync\u001b[0m\u001b[0;34m:\u001b[0m\u001b[0;34m\u001b[0m\u001b[0;34m\u001b[0m\u001b[0m\n\u001b[1;32m   1386\u001b[0m                 \u001b[0mcontext\u001b[0m\u001b[0;34m.\u001b[0m\u001b[0masync_wait\u001b[0m\u001b[0;34m(\u001b[0m\u001b[0;34m)\u001b[0m\u001b[0;34m\u001b[0m\u001b[0;34m\u001b[0m\u001b[0m\n",
            "\u001b[0;32m/usr/local/lib/python3.7/dist-packages/tensorflow/python/util/traceback_utils.py\u001b[0m in \u001b[0;36merror_handler\u001b[0;34m(*args, **kwargs)\u001b[0m\n\u001b[1;32m    148\u001b[0m     \u001b[0mfiltered_tb\u001b[0m \u001b[0;34m=\u001b[0m \u001b[0;32mNone\u001b[0m\u001b[0;34m\u001b[0m\u001b[0;34m\u001b[0m\u001b[0m\n\u001b[1;32m    149\u001b[0m     \u001b[0;32mtry\u001b[0m\u001b[0;34m:\u001b[0m\u001b[0;34m\u001b[0m\u001b[0;34m\u001b[0m\u001b[0m\n\u001b[0;32m--> 150\u001b[0;31m       \u001b[0;32mreturn\u001b[0m \u001b[0mfn\u001b[0m\u001b[0;34m(\u001b[0m\u001b[0;34m*\u001b[0m\u001b[0margs\u001b[0m\u001b[0;34m,\u001b[0m \u001b[0;34m**\u001b[0m\u001b[0mkwargs\u001b[0m\u001b[0;34m)\u001b[0m\u001b[0;34m\u001b[0m\u001b[0;34m\u001b[0m\u001b[0m\n\u001b[0m\u001b[1;32m    151\u001b[0m     \u001b[0;32mexcept\u001b[0m \u001b[0mException\u001b[0m \u001b[0;32mas\u001b[0m \u001b[0me\u001b[0m\u001b[0;34m:\u001b[0m\u001b[0;34m\u001b[0m\u001b[0;34m\u001b[0m\u001b[0m\n\u001b[1;32m    152\u001b[0m       \u001b[0mfiltered_tb\u001b[0m \u001b[0;34m=\u001b[0m \u001b[0m_process_traceback_frames\u001b[0m\u001b[0;34m(\u001b[0m\u001b[0me\u001b[0m\u001b[0;34m.\u001b[0m\u001b[0m__traceback__\u001b[0m\u001b[0;34m)\u001b[0m\u001b[0;34m\u001b[0m\u001b[0;34m\u001b[0m\u001b[0m\n",
            "\u001b[0;32m/usr/local/lib/python3.7/dist-packages/tensorflow/python/eager/def_function.py\u001b[0m in \u001b[0;36m__call__\u001b[0;34m(self, *args, **kwds)\u001b[0m\n\u001b[1;32m    913\u001b[0m \u001b[0;34m\u001b[0m\u001b[0m\n\u001b[1;32m    914\u001b[0m       \u001b[0;32mwith\u001b[0m \u001b[0mOptionalXlaContext\u001b[0m\u001b[0;34m(\u001b[0m\u001b[0mself\u001b[0m\u001b[0;34m.\u001b[0m\u001b[0m_jit_compile\u001b[0m\u001b[0;34m)\u001b[0m\u001b[0;34m:\u001b[0m\u001b[0;34m\u001b[0m\u001b[0;34m\u001b[0m\u001b[0m\n\u001b[0;32m--> 915\u001b[0;31m         \u001b[0mresult\u001b[0m \u001b[0;34m=\u001b[0m \u001b[0mself\u001b[0m\u001b[0;34m.\u001b[0m\u001b[0m_call\u001b[0m\u001b[0;34m(\u001b[0m\u001b[0;34m*\u001b[0m\u001b[0margs\u001b[0m\u001b[0;34m,\u001b[0m \u001b[0;34m**\u001b[0m\u001b[0mkwds\u001b[0m\u001b[0;34m)\u001b[0m\u001b[0;34m\u001b[0m\u001b[0;34m\u001b[0m\u001b[0m\n\u001b[0m\u001b[1;32m    916\u001b[0m \u001b[0;34m\u001b[0m\u001b[0m\n\u001b[1;32m    917\u001b[0m       \u001b[0mnew_tracing_count\u001b[0m \u001b[0;34m=\u001b[0m \u001b[0mself\u001b[0m\u001b[0;34m.\u001b[0m\u001b[0mexperimental_get_tracing_count\u001b[0m\u001b[0;34m(\u001b[0m\u001b[0;34m)\u001b[0m\u001b[0;34m\u001b[0m\u001b[0;34m\u001b[0m\u001b[0m\n",
            "\u001b[0;32m/usr/local/lib/python3.7/dist-packages/tensorflow/python/eager/def_function.py\u001b[0m in \u001b[0;36m_call\u001b[0;34m(self, *args, **kwds)\u001b[0m\n\u001b[1;32m    945\u001b[0m       \u001b[0;31m# In this case we have created variables on the first call, so we run the\u001b[0m\u001b[0;34m\u001b[0m\u001b[0;34m\u001b[0m\u001b[0;34m\u001b[0m\u001b[0m\n\u001b[1;32m    946\u001b[0m       \u001b[0;31m# defunned version which is guaranteed to never create variables.\u001b[0m\u001b[0;34m\u001b[0m\u001b[0;34m\u001b[0m\u001b[0;34m\u001b[0m\u001b[0m\n\u001b[0;32m--> 947\u001b[0;31m       \u001b[0;32mreturn\u001b[0m \u001b[0mself\u001b[0m\u001b[0;34m.\u001b[0m\u001b[0m_stateless_fn\u001b[0m\u001b[0;34m(\u001b[0m\u001b[0;34m*\u001b[0m\u001b[0margs\u001b[0m\u001b[0;34m,\u001b[0m \u001b[0;34m**\u001b[0m\u001b[0mkwds\u001b[0m\u001b[0;34m)\u001b[0m  \u001b[0;31m# pylint: disable=not-callable\u001b[0m\u001b[0;34m\u001b[0m\u001b[0;34m\u001b[0m\u001b[0m\n\u001b[0m\u001b[1;32m    948\u001b[0m     \u001b[0;32melif\u001b[0m \u001b[0mself\u001b[0m\u001b[0;34m.\u001b[0m\u001b[0m_stateful_fn\u001b[0m \u001b[0;32mis\u001b[0m \u001b[0;32mnot\u001b[0m \u001b[0;32mNone\u001b[0m\u001b[0;34m:\u001b[0m\u001b[0;34m\u001b[0m\u001b[0;34m\u001b[0m\u001b[0m\n\u001b[1;32m    949\u001b[0m       \u001b[0;31m# Release the lock early so that multiple threads can perform the call\u001b[0m\u001b[0;34m\u001b[0m\u001b[0;34m\u001b[0m\u001b[0;34m\u001b[0m\u001b[0m\n",
            "\u001b[0;32m/usr/local/lib/python3.7/dist-packages/tensorflow/python/eager/function.py\u001b[0m in \u001b[0;36m__call__\u001b[0;34m(self, *args, **kwargs)\u001b[0m\n\u001b[1;32m   2955\u001b[0m        filtered_flat_args) = self._maybe_define_function(args, kwargs)\n\u001b[1;32m   2956\u001b[0m     return graph_function._call_flat(\n\u001b[0;32m-> 2957\u001b[0;31m         filtered_flat_args, captured_inputs=graph_function.captured_inputs)  # pylint: disable=protected-access\n\u001b[0m\u001b[1;32m   2958\u001b[0m \u001b[0;34m\u001b[0m\u001b[0m\n\u001b[1;32m   2959\u001b[0m   \u001b[0;34m@\u001b[0m\u001b[0mproperty\u001b[0m\u001b[0;34m\u001b[0m\u001b[0;34m\u001b[0m\u001b[0m\n",
            "\u001b[0;32m/usr/local/lib/python3.7/dist-packages/tensorflow/python/eager/function.py\u001b[0m in \u001b[0;36m_call_flat\u001b[0;34m(self, args, captured_inputs, cancellation_manager)\u001b[0m\n\u001b[1;32m   1852\u001b[0m       \u001b[0;31m# No tape is watching; skip to running the function.\u001b[0m\u001b[0;34m\u001b[0m\u001b[0;34m\u001b[0m\u001b[0;34m\u001b[0m\u001b[0m\n\u001b[1;32m   1853\u001b[0m       return self._build_call_outputs(self._inference_function.call(\n\u001b[0;32m-> 1854\u001b[0;31m           ctx, args, cancellation_manager=cancellation_manager))\n\u001b[0m\u001b[1;32m   1855\u001b[0m     forward_backward = self._select_forward_and_backward_functions(\n\u001b[1;32m   1856\u001b[0m         \u001b[0margs\u001b[0m\u001b[0;34m,\u001b[0m\u001b[0;34m\u001b[0m\u001b[0;34m\u001b[0m\u001b[0m\n",
            "\u001b[0;32m/usr/local/lib/python3.7/dist-packages/tensorflow/python/eager/function.py\u001b[0m in \u001b[0;36mcall\u001b[0;34m(self, ctx, args, cancellation_manager)\u001b[0m\n\u001b[1;32m    502\u001b[0m               \u001b[0minputs\u001b[0m\u001b[0;34m=\u001b[0m\u001b[0margs\u001b[0m\u001b[0;34m,\u001b[0m\u001b[0;34m\u001b[0m\u001b[0;34m\u001b[0m\u001b[0m\n\u001b[1;32m    503\u001b[0m               \u001b[0mattrs\u001b[0m\u001b[0;34m=\u001b[0m\u001b[0mattrs\u001b[0m\u001b[0;34m,\u001b[0m\u001b[0;34m\u001b[0m\u001b[0;34m\u001b[0m\u001b[0m\n\u001b[0;32m--> 504\u001b[0;31m               ctx=ctx)\n\u001b[0m\u001b[1;32m    505\u001b[0m         \u001b[0;32melse\u001b[0m\u001b[0;34m:\u001b[0m\u001b[0;34m\u001b[0m\u001b[0;34m\u001b[0m\u001b[0m\n\u001b[1;32m    506\u001b[0m           outputs = execute.execute_with_cancellation(\n",
            "\u001b[0;32m/usr/local/lib/python3.7/dist-packages/tensorflow/python/eager/execute.py\u001b[0m in \u001b[0;36mquick_execute\u001b[0;34m(op_name, num_outputs, inputs, attrs, ctx, name)\u001b[0m\n\u001b[1;32m     53\u001b[0m     \u001b[0mctx\u001b[0m\u001b[0;34m.\u001b[0m\u001b[0mensure_initialized\u001b[0m\u001b[0;34m(\u001b[0m\u001b[0;34m)\u001b[0m\u001b[0;34m\u001b[0m\u001b[0;34m\u001b[0m\u001b[0m\n\u001b[1;32m     54\u001b[0m     tensors = pywrap_tfe.TFE_Py_Execute(ctx._handle, device_name, op_name,\n\u001b[0;32m---> 55\u001b[0;31m                                         inputs, attrs, num_outputs)\n\u001b[0m\u001b[1;32m     56\u001b[0m   \u001b[0;32mexcept\u001b[0m \u001b[0mcore\u001b[0m\u001b[0;34m.\u001b[0m\u001b[0m_NotOkStatusException\u001b[0m \u001b[0;32mas\u001b[0m \u001b[0me\u001b[0m\u001b[0;34m:\u001b[0m\u001b[0;34m\u001b[0m\u001b[0;34m\u001b[0m\u001b[0m\n\u001b[1;32m     57\u001b[0m     \u001b[0;32mif\u001b[0m \u001b[0mname\u001b[0m \u001b[0;32mis\u001b[0m \u001b[0;32mnot\u001b[0m \u001b[0;32mNone\u001b[0m\u001b[0;34m:\u001b[0m\u001b[0;34m\u001b[0m\u001b[0;34m\u001b[0m\u001b[0m\n",
            "\u001b[0;31mKeyboardInterrupt\u001b[0m: "
          ]
        }
      ]
    },
    {
      "cell_type": "code",
      "source": [
        "model = Classifier(do_augmentation=True)\n",
        "\n",
        "\n",
        "\n",
        "model.compile(tf.keras.optimizers.Adam(learning_rate=0.0001,),\n",
        "              loss = tf.keras.losses.CategoricalCrossentropy(True),\n",
        "              metrics=['accuracy',tfa.metrics.F1Score(3,\"macro\")],\n",
        "              \n",
        "              )\n",
        "model(tf.constant(0,shape=(4,4,200,1024,3)))\n",
        "\n",
        "model.load_weights(\"/content/mdl_wts.h5\")  \n",
        "model.evaluate(x_test,y_test,4)"
      ],
      "metadata": {
        "colab": {
          "base_uri": "https://localhost:8080/"
        },
        "id": "ne4rqGW2JVaW",
        "outputId": "c4b39409-96bf-4bf8-c677-e2a43dd79e7b"
      },
      "execution_count": null,
      "outputs": [
        {
          "output_type": "stream",
          "name": "stdout",
          "text": [
            "7/7 [==============================] - 7s 122ms/step - loss: 0.7026 - accuracy: 0.8214 - f1_score: 0.5774\n"
          ]
        },
        {
          "output_type": "execute_result",
          "data": {
            "text/plain": [
              "[0.7025801539421082, 0.8214285969734192, 0.5773809552192688]"
            ]
          },
          "metadata": {},
          "execution_count": 26
        }
      ]
    },
    {
      "cell_type": "code",
      "source": [
        "model(tf.constant(0,shape=(4,4,200,1024,3)))"
      ],
      "metadata": {
        "colab": {
          "base_uri": "https://localhost:8080/"
        },
        "id": "czmxFYRJJCaP",
        "outputId": "362701c1-480f-4a2d-93ee-40f41d1dea21"
      },
      "execution_count": null,
      "outputs": [
        {
          "output_type": "execute_result",
          "data": {
            "text/plain": [
              "<tf.Tensor: shape=(4, 3), dtype=float32, numpy=\n",
              "array([[ 0.6342491 , -0.29740682, -0.94797564],\n",
              "       [ 0.6342491 , -0.29740682, -0.94797564],\n",
              "       [ 0.6342491 , -0.29740682, -0.94797564],\n",
              "       [ 0.6342491 , -0.29740682, -0.94797564]], dtype=float32)>"
            ]
          },
          "metadata": {},
          "execution_count": 25
        }
      ]
    },
    {
      "cell_type": "code",
      "source": [
        "train_kfold(2)"
      ],
      "metadata": {
        "colab": {
          "base_uri": "https://localhost:8080/"
        },
        "id": "J-VIl7a6QJWh",
        "outputId": "a954aed1-8361-44ad-d8e3-7abda9f8646a"
      },
      "execution_count": null,
      "outputs": [
        {
          "output_type": "stream",
          "name": "stdout",
          "text": [
            "Train Lable Distributions:  [0.24, 0.56, 0.2]\n",
            "Test Lable Distributions:  [0.24, 0.54, 0.23]\n",
            "total layers: 174\n",
            "first 174 were frozen.\n",
            "Epoch 1/20\n",
            "35/35 [==============================] - ETA: 0s - loss: 1.3621 - accuracy: 0.4571 - f1_score: 0.3234"
          ]
        }
      ]
    },
    {
      "cell_type": "markdown",
      "source": [
        "##Experiment 1:\n",
        "Freezing all layers with dropout 0.5 . model still overfitting for some reason. best accuracy is 59% but the loss for that epoch is 2.0053. I did not use any augmentation. So tthe accuracy of 59% might not be sustainable. Training loss does not drop below 0.1 consistently until the very end of the training however validation loss is about 1.0 . \n",
        "\n",
        "\n"
      ],
      "metadata": {
        "id": "EufKbKjDlNeR"
      }
    },
    {
      "cell_type": "markdown",
      "source": [
        "```\n",
        "total layers: 174\n",
        "Epoch 1/20\n",
        "58/58 [==============================] - 41s 457ms/step - loss: 1.3336 - accuracy: 0.4267 - val_loss: 1.1216 - val_accuracy: 0.5312\n",
        "Epoch 2/20\n",
        "58/58 [==============================] - 23s 403ms/step - loss: 1.0391 - accuracy: 0.5431 - val_loss: 1.3815 - val_accuracy: 0.1875\n",
        "Epoch 3/20\n",
        "58/58 [==============================] - 23s 403ms/step - loss: 0.7997 - accuracy: 0.6379 - val_loss: 1.0141 - val_accuracy: 0.5312\n",
        "Epoch 4/20\n",
        "58/58 [==============================] - 23s 403ms/step - loss: 0.5483 - accuracy: 0.7931 - val_loss: 1.0591 - val_accuracy: 0.2812\n",
        "Epoch 5/20\n",
        "58/58 [==============================] - 23s 403ms/step - loss: 0.2823 - accuracy: 0.8966 - val_loss: 1.0370 - val_accuracy: 0.5312\n",
        "Epoch 6/20\n",
        "58/58 [==============================] - 23s 404ms/step - loss: 0.1424 - accuracy: 0.9698 - val_loss: 1.1385 - val_accuracy: 0.5000\n",
        "Epoch 7/20\n",
        "58/58 [==============================] - 23s 403ms/step - loss: 0.1207 - accuracy: 0.9526 - val_loss: 2.0053 - val_accuracy: 0.5938\n",
        "Epoch 8/20\n",
        "58/58 [==============================] - 23s 405ms/step - loss: 0.0890 - accuracy: 0.9741 - val_loss: 1.6047 - val_accuracy: 0.5000\n",
        "Epoch 9/20\n",
        "58/58 [==============================] - 23s 402ms/step - loss: 0.1721 - accuracy: 0.9353 - val_loss: 1.0399 - val_accuracy: 0.4688\n",
        "Epoch 10/20\n",
        "58/58 [==============================] - 23s 403ms/step - loss: 0.1049 - accuracy: 0.9698 - val_loss: 1.8301 - val_accuracy: 0.5625\n",
        "Epoch 11/20\n",
        "58/58 [==============================] - 23s 404ms/step - loss: 0.1924 - accuracy: 0.9397 - val_loss: 1.6821 - val_accuracy: 0.4375\n",
        "Epoch 12/20\n",
        "58/58 [==============================] - 23s 403ms/step - loss: 0.2276 - accuracy: 0.9095 - val_loss: 1.6963 - val_accuracy: 0.5312\n",
        "Epoch 13/20\n",
        "58/58 [==============================] - 23s 403ms/step - loss: 0.1036 - accuracy: 0.9698 - val_loss: 1.4041 - val_accuracy: 0.5625\n",
        "Epoch 14/20\n",
        "58/58 [==============================] - 23s 403ms/step - loss: 0.1653 - accuracy: 0.9353 - val_loss: 2.6569 - val_accuracy: 0.5312\n",
        "Epoch 15/20\n",
        "58/58 [==============================] - 23s 403ms/step - loss: 0.0491 - accuracy: 0.9828 - val_loss: 1.4794 - val_accuracy: 0.5000\n",
        "Epoch 16/20\n",
        "58/58 [==============================] - 23s 403ms/step - loss: 0.0729 - accuracy: 0.9741 - val_loss: 1.3771 - val_accuracy: 0.5312\n",
        "Epoch 17/20\n",
        "58/58 [==============================] - 23s 403ms/step - loss: 0.0799 - accuracy: 0.9784 - val_loss: 1.8091 - val_accuracy: 0.5312\n",
        "Epoch 18/20\n",
        "58/58 [==============================] - 23s 402ms/step - loss: 0.0402 - accuracy: 0.9914 - val_loss: 2.4991 - val_accuracy: 0.5312\n",
        "Epoch 19/20\n",
        "58/58 [==============================] - 23s 402ms/step - loss: 0.0380 - accuracy: 0.9914 - val_loss: 2.0891 - val_accuracy: 0.5625\n",
        "Epoch 20/20\n",
        "58/58 [==============================] - 23s 403ms/step - loss: 0.0258 - accuracy: 0.9871 - val_loss: 2.1643 - val_accuracy: 0.5000\n",
        "```"
      ],
      "metadata": {
        "id": "4ja53yShnUxN"
      }
    },
    {
      "cell_type": "markdown",
      "source": [
        "##Experiment 2\n",
        "This is the exact same experiment with data augmentation enabled. Random vertical and horizonttal flip plus some random rotation (0.2).\n",
        "Both ttraining and validation loss do not drop under 1.0. I tthink due to the augmenttation the model is not able to learn or overfit. \n",
        "\n",
        "\n",
        "\n"
      ],
      "metadata": {
        "id": "aHK2yUfcnZrC"
      }
    },
    {
      "cell_type": "markdown",
      "source": [
        "\n",
        "\n",
        "```\n",
        "\tloss\taccuracy\tval_loss\tval_accuracy\n",
        "0\t1.186498\t0.439655\t1.027702\t0.53125\n",
        "1\t1.047025\t0.525862\t1.012409\t0.53125\n",
        "2\t1.146495\t0.469828\t1.032769\t0.53125\n",
        "3\t1.094702\t0.500000\t1.019803\t0.53125\n",
        "4\t1.098259\t0.512931\t1.016630\t0.53125\n",
        "5\t1.101701\t0.530172\t1.025359\t0.53125\n",
        "6\t1.076211\t0.508621\t1.004892\t0.53125\n",
        "7\t1.077260\t0.508621\t1.025773\t0.53125\n",
        "8\t1.143771\t0.491379\t1.011279\t0.53125\n",
        "9\t1.118847\t0.495690\t1.024821\t0.53125\n",
        "10\t1.063676\t0.517241\t1.020150\t0.53125\n",
        "11\t1.073338\t0.512931\t1.031344\t0.53125\n",
        "12\t1.049508\t0.517241\t1.013222\t0.53125\n",
        "13\t1.040969\t0.521552\t1.023845\t0.53125\n",
        "14\t1.030766\t0.530172\t1.021029\t0.53125\n",
        "15\t1.020443\t0.500000\t1.038248\t0.53125\n",
        "16\t1.059178\t0.495690\t1.119388\t0.53125\n",
        "17\t1.034057\t0.530172\t1.030357\t0.53125\n",
        "18\t1.017565\t0.525862\t1.017739\t0.53125\n",
        "19\t1.042584\t0.543103\t1.013280\t0.53125\n",
        "\n",
        "```\n",
        "\n"
      ],
      "metadata": {
        "id": "ipl904Rsq-iv"
      }
    },
    {
      "cell_type": "markdown",
      "source": [
        "##Experiment 3\n",
        "Same thing as before: \n",
        "freeze all layers but dropout rate adjustted from 0.5 to 0.2. \n",
        "The model should be able to overfit a litle more.  The results are exactly the same as before. Will try reducing number of frozen layers next. "
      ],
      "metadata": {
        "id": "BaUUvTZwq0nl"
      }
    },
    {
      "cell_type": "code",
      "source": [
        "pd.DataFrame(hist.history)"
      ],
      "metadata": {
        "colab": {
          "base_uri": "https://localhost:8080/",
          "height": 534
        },
        "id": "N318Mw-euKeN",
        "outputId": "72cdf877-bafc-4588-e689-cb0095ffade1"
      },
      "execution_count": null,
      "outputs": [
        {
          "output_type": "execute_result",
          "data": {
            "text/plain": [
              "        loss  accuracy  val_loss  val_accuracy\n",
              "0   1.133770  0.495690  1.057115       0.53125\n",
              "1   1.041963  0.521552  1.026016       0.53125\n",
              "2   1.087432  0.512931  1.055999       0.53125\n",
              "3   1.097794  0.500000  1.016583       0.53125\n",
              "4   1.074426  0.512931  1.032689       0.53125\n",
              "5   1.058349  0.517241  1.110555       0.53125\n",
              "6   1.052102  0.504310  1.037165       0.53125\n",
              "7   1.057311  0.495690  1.045388       0.53125\n",
              "8   1.026160  0.525862  1.021341       0.53125\n",
              "9   1.014007  0.543103  1.032834       0.53125\n",
              "10  1.023649  0.564655  1.019584       0.53125\n",
              "11  1.040036  0.534483  1.045322       0.53125\n",
              "12  1.065022  0.525862  1.021125       0.53125\n",
              "13  1.015710  0.534483  1.031897       0.53125\n",
              "14  1.032977  0.508621  1.040638       0.53125\n",
              "15  1.059514  0.534483  1.515532       0.31250\n",
              "16  1.046280  0.517241  1.737344       0.53125\n",
              "17  1.025630  0.538793  1.033155       0.53125\n",
              "18  1.028255  0.534483  1.485093       0.53125\n",
              "19  1.032556  0.538793  1.020034       0.53125"
            ],
            "text/html": [
              "\n",
              "  <div id=\"df-f437537d-fe29-42fd-a2ce-b0e6a7c4285e\">\n",
              "    <div class=\"colab-df-container\">\n",
              "      <div>\n",
              "<style scoped>\n",
              "    .dataframe tbody tr th:only-of-type {\n",
              "        vertical-align: middle;\n",
              "    }\n",
              "\n",
              "    .dataframe tbody tr th {\n",
              "        vertical-align: top;\n",
              "    }\n",
              "\n",
              "    .dataframe thead th {\n",
              "        text-align: right;\n",
              "    }\n",
              "</style>\n",
              "<table border=\"1\" class=\"dataframe\">\n",
              "  <thead>\n",
              "    <tr style=\"text-align: right;\">\n",
              "      <th></th>\n",
              "      <th>loss</th>\n",
              "      <th>accuracy</th>\n",
              "      <th>val_loss</th>\n",
              "      <th>val_accuracy</th>\n",
              "    </tr>\n",
              "  </thead>\n",
              "  <tbody>\n",
              "    <tr>\n",
              "      <th>0</th>\n",
              "      <td>1.133770</td>\n",
              "      <td>0.495690</td>\n",
              "      <td>1.057115</td>\n",
              "      <td>0.53125</td>\n",
              "    </tr>\n",
              "    <tr>\n",
              "      <th>1</th>\n",
              "      <td>1.041963</td>\n",
              "      <td>0.521552</td>\n",
              "      <td>1.026016</td>\n",
              "      <td>0.53125</td>\n",
              "    </tr>\n",
              "    <tr>\n",
              "      <th>2</th>\n",
              "      <td>1.087432</td>\n",
              "      <td>0.512931</td>\n",
              "      <td>1.055999</td>\n",
              "      <td>0.53125</td>\n",
              "    </tr>\n",
              "    <tr>\n",
              "      <th>3</th>\n",
              "      <td>1.097794</td>\n",
              "      <td>0.500000</td>\n",
              "      <td>1.016583</td>\n",
              "      <td>0.53125</td>\n",
              "    </tr>\n",
              "    <tr>\n",
              "      <th>4</th>\n",
              "      <td>1.074426</td>\n",
              "      <td>0.512931</td>\n",
              "      <td>1.032689</td>\n",
              "      <td>0.53125</td>\n",
              "    </tr>\n",
              "    <tr>\n",
              "      <th>5</th>\n",
              "      <td>1.058349</td>\n",
              "      <td>0.517241</td>\n",
              "      <td>1.110555</td>\n",
              "      <td>0.53125</td>\n",
              "    </tr>\n",
              "    <tr>\n",
              "      <th>6</th>\n",
              "      <td>1.052102</td>\n",
              "      <td>0.504310</td>\n",
              "      <td>1.037165</td>\n",
              "      <td>0.53125</td>\n",
              "    </tr>\n",
              "    <tr>\n",
              "      <th>7</th>\n",
              "      <td>1.057311</td>\n",
              "      <td>0.495690</td>\n",
              "      <td>1.045388</td>\n",
              "      <td>0.53125</td>\n",
              "    </tr>\n",
              "    <tr>\n",
              "      <th>8</th>\n",
              "      <td>1.026160</td>\n",
              "      <td>0.525862</td>\n",
              "      <td>1.021341</td>\n",
              "      <td>0.53125</td>\n",
              "    </tr>\n",
              "    <tr>\n",
              "      <th>9</th>\n",
              "      <td>1.014007</td>\n",
              "      <td>0.543103</td>\n",
              "      <td>1.032834</td>\n",
              "      <td>0.53125</td>\n",
              "    </tr>\n",
              "    <tr>\n",
              "      <th>10</th>\n",
              "      <td>1.023649</td>\n",
              "      <td>0.564655</td>\n",
              "      <td>1.019584</td>\n",
              "      <td>0.53125</td>\n",
              "    </tr>\n",
              "    <tr>\n",
              "      <th>11</th>\n",
              "      <td>1.040036</td>\n",
              "      <td>0.534483</td>\n",
              "      <td>1.045322</td>\n",
              "      <td>0.53125</td>\n",
              "    </tr>\n",
              "    <tr>\n",
              "      <th>12</th>\n",
              "      <td>1.065022</td>\n",
              "      <td>0.525862</td>\n",
              "      <td>1.021125</td>\n",
              "      <td>0.53125</td>\n",
              "    </tr>\n",
              "    <tr>\n",
              "      <th>13</th>\n",
              "      <td>1.015710</td>\n",
              "      <td>0.534483</td>\n",
              "      <td>1.031897</td>\n",
              "      <td>0.53125</td>\n",
              "    </tr>\n",
              "    <tr>\n",
              "      <th>14</th>\n",
              "      <td>1.032977</td>\n",
              "      <td>0.508621</td>\n",
              "      <td>1.040638</td>\n",
              "      <td>0.53125</td>\n",
              "    </tr>\n",
              "    <tr>\n",
              "      <th>15</th>\n",
              "      <td>1.059514</td>\n",
              "      <td>0.534483</td>\n",
              "      <td>1.515532</td>\n",
              "      <td>0.31250</td>\n",
              "    </tr>\n",
              "    <tr>\n",
              "      <th>16</th>\n",
              "      <td>1.046280</td>\n",
              "      <td>0.517241</td>\n",
              "      <td>1.737344</td>\n",
              "      <td>0.53125</td>\n",
              "    </tr>\n",
              "    <tr>\n",
              "      <th>17</th>\n",
              "      <td>1.025630</td>\n",
              "      <td>0.538793</td>\n",
              "      <td>1.033155</td>\n",
              "      <td>0.53125</td>\n",
              "    </tr>\n",
              "    <tr>\n",
              "      <th>18</th>\n",
              "      <td>1.028255</td>\n",
              "      <td>0.534483</td>\n",
              "      <td>1.485093</td>\n",
              "      <td>0.53125</td>\n",
              "    </tr>\n",
              "    <tr>\n",
              "      <th>19</th>\n",
              "      <td>1.032556</td>\n",
              "      <td>0.538793</td>\n",
              "      <td>1.020034</td>\n",
              "      <td>0.53125</td>\n",
              "    </tr>\n",
              "  </tbody>\n",
              "</table>\n",
              "</div>\n",
              "      <button class=\"colab-df-convert\" onclick=\"convertToInteractive('df-f437537d-fe29-42fd-a2ce-b0e6a7c4285e')\"\n",
              "              title=\"Convert this dataframe to an interactive table.\"\n",
              "              style=\"display:none;\">\n",
              "        \n",
              "  <svg xmlns=\"http://www.w3.org/2000/svg\" height=\"24px\"viewBox=\"0 0 24 24\"\n",
              "       width=\"24px\">\n",
              "    <path d=\"M0 0h24v24H0V0z\" fill=\"none\"/>\n",
              "    <path d=\"M18.56 5.44l.94 2.06.94-2.06 2.06-.94-2.06-.94-.94-2.06-.94 2.06-2.06.94zm-11 1L8.5 8.5l.94-2.06 2.06-.94-2.06-.94L8.5 2.5l-.94 2.06-2.06.94zm10 10l.94 2.06.94-2.06 2.06-.94-2.06-.94-.94-2.06-.94 2.06-2.06.94z\"/><path d=\"M17.41 7.96l-1.37-1.37c-.4-.4-.92-.59-1.43-.59-.52 0-1.04.2-1.43.59L10.3 9.45l-7.72 7.72c-.78.78-.78 2.05 0 2.83L4 21.41c.39.39.9.59 1.41.59.51 0 1.02-.2 1.41-.59l7.78-7.78 2.81-2.81c.8-.78.8-2.07 0-2.86zM5.41 20L4 18.59l7.72-7.72 1.47 1.35L5.41 20z\"/>\n",
              "  </svg>\n",
              "      </button>\n",
              "      \n",
              "  <style>\n",
              "    .colab-df-container {\n",
              "      display:flex;\n",
              "      flex-wrap:wrap;\n",
              "      gap: 12px;\n",
              "    }\n",
              "\n",
              "    .colab-df-convert {\n",
              "      background-color: #E8F0FE;\n",
              "      border: none;\n",
              "      border-radius: 50%;\n",
              "      cursor: pointer;\n",
              "      display: none;\n",
              "      fill: #1967D2;\n",
              "      height: 32px;\n",
              "      padding: 0 0 0 0;\n",
              "      width: 32px;\n",
              "    }\n",
              "\n",
              "    .colab-df-convert:hover {\n",
              "      background-color: #E2EBFA;\n",
              "      box-shadow: 0px 1px 2px rgba(60, 64, 67, 0.3), 0px 1px 3px 1px rgba(60, 64, 67, 0.15);\n",
              "      fill: #174EA6;\n",
              "    }\n",
              "\n",
              "    [theme=dark] .colab-df-convert {\n",
              "      background-color: #3B4455;\n",
              "      fill: #D2E3FC;\n",
              "    }\n",
              "\n",
              "    [theme=dark] .colab-df-convert:hover {\n",
              "      background-color: #434B5C;\n",
              "      box-shadow: 0px 1px 3px 1px rgba(0, 0, 0, 0.15);\n",
              "      filter: drop-shadow(0px 1px 2px rgba(0, 0, 0, 0.3));\n",
              "      fill: #FFFFFF;\n",
              "    }\n",
              "  </style>\n",
              "\n",
              "      <script>\n",
              "        const buttonEl =\n",
              "          document.querySelector('#df-f437537d-fe29-42fd-a2ce-b0e6a7c4285e button.colab-df-convert');\n",
              "        buttonEl.style.display =\n",
              "          google.colab.kernel.accessAllowed ? 'block' : 'none';\n",
              "\n",
              "        async function convertToInteractive(key) {\n",
              "          const element = document.querySelector('#df-f437537d-fe29-42fd-a2ce-b0e6a7c4285e');\n",
              "          const dataTable =\n",
              "            await google.colab.kernel.invokeFunction('convertToInteractive',\n",
              "                                                     [key], {});\n",
              "          if (!dataTable) return;\n",
              "\n",
              "          const docLinkHtml = 'Like what you see? Visit the ' +\n",
              "            '<a target=\"_blank\" href=https://colab.research.google.com/notebooks/data_table.ipynb>data table notebook</a>'\n",
              "            + ' to learn more about interactive tables.';\n",
              "          element.innerHTML = '';\n",
              "          dataTable['output_type'] = 'display_data';\n",
              "          await google.colab.output.renderOutput(dataTable, element);\n",
              "          const docLink = document.createElement('div');\n",
              "          docLink.innerHTML = docLinkHtml;\n",
              "          element.appendChild(docLink);\n",
              "        }\n",
              "      </script>\n",
              "    </div>\n",
              "  </div>\n",
              "  "
            ]
          },
          "metadata": {},
          "execution_count": 23
        }
      ]
    },
    {
      "cell_type": "markdown",
      "source": [
        ""
      ],
      "metadata": {
        "id": "WSPujSF-uJ7m"
      }
    },
    {
      "cell_type": "markdown",
      "source": [
        "##Experiment 4\n",
        "dropout 0.2. Only augmentation is horizontal flip with prob 0.5. I did not freeze any layers. The model overfitts quickly. \n"
      ],
      "metadata": {
        "id": "95jykCNz0fz-"
      }
    },
    {
      "cell_type": "code",
      "source": [
        "pd.DataFrame(hist.history)"
      ],
      "metadata": {
        "colab": {
          "base_uri": "https://localhost:8080/",
          "height": 534
        },
        "id": "UEnX3eWQ0r1N",
        "outputId": "db71fb55-6455-4c36-bcf0-dd19cdcec952"
      },
      "execution_count": null,
      "outputs": [
        {
          "output_type": "execute_result",
          "data": {
            "text/plain": [
              "        loss  accuracy  val_loss  val_accuracy\n",
              "0   1.158602  0.495690  1.067441       0.53125\n",
              "1   0.969232  0.525862  1.160922       0.25000\n",
              "2   0.782931  0.633621  1.159073       0.53125\n",
              "3   0.726008  0.711207  1.265861       0.53125\n",
              "4   0.442167  0.823276  1.302077       0.53125\n",
              "5   0.341294  0.840517  1.719365       0.50000\n",
              "6   0.275424  0.922414  2.413816       0.43750\n",
              "7   0.199908  0.931035  1.654029       0.53125\n",
              "8   0.130662  0.948276  2.805044       0.56250\n",
              "9   0.294300  0.883621  4.105997       0.18750\n",
              "10  0.284751  0.896552  2.055866       0.56250\n",
              "11  0.176932  0.918103  2.778537       0.46875\n",
              "12  0.146520  0.943965  1.932105       0.37500\n",
              "13  0.156805  0.943965  9.758582       0.18750\n",
              "14  0.105337  0.952586  2.091528       0.46875\n",
              "15  0.093805  0.974138  1.937993       0.53125\n",
              "16  0.081952  0.965517  2.602982       0.56250\n",
              "17  0.124875  0.952586  3.154697       0.53125\n",
              "18  0.114407  0.948276  2.745253       0.50000\n",
              "19  0.090594  0.978448  2.789149       0.56250"
            ],
            "text/html": [
              "\n",
              "  <div id=\"df-995f6b40-90c0-4d83-b459-12a3c48688d7\">\n",
              "    <div class=\"colab-df-container\">\n",
              "      <div>\n",
              "<style scoped>\n",
              "    .dataframe tbody tr th:only-of-type {\n",
              "        vertical-align: middle;\n",
              "    }\n",
              "\n",
              "    .dataframe tbody tr th {\n",
              "        vertical-align: top;\n",
              "    }\n",
              "\n",
              "    .dataframe thead th {\n",
              "        text-align: right;\n",
              "    }\n",
              "</style>\n",
              "<table border=\"1\" class=\"dataframe\">\n",
              "  <thead>\n",
              "    <tr style=\"text-align: right;\">\n",
              "      <th></th>\n",
              "      <th>loss</th>\n",
              "      <th>accuracy</th>\n",
              "      <th>val_loss</th>\n",
              "      <th>val_accuracy</th>\n",
              "    </tr>\n",
              "  </thead>\n",
              "  <tbody>\n",
              "    <tr>\n",
              "      <th>0</th>\n",
              "      <td>1.158602</td>\n",
              "      <td>0.495690</td>\n",
              "      <td>1.067441</td>\n",
              "      <td>0.53125</td>\n",
              "    </tr>\n",
              "    <tr>\n",
              "      <th>1</th>\n",
              "      <td>0.969232</td>\n",
              "      <td>0.525862</td>\n",
              "      <td>1.160922</td>\n",
              "      <td>0.25000</td>\n",
              "    </tr>\n",
              "    <tr>\n",
              "      <th>2</th>\n",
              "      <td>0.782931</td>\n",
              "      <td>0.633621</td>\n",
              "      <td>1.159073</td>\n",
              "      <td>0.53125</td>\n",
              "    </tr>\n",
              "    <tr>\n",
              "      <th>3</th>\n",
              "      <td>0.726008</td>\n",
              "      <td>0.711207</td>\n",
              "      <td>1.265861</td>\n",
              "      <td>0.53125</td>\n",
              "    </tr>\n",
              "    <tr>\n",
              "      <th>4</th>\n",
              "      <td>0.442167</td>\n",
              "      <td>0.823276</td>\n",
              "      <td>1.302077</td>\n",
              "      <td>0.53125</td>\n",
              "    </tr>\n",
              "    <tr>\n",
              "      <th>5</th>\n",
              "      <td>0.341294</td>\n",
              "      <td>0.840517</td>\n",
              "      <td>1.719365</td>\n",
              "      <td>0.50000</td>\n",
              "    </tr>\n",
              "    <tr>\n",
              "      <th>6</th>\n",
              "      <td>0.275424</td>\n",
              "      <td>0.922414</td>\n",
              "      <td>2.413816</td>\n",
              "      <td>0.43750</td>\n",
              "    </tr>\n",
              "    <tr>\n",
              "      <th>7</th>\n",
              "      <td>0.199908</td>\n",
              "      <td>0.931035</td>\n",
              "      <td>1.654029</td>\n",
              "      <td>0.53125</td>\n",
              "    </tr>\n",
              "    <tr>\n",
              "      <th>8</th>\n",
              "      <td>0.130662</td>\n",
              "      <td>0.948276</td>\n",
              "      <td>2.805044</td>\n",
              "      <td>0.56250</td>\n",
              "    </tr>\n",
              "    <tr>\n",
              "      <th>9</th>\n",
              "      <td>0.294300</td>\n",
              "      <td>0.883621</td>\n",
              "      <td>4.105997</td>\n",
              "      <td>0.18750</td>\n",
              "    </tr>\n",
              "    <tr>\n",
              "      <th>10</th>\n",
              "      <td>0.284751</td>\n",
              "      <td>0.896552</td>\n",
              "      <td>2.055866</td>\n",
              "      <td>0.56250</td>\n",
              "    </tr>\n",
              "    <tr>\n",
              "      <th>11</th>\n",
              "      <td>0.176932</td>\n",
              "      <td>0.918103</td>\n",
              "      <td>2.778537</td>\n",
              "      <td>0.46875</td>\n",
              "    </tr>\n",
              "    <tr>\n",
              "      <th>12</th>\n",
              "      <td>0.146520</td>\n",
              "      <td>0.943965</td>\n",
              "      <td>1.932105</td>\n",
              "      <td>0.37500</td>\n",
              "    </tr>\n",
              "    <tr>\n",
              "      <th>13</th>\n",
              "      <td>0.156805</td>\n",
              "      <td>0.943965</td>\n",
              "      <td>9.758582</td>\n",
              "      <td>0.18750</td>\n",
              "    </tr>\n",
              "    <tr>\n",
              "      <th>14</th>\n",
              "      <td>0.105337</td>\n",
              "      <td>0.952586</td>\n",
              "      <td>2.091528</td>\n",
              "      <td>0.46875</td>\n",
              "    </tr>\n",
              "    <tr>\n",
              "      <th>15</th>\n",
              "      <td>0.093805</td>\n",
              "      <td>0.974138</td>\n",
              "      <td>1.937993</td>\n",
              "      <td>0.53125</td>\n",
              "    </tr>\n",
              "    <tr>\n",
              "      <th>16</th>\n",
              "      <td>0.081952</td>\n",
              "      <td>0.965517</td>\n",
              "      <td>2.602982</td>\n",
              "      <td>0.56250</td>\n",
              "    </tr>\n",
              "    <tr>\n",
              "      <th>17</th>\n",
              "      <td>0.124875</td>\n",
              "      <td>0.952586</td>\n",
              "      <td>3.154697</td>\n",
              "      <td>0.53125</td>\n",
              "    </tr>\n",
              "    <tr>\n",
              "      <th>18</th>\n",
              "      <td>0.114407</td>\n",
              "      <td>0.948276</td>\n",
              "      <td>2.745253</td>\n",
              "      <td>0.50000</td>\n",
              "    </tr>\n",
              "    <tr>\n",
              "      <th>19</th>\n",
              "      <td>0.090594</td>\n",
              "      <td>0.978448</td>\n",
              "      <td>2.789149</td>\n",
              "      <td>0.56250</td>\n",
              "    </tr>\n",
              "  </tbody>\n",
              "</table>\n",
              "</div>\n",
              "      <button class=\"colab-df-convert\" onclick=\"convertToInteractive('df-995f6b40-90c0-4d83-b459-12a3c48688d7')\"\n",
              "              title=\"Convert this dataframe to an interactive table.\"\n",
              "              style=\"display:none;\">\n",
              "        \n",
              "  <svg xmlns=\"http://www.w3.org/2000/svg\" height=\"24px\"viewBox=\"0 0 24 24\"\n",
              "       width=\"24px\">\n",
              "    <path d=\"M0 0h24v24H0V0z\" fill=\"none\"/>\n",
              "    <path d=\"M18.56 5.44l.94 2.06.94-2.06 2.06-.94-2.06-.94-.94-2.06-.94 2.06-2.06.94zm-11 1L8.5 8.5l.94-2.06 2.06-.94-2.06-.94L8.5 2.5l-.94 2.06-2.06.94zm10 10l.94 2.06.94-2.06 2.06-.94-2.06-.94-.94-2.06-.94 2.06-2.06.94z\"/><path d=\"M17.41 7.96l-1.37-1.37c-.4-.4-.92-.59-1.43-.59-.52 0-1.04.2-1.43.59L10.3 9.45l-7.72 7.72c-.78.78-.78 2.05 0 2.83L4 21.41c.39.39.9.59 1.41.59.51 0 1.02-.2 1.41-.59l7.78-7.78 2.81-2.81c.8-.78.8-2.07 0-2.86zM5.41 20L4 18.59l7.72-7.72 1.47 1.35L5.41 20z\"/>\n",
              "  </svg>\n",
              "      </button>\n",
              "      \n",
              "  <style>\n",
              "    .colab-df-container {\n",
              "      display:flex;\n",
              "      flex-wrap:wrap;\n",
              "      gap: 12px;\n",
              "    }\n",
              "\n",
              "    .colab-df-convert {\n",
              "      background-color: #E8F0FE;\n",
              "      border: none;\n",
              "      border-radius: 50%;\n",
              "      cursor: pointer;\n",
              "      display: none;\n",
              "      fill: #1967D2;\n",
              "      height: 32px;\n",
              "      padding: 0 0 0 0;\n",
              "      width: 32px;\n",
              "    }\n",
              "\n",
              "    .colab-df-convert:hover {\n",
              "      background-color: #E2EBFA;\n",
              "      box-shadow: 0px 1px 2px rgba(60, 64, 67, 0.3), 0px 1px 3px 1px rgba(60, 64, 67, 0.15);\n",
              "      fill: #174EA6;\n",
              "    }\n",
              "\n",
              "    [theme=dark] .colab-df-convert {\n",
              "      background-color: #3B4455;\n",
              "      fill: #D2E3FC;\n",
              "    }\n",
              "\n",
              "    [theme=dark] .colab-df-convert:hover {\n",
              "      background-color: #434B5C;\n",
              "      box-shadow: 0px 1px 3px 1px rgba(0, 0, 0, 0.15);\n",
              "      filter: drop-shadow(0px 1px 2px rgba(0, 0, 0, 0.3));\n",
              "      fill: #FFFFFF;\n",
              "    }\n",
              "  </style>\n",
              "\n",
              "      <script>\n",
              "        const buttonEl =\n",
              "          document.querySelector('#df-995f6b40-90c0-4d83-b459-12a3c48688d7 button.colab-df-convert');\n",
              "        buttonEl.style.display =\n",
              "          google.colab.kernel.accessAllowed ? 'block' : 'none';\n",
              "\n",
              "        async function convertToInteractive(key) {\n",
              "          const element = document.querySelector('#df-995f6b40-90c0-4d83-b459-12a3c48688d7');\n",
              "          const dataTable =\n",
              "            await google.colab.kernel.invokeFunction('convertToInteractive',\n",
              "                                                     [key], {});\n",
              "          if (!dataTable) return;\n",
              "\n",
              "          const docLinkHtml = 'Like what you see? Visit the ' +\n",
              "            '<a target=\"_blank\" href=https://colab.research.google.com/notebooks/data_table.ipynb>data table notebook</a>'\n",
              "            + ' to learn more about interactive tables.';\n",
              "          element.innerHTML = '';\n",
              "          dataTable['output_type'] = 'display_data';\n",
              "          await google.colab.output.renderOutput(dataTable, element);\n",
              "          const docLink = document.createElement('div');\n",
              "          docLink.innerHTML = docLinkHtml;\n",
              "          element.appendChild(docLink);\n",
              "        }\n",
              "      </script>\n",
              "    </div>\n",
              "  </div>\n",
              "  "
            ]
          },
          "metadata": {},
          "execution_count": 23
        }
      ]
    }
  ]
}