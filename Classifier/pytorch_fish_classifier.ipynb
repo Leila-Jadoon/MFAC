{
 "cells": [
  {
   "cell_type": "code",
   "execution_count": null,
   "metadata": {
    "colab": {
     "base_uri": "https://localhost:8080/"
    },
    "id": "_kA_BNgzN7Zn",
    "outputId": "e1048248-e1e2-4566-ef8c-10830aad5ab1"
   },
   "outputs": [],
   "source": [
    "import torch\n",
    "import torch.optim as optim\n",
    "from torch.optim import lr_scheduler\n",
    "\n",
    "import torch.nn as nn\n",
    "from torch.utils.data import TensorDataset, DataLoader\n",
    "\n",
    "import torchvision\n",
    "from torchvision import datasets, models, transforms\n",
    "import copy\n",
    "\n",
    "import numpy as np\n",
    "import pandas as pd\n",
    "\n",
    "%matplotlib inline \n",
    "import matplotlib.pyplot as plt\n",
    "import time\n",
    "import os\n",
    "import copy\n",
    "import random\n",
    "import math\n",
    "\n",
    "import scipy.stats as stats\n",
    "\n",
    "from sklearn.model_selection import train_test_split\n",
    "from sklearn.metrics import accuracy_score\n",
    "from sklearn.metrics import confusion_matrix\n",
    "from sklearn.mixture import GaussianMixture\n",
    "\n",
    "from skimage.filters import sobel\n",
    "from skimage.color import rgb2gray\n",
    "\n",
    "device = torch.device(\"cuda:0\" if torch.cuda.is_available() else \"cpu\")\n",
    "\n",
    "print(device)"
   ]
  },
  {
   "cell_type": "code",
   "execution_count": null,
   "metadata": {
    "id": "Ob7GdwdTOjia"
   },
   "outputs": [],
   "source": [
    "x = np.load(\"data/x_train_b.npy\")\n",
    "y = np.load(\"data/y_train_b.npy\")\n",
    "print(x.shape)\n",
    "print(y.shape)"
   ]
  },
  {
   "cell_type": "code",
   "execution_count": null,
   "metadata": {
    "colab": {
     "base_uri": "https://localhost:8080/",
     "height": 251
    },
    "id": "qQq6Lhq3_E1-",
    "outputId": "852aa645-963d-47ea-faaf-664faafb90b6"
   },
   "outputs": [],
   "source": [
    "import matplotlib.pyplot as plt\n",
    "\n",
    "percentages= [np.count_nonzero(y==0),\n",
    "              np.count_nonzero(y==1),\n",
    "              np.count_nonzero(y==2)]\n",
    "              \n",
    "fig1, ax1 = plt.subplots()\n",
    "ax1.pie(percentages,labels=[\"1\",\"2\",\"3\"], autopct='%1.1f%%',\n",
    "        shadow=True, startangle=90)\n",
    "ax1.axis('equal')  \n",
    "\n",
    "plt.show()"
   ]
  },
  {
   "cell_type": "code",
   "execution_count": null,
   "metadata": {},
   "outputs": [],
   "source": [
    "def moving_average(arr, n=3):\n",
    "  padded_arr = np.concatenate((np.flip(arr[:n]), arr, np.flip(arr[-n:])))\n",
    "  return np.convolve(padded_arr, np.ones(2 * n + 1)/(2 * n + 1), mode='valid')\n",
    "\n",
    "def auto_crop(image, target_width=750, target_height=130, xbuffer=15, ybuffer=10):\n",
    "  edges = sobel(rgb2gray(image))\n",
    "  columns = np.sum(edges, axis=0)\n",
    "  smoothed_columns = np.array(moving_average(columns, 2 * xbuffer + 1))\n",
    "\n",
    "  left = 0\n",
    "  right = len(smoothed_columns) - 1\n",
    "  while right - left + 1 > target_width:\n",
    "    if smoothed_columns[left] < smoothed_columns[right]:\n",
    "      left += 1\n",
    "    else:\n",
    "      right -= 1\n",
    "  image = image[:, left:right+1, :]    \n",
    "  edges = edges[:, left:right+1]\n",
    "  # plt.plot(columns)\n",
    "  # plt.plot(smoothed_columns)\n",
    "  # plt.axvline(left, color='r')\n",
    "  # plt.axvline(right, color='r')\n",
    "  # plt.show()\n",
    "  \n",
    "  rows = np.sum(edges, axis=1)\n",
    "  smoothed_rows = np.array(moving_average(rows, 2 * ybuffer + 1))\n",
    "  top = 0\n",
    "  bottom = len(smoothed_rows) - 1\n",
    "  while bottom - top + 1 > target_height:\n",
    "    if smoothed_rows[top] < smoothed_rows[bottom]:\n",
    "      top += 1\n",
    "    else:\n",
    "      bottom -= 1\n",
    "  # plt.plot(rows)\n",
    "  # plt.plot(smoothed_rows)\n",
    "  # plt.axvline(top, color='r')\n",
    "  # plt.axvline(bottom, color='r')\n",
    "  # plt.show()\n",
    "  image = image[top:bottom+1, :, :]\n",
    "  return image"
   ]
  },
  {
   "cell_type": "code",
   "execution_count": null,
   "metadata": {},
   "outputs": [],
   "source": [
    "# test image cropping\n",
    "# index = random.randrange(len(x))\n",
    "# print(f'index = {index}')\n",
    "# f, axarr = plt.subplots(2, 4, figsize = (24, 3))\n",
    "# for i in range(4):\n",
    "#   axarr[1, i].imshow(auto_crop(x[index][i]))\n",
    "#   axarr[0, i].imshow(x[index][i])\n",
    "# plt.show()"
   ]
  },
  {
   "cell_type": "code",
   "execution_count": null,
   "metadata": {},
   "outputs": [],
   "source": [
    "# crop all images\n",
    "cropped_x = [[-1] * 4] * len(x)\n",
    "for i in range(len(x)):\n",
    "  for j in range(4):\n",
    "    cropped_x[i][j] = auto_crop(x[i][j])\n",
    "  cropped_x[i] = np.stack(cropped_x[i])\n",
    "cropped_x = np.stack(cropped_x)\n",
    "print(x.shape)\n",
    "\n",
    "for i in np.random.choice(range(len(x)), size=2, replace=False):\n",
    "  f, axarr = plt.subplots(2, 4, figsize = (24, 3))\n",
    "  for j in range(4):\n",
    "    axarr[0, j].imshow(x[i][j])\n",
    "    axarr[1, j].imshow(cropped_x[i][j])\n",
    "  plt.show()\n",
    "  \n",
    "x = cropped_x"
   ]
  },
  {
   "cell_type": "code",
   "execution_count": null,
   "metadata": {
    "colab": {
     "base_uri": "https://localhost:8080/"
    },
    "id": "t2tTpGUZPSgL",
    "outputId": "672cf15e-4084-4dcf-bde0-eda220dd067c"
   },
   "outputs": [],
   "source": [
    "tensor_x = torch.Tensor(x) \n",
    "tensor_y = torch.Tensor(y).long()\n",
    "\n",
    "tensor_x = torch.swapaxes(tensor_x,2,4)\n",
    "tensor_x = torch.swapaxes(tensor_x,3,4)\n",
    "\n",
    "x_train,x_test,y_train,y_test = train_test_split(tensor_x,tensor_y,test_size=0.1)\n",
    "\n",
    "print(\"x train shape: \", x_train.shape,\"x test shape: \",x_test.shape)\n",
    "\n",
    "train_ds = TensorDataset(x_train,nn.functional.one_hot(y_train,3)) \n",
    "test_ds = TensorDataset(x_test,nn.functional.one_hot(y_test,3)) \n",
    "\n",
    "train_dl = DataLoader(train_ds,2,shuffle = True)\n",
    "test_dl = DataLoader(test_ds,2,drop_last = True)\n",
    "del x,y"
   ]
  },
  {
   "cell_type": "code",
   "execution_count": null,
   "metadata": {
    "colab": {
     "base_uri": "https://localhost:8080/",
     "height": 244
    },
    "id": "AW2BP9spI_BE",
    "outputId": "47100f3b-8756-492f-b747-4e6cbdbc52db"
   },
   "outputs": [],
   "source": [
    "# fig, (ax1, ax2) = plt.subplots(1, 2)\n",
    "# fig.suptitle('subplots')\n",
    "\n",
    "# percentages1 = [np.count_nonzero(y==0),\n",
    "#               np.count_nonzero(y==1),\n",
    "#               np.count_nonzero(y==2)]\n",
    "\n",
    "# percentages1 = [np.count_nonzero(y==0),\n",
    "#               np.count_nonzero(y==1),\n",
    "#               np.count_nonzero(y==2)]\n",
    "              \n",
    "\n",
    "# ax1.pie(percentages,labels=[\"1\",\"2\",\"3\"], autopct='%1.1f%%',\n",
    "#         shadow=True, startangle=90)\n",
    "# ax2.pie(percentages,labels=[\"1\",\"2\",\"3\"], autopct='%1.1f%%',\n",
    "#         shadow=True, startangle=90)\n",
    "\n",
    "\n",
    "\n",
    "              \n",
    "# fig1, ax1 = plt.subplots()\n",
    "# ax1.pie(percentages,labels=[\"1\",\"2\",\"3\"], autopct='%1.1f%%',\n",
    "#         shadow=True, startangle=90)\n",
    "# ax1.axis('equal')  \n",
    "\n",
    "# plt.show()"
   ]
  },
  {
   "cell_type": "code",
   "execution_count": null,
   "metadata": {},
   "outputs": [],
   "source": [
    "model = torchvision.models.resnet18(pretrained=True)\n",
    "#print(list(model.parameters())[0][0][0])\n",
    "model = nn.Sequential(*list(model.children())[:-1])\n",
    "# list(model.children())\n",
    "#print(list(model.parameters())[0][0][0])"
   ]
  },
  {
   "cell_type": "code",
   "execution_count": null,
   "metadata": {},
   "outputs": [],
   "source": [
    "def reluToInplaceFalse(model):\n",
    "  for name, child in model.named_children():\n",
    "    if isinstance(child, nn.ReLU):\n",
    "      setattr(child, 'inplace', False)\n",
    "    else:\n",
    "      reluToInplaceFalse(child)"
   ]
  },
  {
   "cell_type": "code",
   "execution_count": null,
   "metadata": {
    "id": "VHTLP0NoRnLm"
   },
   "outputs": [],
   "source": [
    "from torchvision.transforms.transforms import RandomRotation\n",
    "\n",
    "class Classifier(torch.nn.Module):\n",
    "\n",
    "  def __init__(self, backbone='resnet', multi_backbone = True, device =\"cuda:0\",dropout_rate = 0.2, do_augmentation = False):\n",
    "    super().__init__()\n",
    "    self.multi_backbone = multi_backbone\n",
    "\n",
    "    if backbone == \"vgg19\":\n",
    "      backbone = torchvision.models.vgg19(pretrained=True)\n",
    "      self.out_channels = 25088\n",
    "      \n",
    "    elif backbone == \"resnet18\":\n",
    "      backbone = torchvision.models.resnet18(pretrained=True)\n",
    "      self.out_channels = 512\n",
    "\n",
    "    elif backbone == \"resnet50\":\n",
    "      backbone = torchvision.models.resnet50(pretrained=True)\n",
    "      self.out_channels = 2048\n",
    "\n",
    "    elif backbone == \"Efficientnet b1\":\n",
    "      backbone = torchvision.models.efficientnet_b1(pretrained=True)\n",
    "      self.out_channels = 1280\n",
    "\n",
    "    elif backbone == \"Efficientnet b3\":\n",
    "      backbone = torchvision.models.efficientnet_b3(pretrained=True)\n",
    "      self.out_channels = 1536\n",
    "\n",
    "    elif backbone == \"Efficientnet b5\":\n",
    "      backbone = torchvision.models.efficientnet_b5(pretrained=True)\n",
    "      self.out_channels = 2048\n",
    "\n",
    "    elif backbone == \"Efficientnet b7\":\n",
    "      backbone = torchvision.models.efficientnet_b7(pretrained=True)\n",
    "      self.out_channels = 2560\n",
    "      \n",
    "    # Disabling inplace ReLu becasuse GradCam doesn't work it enabled\n",
    "    reluToInplaceFalse(backbone)\n",
    "     \n",
    "    modules = list(backbone.children())[:-1]\n",
    "    self.do_augmentation = do_augmentation\n",
    "\n",
    "    if self.do_augmentation:\n",
    "      self.augmentation = nn.Sequential(transforms.RandomHorizontalFlip(),\n",
    "                                        transforms.RandomVerticalFlip(),\n",
    "                                        transforms.RandomPerspective(0.2),\n",
    "                                        RandomRotation(20),\n",
    "                                        transforms.RandomAutocontrast())\n",
    "\n",
    "    if self.multi_backbone:\n",
    "      self.backbone1 = nn.Sequential(*copy.deepcopy(modules)).to(device)\n",
    "      self.backbone2 = nn.Sequential(*copy.deepcopy(modules)).to(device)\n",
    "      self.backbone3 = nn.Sequential(*copy.deepcopy(modules)).to(device)\n",
    "      self.backbone4 = nn.Sequential(*copy.deepcopy(modules)).to(device)\n",
    "    else:\n",
    "      self.backbone =  nn.Sequential(*modules).to(device)\n",
    "\n",
    "\n",
    "     \n",
    "\n",
    "    self.fc1 = nn.Sequential(nn.Dropout(dropout_rate),\n",
    "                              nn.Linear(self.out_channels, 128),\n",
    "                              nn.ReLU(),\n",
    "                              nn.Dropout(dropout_rate)) #TODO: Experiment with BN and Dropout\n",
    "\n",
    "    self.fc = nn.Sequential(nn.Linear(512, 3))                  #TODO: L2 Regularization\n",
    "     \n",
    "  def forward(self, x, is_training = True):\n",
    "    if self.do_augmentation and is_training:\n",
    "      imgs = [self.augmentation(x[:,i]) for i in range(4)] #list of 4 images\n",
    "    else:\n",
    "      imgs = [x[:,i] for i in range(4)] #list of 4 images\n",
    "\n",
    "    if self.multi_backbone:\n",
    "      encodings = [self.fc1(torch.flatten(self.backbone1(imgs[0]),1)),\n",
    "                   self.fc1(torch.flatten(self.backbone2(imgs[1]),1)),\n",
    "                   self.fc1(torch.flatten(self.backbone3(imgs[2]),1)),\n",
    "                   self.fc1(torch.flatten(self.backbone4(imgs[3]),1))]\n",
    "    else:\n",
    "      encodings = [self.fc1(self.backbone(img).squeeze()) for img in imgs]\n",
    "\n",
    "    return self.fc(torch.cat(encodings,1))\n"
   ]
  },
  {
   "cell_type": "code",
   "execution_count": null,
   "metadata": {
    "id": "vfYTWTfpHT9E"
   },
   "outputs": [],
   "source": [
    "def freeze_layers(model,layers = 5):\n",
    "  if model.multi_backbone:\n",
    "    for i,param in enumerate(model.backbone1.parameters()):\n",
    "      if i < layers:\n",
    "        param.requires_grad = False\n",
    "\n",
    "    for i,param in enumerate(model.backbone2.parameters()):\n",
    "      if i < layers:\n",
    "        param.requires_grad = False\n",
    "\n",
    "    for i,param in enumerate(model.backbone3.parameters()):\n",
    "      if i < layers:\n",
    "        param.requires_grad = False\n",
    "\n",
    "    for i,param in enumerate(model.backbone4.parameters()):\n",
    "      if i < layers:\n",
    "        param.requires_grad = False\n",
    "  else:\n",
    "     for i,param in enumerate(model.backbone.parameters()):\n",
    "      if i < layers:\n",
    "        param.requires_grad = False\n",
    "\n"
   ]
  },
  {
   "cell_type": "code",
   "execution_count": null,
   "metadata": {
    "id": "H6wrm2SBPmc9"
   },
   "outputs": [],
   "source": [
    "from torch.utils.tensorboard import SummaryWriter\n",
    "from tqdm import tqdm\n",
    "\n",
    "def train_model(model, train_dl, test_dl, optimizer, evaluation_steps = 20, epochs =1, savefile='model.pt'):\n",
    "  writer = SummaryWriter()\n",
    "\n",
    "  EPOCHS = epochs\n",
    "  DATA_SIZE =  {\"train\":len(train_dl.dataset),\"eval\":len(test_dl.dataset)}\n",
    "\n",
    "  best_eval_acc = 0\n",
    "  best_eval_acc_step = 0\n",
    "  \n",
    "  best_eval_loss = float('inf')\n",
    "  best_eval_loss_step = 0\n",
    "\n",
    "  final_eval_loss = 0\n",
    "  final_eval_acc = 0\n",
    "\n",
    "  final_train_loss = 0\n",
    "  final_train_acc = 0\n",
    "\n",
    "\n",
    "\n",
    "\n",
    "  exp_lr_scheduler = lr_scheduler.StepLR(optimizer, step_size=7, gamma=0.1)\n",
    "  criterion = nn.BCEWithLogitsLoss()\n",
    "\n",
    "  step =0\n",
    "\n",
    "  for epoch in range(EPOCHS):\n",
    "        running_loss = 0.0\n",
    "        running_corrects = 0\n",
    "\n",
    "        # Iterate over data.\n",
    "        for inputs, labels in train_dl:\n",
    "          optimizer.zero_grad()\n",
    "          step += 1\n",
    "          model.train()\n",
    "          inputs = inputs.to(device)\n",
    "          labels = labels.to(device)\n",
    "          outputs = model(inputs)\n",
    "\n",
    "          _, preds = torch.max(outputs, 1)\n",
    "          loss = criterion(outputs, labels.squeeze(1).float())\n",
    "          loss.backward()\n",
    "          optimizer.step()\n",
    "\n",
    "          # statistics\n",
    "          running_loss += loss.item() * inputs.size(0)\n",
    "          running_corrects += torch.sum(preds == torch.argmax(labels,2).squeeze().data)\n",
    "          # if phase == 'train':\n",
    "          #     scheduler.step()\n",
    "          if step % evaluation_steps == 0:\n",
    "            test_running_loss = 0.0\n",
    "            test_running_corrects = 0\n",
    "            model.eval()\n",
    "            with torch.no_grad():\n",
    "              for inputs, labels in test_dl:\n",
    "                inputs = inputs.to(device)\n",
    "                labels = labels.to(device)\n",
    "                outputs = model(inputs,is_training=False)\n",
    "                loss = criterion(outputs, labels.squeeze(1).float())\n",
    "                _, preds = torch.max(outputs, 1)\n",
    "\n",
    "\n",
    "                test_running_loss += loss.item() * inputs.size(0)\n",
    "                test_running_corrects += torch.sum(preds == torch.argmax(labels,2).squeeze().data)\n",
    "\n",
    "            eval_loss = test_running_loss / DATA_SIZE[\"eval\"]\n",
    "            eval_acc = test_running_corrects.double() / DATA_SIZE[\"eval\"]\n",
    "\n",
    "            writer.add_scalar('Loss/'+\"eval\", eval_loss, step)\n",
    "            writer.add_scalar('Accuracy/'+\"eval\", eval_acc, step)\n",
    "\n",
    "            final_eval_loss = eval_loss\n",
    "            final_eval_acc = eval_acc\n",
    "\n",
    "            if eval_loss < best_eval_loss:\n",
    "              best_eval_loss = eval_loss\n",
    "              best_eval_loss_step = step\n",
    "              torch.save(model, savefile)\n",
    "\n",
    "            if eval_acc > best_eval_acc:\n",
    "              best_eval_acc = eval_acc\n",
    "              best_eval_acc_step = step\n",
    "\n",
    "            # print('{} Loss: {:.4f} Acc: {:.4f}'.format(\n",
    "            # \"Eval\", eval_loss, eval_acc))\n",
    "\n",
    "\n",
    "\n",
    "        epoch_loss = running_loss / DATA_SIZE[\"train\"]\n",
    "        epoch_acc = running_corrects.double() / DATA_SIZE[\"train\"]\n",
    "\n",
    "\n",
    "        final_train_loss = epoch_loss\n",
    "        final_train_acc = epoch_acc\n",
    "\n",
    "        # print('Epoch {}/{} '.format(epoch+1, EPOCHS ),'{} Loss: {:.4f} Acc: {:.4f}'.format(\n",
    "        #       \"Train\", epoch_loss, epoch_acc))\n",
    "          \n",
    "        writer.add_scalar('Loss/'+\"Train\", epoch_loss, step)\n",
    "        writer.add_scalar('Accuracy/'+\"Train\", epoch_acc, step)\n",
    "\n",
    "  # print('Best val Acc: {:4f}\\n\\n'.format(best_eval_acc))\n",
    "\n",
    "  return {  \"Best Eval Acc\": best_eval_acc.cpu().item(),\n",
    "            \"Best Eval Loss\": best_eval_loss,\n",
    "            \"Best Eval Step\": best_eval_loss_step,\n",
    "            \"Final Train Acc\": final_train_acc.cpu().item(),\n",
    "            \"Final Eval Acc\": final_eval_acc.cpu().item(),\n",
    "            \"Final Train Loss\": final_train_loss,\n",
    "            \"Final Eval Loss\": final_eval_loss,\n",
    "        }\n",
    "# load best model weights\n",
    "# model.load_state_dict(best_model_wts)\n"
   ]
  },
  {
   "cell_type": "code",
   "execution_count": null,
   "metadata": {
    "colab": {
     "base_uri": "https://localhost:8080/"
    },
    "id": "D7OdEIJLkzu8",
    "outputId": "6020bafe-7d0b-4791-c6c9-556692fbbfbc"
   },
   "outputs": [],
   "source": [
    "\n",
    "Sweep_Summary = {\n",
    "    \"Backbone\" : [],\n",
    "    \"Optim\" : [],\n",
    "    \"LR\" : [],\n",
    "    \"Scheduler\" : [],\n",
    "    \"Epochs\" : [],\n",
    "    \"Batch Size\" : [],\n",
    "    \"Dropout\": [],\n",
    "    \"Augmentation\": [],\n",
    "    \"Weight Decay\": [],\n",
    "    \"Freeze Layers\": [],\n",
    "    \"Best Eval Loss\": [],\n",
    "    \"Best Eval Step\": [],\n",
    "    \"Best Eval Acc\": [],\n",
    "    \"Final Train Acc\": [],\n",
    "    \"Final Eval Acc\": [],\n",
    "    \"Final Train Loss\": [],\n",
    "    \"Final Eval Loss\": [],\n",
    "\n",
    "}\n",
    "\n",
    "BACKBONE = \"resnet18\"\n",
    "OPTIM = \"Adam\"\n",
    "LR = 2e-5\n",
    "SCHEDULER = \"None\"\n",
    "EPOCHS = 40\n",
    "BATCHSIZE = 2\n",
    "DROPOUT = [0,0.2,0.5]\n",
    "AUGMENTATION = \"None\"\n",
    "WEIGHT_DECAY = [0,1e-3,1e-5]\n",
    "FREEZE = [155,150,140,130,110]\n",
    "\n",
    "DROPOUT = [0.5]\n",
    "WEIGHT_DECAY = [0.01]\n",
    "FREEZE = [50]\n",
    "\n",
    "\n",
    "for weight_decay in WEIGHT_DECAY:\n",
    "  for freeze in FREEZE:\n",
    "    for dropout_rate in DROPOUT:\n",
    "      print(\"Weight Decay {} \".format(weight_decay))\n",
    "      print(\"Freeze       {} \".format(freeze))\n",
    "      print(\"Dropout Rate {} \\n------------------------------------------------------\".format(dropout_rate))\n",
    "      model = Classifier(dropout_rate=dropout_rate,backbone=BACKBONE,multi_backbone=True).to(device)\n",
    "      freeze_layers(model,freeze)\n",
    "      optimizer = torch.optim.Adam(model.parameters(), lr=LR, weight_decay=weight_decay)\n",
    "      summary = train_model(model,train_dl,test_dl,optimizer,epochs=EPOCHS,savefile='model.pt')\n",
    "\n",
    "      Sweep_Summary[\"Backbone\"].append(BACKBONE)\n",
    "      Sweep_Summary[\"Optim\"].append(OPTIM)\n",
    "      Sweep_Summary[\"LR\"].append(LR)\n",
    "      Sweep_Summary[\"Scheduler\"].append(SCHEDULER)      \n",
    "      Sweep_Summary[\"Epochs\"].append(EPOCHS)\n",
    "      Sweep_Summary[\"Batch Size\"].append(BATCHSIZE)\n",
    "      Sweep_Summary[\"Dropout\"].append(dropout_rate)\n",
    "      Sweep_Summary[\"Augmentation\"].append(AUGMENTATION)\n",
    "      Sweep_Summary[\"Weight Decay\"].append(weight_decay)\n",
    "      Sweep_Summary[\"Freeze Layers\"].append(freeze)\n",
    "      for key,value in summary.items():\n",
    "        Sweep_Summary[key].append(value)"
   ]
  },
  {
   "cell_type": "code",
   "execution_count": null,
   "metadata": {},
   "outputs": [],
   "source": [
    "# Test model loading\n",
    "saved_model = torch.load('model.pt')\n",
    "saved_model.eval()\n",
    "test_running_loss = 0.0\n",
    "all_preds = []\n",
    "all_labels = []\n",
    "criterion = nn.BCEWithLogitsLoss()\n",
    "dl = test_dl\n",
    "with torch.no_grad():\n",
    "  for inputs, labels in dl:\n",
    "    inputs = inputs.to(device)\n",
    "    labels = labels.to(device)\n",
    "    outputs = saved_model(inputs,is_training=False)\n",
    "    loss = criterion(outputs, labels.squeeze(1).float())\n",
    "    _, preds = torch.max(outputs, 1)\n",
    "    all_preds.extend(preds.cpu().tolist())\n",
    "    all_labels.extend([label[0] for label in labels.cpu().tolist()])\n",
    "\n",
    "\n",
    "    test_running_loss += loss.item() * inputs.size(0)\n",
    "\n",
    "all_preds = np.array(all_preds)\n",
    "all_labels = np.argmax(all_labels, axis = 1)\n",
    "\n",
    "eval_loss = test_running_loss / len(dl.dataset)\n",
    "eval_acc = accuracy_score(all_labels, all_preds)\n",
    "print('{} Loss: {:.4f} Acc: {:.4f}'.format(\"Eval\", eval_loss, eval_acc))\n",
    "print(f'Pred: {all_preds}')\n",
    "print(f'True: {all_labels}')\n",
    "print('Confusion Matrix:')\n",
    "print(confusion_matrix(all_labels, all_preds))"
   ]
  },
  {
   "cell_type": "code",
   "execution_count": null,
   "metadata": {
    "id": "brB-bKaP08Hb"
   },
   "outputs": [],
   "source": [
    "df = pd.DataFrame(Sweep_Summary)\n",
    "df.to_csv(\"Fish_Classifier_Sweep_Results_2.0.csv\")\n",
    "!cp \"/content/Fish_Classifier_Sweep_Results_2.0.csv\" \"/content/drive/MyDrive\""
   ]
  },
  {
   "cell_type": "code",
   "execution_count": null,
   "metadata": {
    "colab": {
     "base_uri": "https://localhost:8080/"
    },
    "id": "SnSMTbvaKRI7",
    "outputId": "0fbb93cc-59de-4cab-e4a9-3ca8ed42de4a"
   },
   "outputs": [],
   "source": [
    "from torchsummary import summary\n",
    "torch.cuda.empty_cache()\n",
    "model = Classifier(dropout_rate=dropout_rate,backbone=BACKBONE,multi_backbone=True).to(device)\n",
    "summary(model, (4, 3, 200, 1000))"
   ]
  },
  {
   "cell_type": "code",
   "execution_count": null,
   "metadata": {
    "colab": {
     "base_uri": "https://localhost:8080/"
    },
    "id": "0IrsQCH-JReo",
    "outputId": "bcf608cd-f6c8-4091-de4d-615766fd8040"
   },
   "outputs": [],
   "source": [
    "i =0\n",
    "for _ in model.backbone1.parameters():\n",
    "  i += 1\n",
    "i"
   ]
  },
  {
   "cell_type": "code",
   "execution_count": null,
   "metadata": {
    "colab": {
     "base_uri": "https://localhost:8080/",
     "height": 1000
    },
    "id": "bAJonRIL9D5P",
    "outputId": "abc6eb1c-5c86-451a-c6d3-47997c7b0344"
   },
   "outputs": [],
   "source": [
    "df"
   ]
  },
  {
   "cell_type": "code",
   "execution_count": null,
   "metadata": {
    "colab": {
     "base_uri": "https://localhost:8080/"
    },
    "id": "F9h06xt2pFDw",
    "outputId": "8aa82890-42a1-4476-d72e-4762e638eec0"
   },
   "outputs": [],
   "source": [
    "!pip install wandb\n",
    "!wandb log. in\n",
    "#6533b3e866937401e2fae54e38119aba0c36d8e4"
   ]
  },
  {
   "cell_type": "code",
   "execution_count": null,
   "metadata": {
    "colab": {
     "base_uri": "https://localhost:8080/"
    },
    "id": "WsFblgnUKAGx",
    "outputId": "8e97500f-c641-446c-cd4a-f394b59a4622"
   },
   "outputs": [],
   "source": [
    "!tensorboard dev upload --logdir runs"
   ]
  },
  {
   "cell_type": "code",
   "execution_count": null,
   "metadata": {
    "colab": {
     "base_uri": "https://localhost:8080/",
     "height": 331
    },
    "id": "WeISDPwmagUp",
    "outputId": "3b48659d-8490-409f-b660-6ad3dbff4a99"
   },
   "outputs": [],
   "source": [
    "%load_ext tensorboard\n",
    "%tensorboard --logdir logs"
   ]
  },
  {
   "cell_type": "code",
   "execution_count": null,
   "metadata": {
    "id": "5H-iEmbIXpab"
   },
   "outputs": [],
   "source": [
    "!wget https://bin.equinox.io/c/4VmDzA7iaHb/ngrok-stable-linux-amd64.zip\n",
    "!unzip ngrok-stable-linux-amd64.zip"
   ]
  },
  {
   "cell_type": "code",
   "execution_count": null,
   "metadata": {
    "id": "1GKygdE0HuRK"
   },
   "outputs": [],
   "source": [
    "LOG_DIR = './runs'\n",
    "get_ipython().system_raw(\n",
    "    'tensorboard --logdir {} --host 0.0.0.0 --port 6006 &'\n",
    "    .format(LOG_DIR)\n",
    ")"
   ]
  },
  {
   "cell_type": "code",
   "execution_count": null,
   "metadata": {
    "id": "-ECTxoLwIFRi"
   },
   "outputs": [],
   "source": [
    "get_ipython().system_raw('./ngrok http 6006 &')"
   ]
  },
  {
   "cell_type": "code",
   "execution_count": null,
   "metadata": {
    "id": "dSZq5cwNIGVh"
   },
   "outputs": [],
   "source": [
    "! curl -s http://localhost:4040/api/tunnels | python3 -c \\\n",
    "    \"import sys, json; print(json.load(sys.stdin)['tunnels'][0]['public_url'])\""
   ]
  },
  {
   "cell_type": "code",
   "execution_count": null,
   "metadata": {
    "id": "cGW3vA_jIXme"
   },
   "outputs": [],
   "source": [
    "!./ngrok authtoken 24nct5MrkkabWHKHo1qlKir5TJo_6TYt5jNTyni2WRqKegBYy"
   ]
  },
  {
   "cell_type": "code",
   "execution_count": null,
   "metadata": {
    "id": "8jP4eAUDIkzj"
   },
   "outputs": [],
   "source": []
  }
 ],
 "metadata": {
  "accelerator": "GPU",
  "colab": {
   "collapsed_sections": [],
   "machine_shape": "hm",
   "name": "pytorch_fish_classifier.ipynb",
   "provenance": []
  },
  "kernelspec": {
   "display_name": "Python 3 (ipykernel)",
   "language": "python",
   "name": "python3"
  },
  "language_info": {
   "codemirror_mode": {
    "name": "ipython",
    "version": 3
   },
   "file_extension": ".py",
   "mimetype": "text/x-python",
   "name": "python",
   "nbconvert_exporter": "python",
   "pygments_lexer": "ipython3",
   "version": "3.9.7"
  },
  "widgets": {
   "application/vnd.jupyter.widget-state+json": {
    "07dc1487dca14be898d6e59e1ba03e67": {
     "model_module": "@jupyter-widgets/controls",
     "model_module_version": "1.5.0",
     "model_name": "DescriptionStyleModel",
     "state": {
      "_model_module": "@jupyter-widgets/controls",
      "_model_module_version": "1.5.0",
      "_model_name": "DescriptionStyleModel",
      "_view_count": null,
      "_view_module": "@jupyter-widgets/base",
      "_view_module_version": "1.2.0",
      "_view_name": "StyleView",
      "description_width": ""
     }
    },
    "268f12b52635482d9ebf30fa26b4e873": {
     "model_module": "@jupyter-widgets/base",
     "model_module_version": "1.2.0",
     "model_name": "LayoutModel",
     "state": {
      "_model_module": "@jupyter-widgets/base",
      "_model_module_version": "1.2.0",
      "_model_name": "LayoutModel",
      "_view_count": null,
      "_view_module": "@jupyter-widgets/base",
      "_view_module_version": "1.2.0",
      "_view_name": "LayoutView",
      "align_content": null,
      "align_items": null,
      "align_self": null,
      "border": null,
      "bottom": null,
      "display": null,
      "flex": null,
      "flex_flow": null,
      "grid_area": null,
      "grid_auto_columns": null,
      "grid_auto_flow": null,
      "grid_auto_rows": null,
      "grid_column": null,
      "grid_gap": null,
      "grid_row": null,
      "grid_template_areas": null,
      "grid_template_columns": null,
      "grid_template_rows": null,
      "height": null,
      "justify_content": null,
      "justify_items": null,
      "left": null,
      "margin": null,
      "max_height": null,
      "max_width": null,
      "min_height": null,
      "min_width": null,
      "object_fit": null,
      "object_position": null,
      "order": null,
      "overflow": null,
      "overflow_x": null,
      "overflow_y": null,
      "padding": null,
      "right": null,
      "top": null,
      "visibility": null,
      "width": null
     }
    },
    "35a4e0894a0a4607a7d16158d371711b": {
     "model_module": "@jupyter-widgets/controls",
     "model_module_version": "1.5.0",
     "model_name": "ProgressStyleModel",
     "state": {
      "_model_module": "@jupyter-widgets/controls",
      "_model_module_version": "1.5.0",
      "_model_name": "ProgressStyleModel",
      "_view_count": null,
      "_view_module": "@jupyter-widgets/base",
      "_view_module_version": "1.2.0",
      "_view_name": "StyleView",
      "bar_color": null,
      "description_width": ""
     }
    },
    "3b4dbae7998041c7aad9e602b5267c5b": {
     "model_module": "@jupyter-widgets/base",
     "model_module_version": "1.2.0",
     "model_name": "LayoutModel",
     "state": {
      "_model_module": "@jupyter-widgets/base",
      "_model_module_version": "1.2.0",
      "_model_name": "LayoutModel",
      "_view_count": null,
      "_view_module": "@jupyter-widgets/base",
      "_view_module_version": "1.2.0",
      "_view_name": "LayoutView",
      "align_content": null,
      "align_items": null,
      "align_self": null,
      "border": null,
      "bottom": null,
      "display": null,
      "flex": null,
      "flex_flow": null,
      "grid_area": null,
      "grid_auto_columns": null,
      "grid_auto_flow": null,
      "grid_auto_rows": null,
      "grid_column": null,
      "grid_gap": null,
      "grid_row": null,
      "grid_template_areas": null,
      "grid_template_columns": null,
      "grid_template_rows": null,
      "height": null,
      "justify_content": null,
      "justify_items": null,
      "left": null,
      "margin": null,
      "max_height": null,
      "max_width": null,
      "min_height": null,
      "min_width": null,
      "object_fit": null,
      "object_position": null,
      "order": null,
      "overflow": null,
      "overflow_x": null,
      "overflow_y": null,
      "padding": null,
      "right": null,
      "top": null,
      "visibility": null,
      "width": null
     }
    },
    "61dd169b74de4177b6823d14b8974208": {
     "model_module": "@jupyter-widgets/controls",
     "model_module_version": "1.5.0",
     "model_name": "HTMLModel",
     "state": {
      "_dom_classes": [],
      "_model_module": "@jupyter-widgets/controls",
      "_model_module_version": "1.5.0",
      "_model_name": "HTMLModel",
      "_view_count": null,
      "_view_module": "@jupyter-widgets/controls",
      "_view_module_version": "1.5.0",
      "_view_name": "HTMLView",
      "description": "",
      "description_tooltip": null,
      "layout": "IPY_MODEL_c9b9527d96d84aeeb5e6ece47f241ec7",
      "placeholder": "​",
      "style": "IPY_MODEL_9dc322d7ebbf436a93b852c101e77acc",
      "value": " 97.8M/97.8M [00:00&lt;00:00, 179MB/s]"
     }
    },
    "65f146fbd45d45a8b14d1b8f0672050e": {
     "model_module": "@jupyter-widgets/controls",
     "model_module_version": "1.5.0",
     "model_name": "HTMLModel",
     "state": {
      "_dom_classes": [],
      "_model_module": "@jupyter-widgets/controls",
      "_model_module_version": "1.5.0",
      "_model_name": "HTMLModel",
      "_view_count": null,
      "_view_module": "@jupyter-widgets/controls",
      "_view_module_version": "1.5.0",
      "_view_name": "HTMLView",
      "description": "",
      "description_tooltip": null,
      "layout": "IPY_MODEL_268f12b52635482d9ebf30fa26b4e873",
      "placeholder": "​",
      "style": "IPY_MODEL_07dc1487dca14be898d6e59e1ba03e67",
      "value": "100%"
     }
    },
    "939702a1d99a4091a58f05dee7a69875": {
     "model_module": "@jupyter-widgets/controls",
     "model_module_version": "1.5.0",
     "model_name": "FloatProgressModel",
     "state": {
      "_dom_classes": [],
      "_model_module": "@jupyter-widgets/controls",
      "_model_module_version": "1.5.0",
      "_model_name": "FloatProgressModel",
      "_view_count": null,
      "_view_module": "@jupyter-widgets/controls",
      "_view_module_version": "1.5.0",
      "_view_name": "ProgressView",
      "bar_style": "success",
      "description": "",
      "description_tooltip": null,
      "layout": "IPY_MODEL_3b4dbae7998041c7aad9e602b5267c5b",
      "max": 102530333,
      "min": 0,
      "orientation": "horizontal",
      "style": "IPY_MODEL_35a4e0894a0a4607a7d16158d371711b",
      "value": 102530333
     }
    },
    "9dc322d7ebbf436a93b852c101e77acc": {
     "model_module": "@jupyter-widgets/controls",
     "model_module_version": "1.5.0",
     "model_name": "DescriptionStyleModel",
     "state": {
      "_model_module": "@jupyter-widgets/controls",
      "_model_module_version": "1.5.0",
      "_model_name": "DescriptionStyleModel",
      "_view_count": null,
      "_view_module": "@jupyter-widgets/base",
      "_view_module_version": "1.2.0",
      "_view_name": "StyleView",
      "description_width": ""
     }
    },
    "c89116c60e1b45d185e1910735021ee2": {
     "model_module": "@jupyter-widgets/controls",
     "model_module_version": "1.5.0",
     "model_name": "HBoxModel",
     "state": {
      "_dom_classes": [],
      "_model_module": "@jupyter-widgets/controls",
      "_model_module_version": "1.5.0",
      "_model_name": "HBoxModel",
      "_view_count": null,
      "_view_module": "@jupyter-widgets/controls",
      "_view_module_version": "1.5.0",
      "_view_name": "HBoxView",
      "box_style": "",
      "children": [
       "IPY_MODEL_65f146fbd45d45a8b14d1b8f0672050e",
       "IPY_MODEL_939702a1d99a4091a58f05dee7a69875",
       "IPY_MODEL_61dd169b74de4177b6823d14b8974208"
      ],
      "layout": "IPY_MODEL_f9fcad9f420841a280f3d2edb917dcd8"
     }
    },
    "c9b9527d96d84aeeb5e6ece47f241ec7": {
     "model_module": "@jupyter-widgets/base",
     "model_module_version": "1.2.0",
     "model_name": "LayoutModel",
     "state": {
      "_model_module": "@jupyter-widgets/base",
      "_model_module_version": "1.2.0",
      "_model_name": "LayoutModel",
      "_view_count": null,
      "_view_module": "@jupyter-widgets/base",
      "_view_module_version": "1.2.0",
      "_view_name": "LayoutView",
      "align_content": null,
      "align_items": null,
      "align_self": null,
      "border": null,
      "bottom": null,
      "display": null,
      "flex": null,
      "flex_flow": null,
      "grid_area": null,
      "grid_auto_columns": null,
      "grid_auto_flow": null,
      "grid_auto_rows": null,
      "grid_column": null,
      "grid_gap": null,
      "grid_row": null,
      "grid_template_areas": null,
      "grid_template_columns": null,
      "grid_template_rows": null,
      "height": null,
      "justify_content": null,
      "justify_items": null,
      "left": null,
      "margin": null,
      "max_height": null,
      "max_width": null,
      "min_height": null,
      "min_width": null,
      "object_fit": null,
      "object_position": null,
      "order": null,
      "overflow": null,
      "overflow_x": null,
      "overflow_y": null,
      "padding": null,
      "right": null,
      "top": null,
      "visibility": null,
      "width": null
     }
    },
    "f9fcad9f420841a280f3d2edb917dcd8": {
     "model_module": "@jupyter-widgets/base",
     "model_module_version": "1.2.0",
     "model_name": "LayoutModel",
     "state": {
      "_model_module": "@jupyter-widgets/base",
      "_model_module_version": "1.2.0",
      "_model_name": "LayoutModel",
      "_view_count": null,
      "_view_module": "@jupyter-widgets/base",
      "_view_module_version": "1.2.0",
      "_view_name": "LayoutView",
      "align_content": null,
      "align_items": null,
      "align_self": null,
      "border": null,
      "bottom": null,
      "display": null,
      "flex": null,
      "flex_flow": null,
      "grid_area": null,
      "grid_auto_columns": null,
      "grid_auto_flow": null,
      "grid_auto_rows": null,
      "grid_column": null,
      "grid_gap": null,
      "grid_row": null,
      "grid_template_areas": null,
      "grid_template_columns": null,
      "grid_template_rows": null,
      "height": null,
      "justify_content": null,
      "justify_items": null,
      "left": null,
      "margin": null,
      "max_height": null,
      "max_width": null,
      "min_height": null,
      "min_width": null,
      "object_fit": null,
      "object_position": null,
      "order": null,
      "overflow": null,
      "overflow_x": null,
      "overflow_y": null,
      "padding": null,
      "right": null,
      "top": null,
      "visibility": null,
      "width": null
     }
    }
   }
  }
 },
 "nbformat": 4,
 "nbformat_minor": 4
}
