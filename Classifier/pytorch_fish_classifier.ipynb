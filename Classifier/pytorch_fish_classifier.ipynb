{
  "cells": [
    {
      "cell_type": "code",
      "execution_count": 1,
      "metadata": {
        "colab": {
          "base_uri": "https://localhost:8080/"
        },
        "id": "_kA_BNgzN7Zn",
        "outputId": "c0ec5295-44e9-439c-e819-f6618efd8650"
      },
      "outputs": [
        {
          "output_type": "stream",
          "name": "stdout",
          "text": [
            "cuda:0\n"
          ]
        }
      ],
      "source": [
        "import torch\n",
        "import torch.optim as optim\n",
        "from torch.optim import lr_scheduler\n",
        "\n",
        "import torch.nn as nn\n",
        "from torch.utils.data import TensorDataset, DataLoader\n",
        "\n",
        "import torchvision\n",
        "from torchvision import datasets, models, transforms\n",
        "import copy\n",
        "\n",
        "import numpy as np\n",
        "import pandas as pd\n",
        "\n",
        "%matplotlib inline \n",
        "import matplotlib.pyplot as plt\n",
        "import time\n",
        "import os\n",
        "import copy\n",
        "import random\n",
        "import math\n",
        "\n",
        "import scipy.stats as stats\n",
        "\n",
        "from sklearn.model_selection import train_test_split\n",
        "from sklearn.metrics import accuracy_score\n",
        "from sklearn.metrics import confusion_matrix\n",
        "from sklearn.mixture import GaussianMixture\n",
        "\n",
        "from skimage.filters import sobel\n",
        "from skimage.color import rgb2gray\n",
        "\n",
        "device = torch.device(\"cuda:0\" if torch.cuda.is_available() else \"cpu\")\n",
        "\n",
        "print(device)"
      ]
    },
    {
      "cell_type": "code",
      "source": [
        "from google.colab import drive\n",
        "drive.mount('/content/drive')"
      ],
      "metadata": {
        "colab": {
          "base_uri": "https://localhost:8080/"
        },
        "id": "G_MSIOaV8fAk",
        "outputId": "bbdce972-d0f1-4c29-e4c6-d53f6858a918"
      },
      "execution_count": 2,
      "outputs": [
        {
          "output_type": "stream",
          "name": "stdout",
          "text": [
            "Mounted at /content/drive\n"
          ]
        }
      ]
    },
    {
      "cell_type": "code",
      "source": [
        "DATASET = \"Allele B Cropped\"\n",
        "X_PATH = \"/content/drive/Shareddrives/Exploding Gradients/x_train_b.npy\"\n",
        "Y_PATH= \"/content/drive/Shareddrives/Exploding Gradients/y_train_b.npy\"\n",
        "\n",
        "\n",
        "BACKBONE = \"resnet18\"\n",
        "MULTI_BACKBONE = False\n",
        "OPTIM = \"Adam\"\n",
        "LR = 5e-5\n",
        "SCHEDULER = \"None\"\n",
        "EPOCHS = 40\n",
        "BATCHSIZE = 4\n",
        "DROPOUT = [0,0.1,0.2,0.5]\n",
        "AUGMENTATION = \"None\"\n",
        "\n",
        "WEIGHT_DECAY = [0,1e-3,1e-5]\n",
        "FREEZE = [10,25,40,50,55]\n",
        "\n"
      ],
      "metadata": {
        "id": "62mzNuS-89r8"
      },
      "execution_count": 3,
      "outputs": []
    },
    {
      "cell_type": "code",
      "execution_count": 4,
      "metadata": {
        "id": "Ob7GdwdTOjia",
        "colab": {
          "base_uri": "https://localhost:8080/"
        },
        "outputId": "5bead4f7-1e17-4456-961c-563e144e68b1"
      },
      "outputs": [
        {
          "output_type": "stream",
          "name": "stdout",
          "text": [
            "(285, 4, 200, 1024, 3)\n",
            "(285, 1)\n"
          ]
        }
      ],
      "source": [
        "x = np.load(X_PATH)\n",
        "y = np.load(Y_PATH)\n",
        "print(x.shape)\n",
        "print(y.shape)"
      ]
    },
    {
      "cell_type": "code",
      "execution_count": 5,
      "metadata": {
        "colab": {
          "base_uri": "https://localhost:8080/",
          "height": 251
        },
        "id": "qQq6Lhq3_E1-",
        "outputId": "4ba55fc8-f798-479d-8654-2fb8e2b5c129"
      },
      "outputs": [
        {
          "output_type": "display_data",
          "data": {
            "text/plain": [
              "<Figure size 432x288 with 1 Axes>"
            ],
            "image/png": "[encoded data removed]"
          },
          "metadata": {}
        }
      ],
      "source": [
        "import matplotlib.pyplot as plt\n",
        "\n",
        "percentages= [np.count_nonzero(y==0),\n",
        "              np.count_nonzero(y==1),\n",
        "              np.count_nonzero(y==2)]\n",
        "              \n",
        "fig1, ax1 = plt.subplots()\n",
        "ax1.pie(percentages,labels=[\"1\",\"2\",\"3\"], autopct='%1.1f%%',\n",
        "        shadow=True, startangle=90)\n",
        "ax1.axis('equal')  \n",
        "\n",
        "plt.show()"
      ]
    },
    {
      "cell_type": "code",
      "execution_count": 6,
      "metadata": {
        "colab": {
          "base_uri": "https://localhost:8080/"
        },
        "id": "t2tTpGUZPSgL",
        "outputId": "c2958609-b86f-4d83-c085-de7d9930eb7b"
      },
      "outputs": [
        {
          "output_type": "stream",
          "name": "stdout",
          "text": [
            "x train shape:  torch.Size([256, 4, 3, 200, 1024]) x test shape:  torch.Size([29, 4, 3, 200, 1024])\n"
          ]
        }
      ],
      "source": [
        "tensor_x = torch.Tensor(x) \n",
        "tensor_y = torch.Tensor(y).long()\n",
        "\n",
        "tensor_x = torch.swapaxes(tensor_x,2,4)\n",
        "tensor_x = torch.swapaxes(tensor_x,3,4)\n",
        "\n",
        "x_train,x_test,y_train,y_test = train_test_split(tensor_x,tensor_y,test_size=0.1)\n",
        "\n",
        "print(\"x train shape: \", x_train.shape,\"x test shape: \",x_test.shape)\n",
        "\n",
        "train_ds = TensorDataset(x_train,nn.functional.one_hot(y_train,3)) \n",
        "test_ds = TensorDataset(x_test,nn.functional.one_hot(y_test,3)) \n",
        "\n",
        "train_dl = DataLoader(train_ds,BATCHSIZE,shuffle = True)\n",
        "test_dl = DataLoader(test_ds,BATCHSIZE,drop_last = True)\n",
        "del x,y"
      ]
    },
    {
      "cell_type": "code",
      "execution_count": 7,
      "metadata": {
        "id": "Og6k2dvk8Wni"
      },
      "outputs": [],
      "source": [
        "def reluToInplaceFalse(model):\n",
        "  for name, child in model.named_children():\n",
        "    if isinstance(child, nn.ReLU):\n",
        "      setattr(child, 'inplace', False)\n",
        "    else:\n",
        "      reluToInplaceFalse(child)"
      ]
    },
    {
      "cell_type": "code",
      "execution_count": 8,
      "metadata": {
        "id": "VHTLP0NoRnLm"
      },
      "outputs": [],
      "source": [
        "from torchvision.transforms.transforms import RandomRotation\n",
        "\n",
        "class Classifier(torch.nn.Module):\n",
        "\n",
        "  def __init__(self, backbone='resnet', multi_backbone = False, device =\"cuda:0\",dropout_rate = 0.2, do_augmentation = False):\n",
        "    super().__init__()\n",
        "    self.multi_backbone = multi_backbone\n",
        "\n",
        "    if backbone == \"vgg19\":\n",
        "      backbone = torchvision.models.vgg19(pretrained=True)\n",
        "      self.out_channels = 25088\n",
        "      \n",
        "    elif backbone == \"resnet18\":\n",
        "      backbone = torchvision.models.resnet18(pretrained=True)\n",
        "      self.out_channels = 512\n",
        "\n",
        "    elif backbone == \"resnet50\":\n",
        "      backbone = torchvision.models.resnet50(pretrained=True)\n",
        "      self.out_channels = 2048\n",
        "\n",
        "    elif backbone == \"Efficientnet b1\":\n",
        "      backbone = torchvision.models.efficientnet_b1(pretrained=True)\n",
        "      self.out_channels = 1280\n",
        "\n",
        "    elif backbone == \"Efficientnet b3\":\n",
        "      backbone = torchvision.models.efficientnet_b3(pretrained=True)\n",
        "      self.out_channels = 1536\n",
        "\n",
        "    elif backbone == \"Efficientnet b5\":\n",
        "      backbone = torchvision.models.efficientnet_b5(pretrained=True)\n",
        "      self.out_channels = 2048\n",
        "\n",
        "    elif backbone == \"Efficientnet b7\":\n",
        "      backbone = torchvision.models.efficientnet_b7(pretrained=True)\n",
        "      self.out_channels = 2560\n",
        "      \n",
        "    # Disabling inplace ReLu becasuse GradCam doesn't work it enabled\n",
        "    reluToInplaceFalse(backbone)\n",
        "     \n",
        "    modules = list(backbone.children())[:-1]\n",
        "    self.do_augmentation = do_augmentation\n",
        "\n",
        "    if self.do_augmentation:\n",
        "      self.augmentation = nn.Sequential(transforms.RandomHorizontalFlip(),\n",
        "                                        transforms.RandomVerticalFlip(),\n",
        "                                        transforms.RandomPerspective(0.2),\n",
        "                                        RandomRotation(20),\n",
        "                                        transforms.RandomAutocontrast())\n",
        "\n",
        "    if self.multi_backbone:\n",
        "      self.backbone1 = nn.Sequential(*copy.deepcopy(modules)).to(device)\n",
        "      self.backbone2 = nn.Sequential(*copy.deepcopy(modules)).to(device)\n",
        "      self.backbone3 = nn.Sequential(*copy.deepcopy(modules)).to(device)\n",
        "      self.backbone4 = nn.Sequential(*copy.deepcopy(modules)).to(device)\n",
        "    else:\n",
        "      self.backbone =  nn.Sequential(*modules).to(device)\n",
        "\n",
        "\n",
        "     \n",
        "\n",
        "    self.fc1 = nn.Sequential(nn.Dropout(dropout_rate),\n",
        "                              nn.Linear(self.out_channels, 128),\n",
        "                              nn.ReLU(),\n",
        "                              nn.Dropout(dropout_rate)) #TODO: Experiment with BN and Dropout\n",
        "\n",
        "    self.fc = nn.Sequential(nn.Linear(512, 3))                  #TODO: L2 Regularization\n",
        "     \n",
        "  def forward(self, x, is_training = True):\n",
        "    if self.do_augmentation and is_training:\n",
        "      imgs = [self.augmentation(x[:,i]) for i in range(4)] #list of 4 images\n",
        "    else:\n",
        "      imgs = [x[:,i] for i in range(4)] #list of 4 images\n",
        "\n",
        "    if self.multi_backbone:\n",
        "      encodings = [self.fc1(torch.flatten(self.backbone1(imgs[0]),1)),\n",
        "                   self.fc1(torch.flatten(self.backbone2(imgs[1]),1)),\n",
        "                   self.fc1(torch.flatten(self.backbone3(imgs[2]),1)),\n",
        "                   self.fc1(torch.flatten(self.backbone4(imgs[3]),1))]\n",
        "    else:\n",
        "      encodings = [self.fc1(self.backbone(img).squeeze()) for img in imgs]\n",
        "\n",
        "    return self.fc(torch.cat(encodings,1))\n"
      ]
    },
    {
      "cell_type": "code",
      "execution_count": 9,
      "metadata": {
        "id": "vfYTWTfpHT9E"
      },
      "outputs": [],
      "source": [
        "def freeze_layers(model,layers = 5):\n",
        "  if model.multi_backbone:\n",
        "    for i,param in enumerate(model.backbone1.parameters()):\n",
        "      if i < layers:\n",
        "        param.requires_grad = False\n",
        "\n",
        "    for i,param in enumerate(model.backbone2.parameters()):\n",
        "      if i < layers:\n",
        "        param.requires_grad = False\n",
        "\n",
        "    for i,param in enumerate(model.backbone3.parameters()):\n",
        "      if i < layers:\n",
        "        param.requires_grad = False\n",
        "\n",
        "    for i,param in enumerate(model.backbone4.parameters()):\n",
        "      if i < layers:\n",
        "        param.requires_grad = False\n",
        "  else:\n",
        "     for i,param in enumerate(model.backbone.parameters()):\n",
        "      if i < layers:\n",
        "        param.requires_grad = False\n",
        "\n"
      ]
    },
    {
      "cell_type": "code",
      "execution_count": 10,
      "metadata": {
        "id": "H6wrm2SBPmc9"
      },
      "outputs": [],
      "source": [
        "from torch.utils.tensorboard import SummaryWriter\n",
        "from tqdm import tqdm\n",
        "\n",
        "def train_model(model, train_dl, test_dl, optimizer, evaluation_steps = 20, epochs =1, savefile='model.pt'):\n",
        "  writer = SummaryWriter()\n",
        "\n",
        "  EPOCHS = epochs\n",
        "  DATA_SIZE =  {\"train\":len(train_dl.dataset),\"eval\":len(test_dl.dataset)}\n",
        "\n",
        "  best_eval_acc = 0\n",
        "  best_eval_acc_step = 0\n",
        "  \n",
        "  best_eval_loss = float('inf')\n",
        "  best_eval_loss_step = 0\n",
        "\n",
        "  final_eval_loss = 0\n",
        "  final_eval_acc = 0\n",
        "\n",
        "  final_train_loss = 0\n",
        "  final_train_acc = 0\n",
        "\n",
        "\n",
        "  exp_lr_scheduler = lr_scheduler.StepLR(optimizer, step_size=7, gamma=0.1)\n",
        "  criterion = nn.BCEWithLogitsLoss()\n",
        "\n",
        "  step =0\n",
        "  model.train()\n",
        "  for epoch in range(EPOCHS):\n",
        "        running_loss = 0.0\n",
        "        running_corrects = 0\n",
        "\n",
        "        # Iterate over data.\n",
        "        for inputs, labels in train_dl:\n",
        "          model.train()\n",
        "          optimizer.zero_grad()\n",
        "          step += 1\n",
        "          inputs = inputs.to(device)\n",
        "          labels = labels.to(device)\n",
        "          outputs = model(inputs)\n",
        "\n",
        "          _, preds = torch.max(outputs, 1)\n",
        "          loss = criterion(outputs, labels.squeeze(1).float())\n",
        "          loss.backward()\n",
        "          optimizer.step()\n",
        "\n",
        "          # statistics\n",
        "          running_loss += loss.item() * inputs.size(0)\n",
        "          running_corrects += torch.sum(preds == torch.argmax(labels,2).squeeze().data)\n",
        "          # if phase == 'train':\n",
        "          #     scheduler.step()\n",
        "          if step % evaluation_steps == 0:\n",
        "            test_running_loss = 0.0\n",
        "            test_running_corrects = 0\n",
        "            model.eval()\n",
        "            with torch.no_grad():\n",
        "              for inputs, labels in test_dl:\n",
        "                inputs = inputs.to(device)\n",
        "                labels = labels.to(device)\n",
        "                outputs = model(inputs,is_training=False)\n",
        "                loss = criterion(outputs, labels.squeeze(1).float())\n",
        "                _, preds = torch.max(outputs, 1)\n",
        "\n",
        "\n",
        "                test_running_loss += loss.item() * inputs.size(0)\n",
        "                test_running_corrects += torch.sum(preds == torch.argmax(labels,2).squeeze().data)\n",
        "\n",
        "            eval_loss = test_running_loss / DATA_SIZE[\"eval\"]\n",
        "            eval_acc = test_running_corrects.double() / DATA_SIZE[\"eval\"]\n",
        "\n",
        "            writer.add_scalar('Loss/'+\"eval\", eval_loss, step)\n",
        "            writer.add_scalar('Accuracy/'+\"eval\", eval_acc, step)\n",
        "\n",
        "            final_eval_loss = eval_loss\n",
        "            final_eval_acc = eval_acc\n",
        "\n",
        "            if eval_loss < best_eval_loss:\n",
        "              best_eval_loss = eval_loss\n",
        "              best_eval_loss_step = step\n",
        "              torch.save(model, savefile)\n",
        "\n",
        "            if eval_acc > best_eval_acc:\n",
        "              best_eval_acc = eval_acc\n",
        "              best_eval_acc_step = step\n",
        "\n",
        "            # print('{} Loss: {:.4f} Acc: {:.4f}'.format(\n",
        "            # \"Eval\", eval_loss, eval_acc))\n",
        "\n",
        "\n",
        "\n",
        "        epoch_loss = running_loss / DATA_SIZE[\"train\"]\n",
        "        epoch_acc = running_corrects.double() / DATA_SIZE[\"train\"]\n",
        "\n",
        "\n",
        "        final_train_loss = epoch_loss\n",
        "        final_train_acc = epoch_acc\n",
        "\n",
        "        # print('Epoch {}/{} '.format(epoch+1, EPOCHS ),'{} Loss: {:.4f} Acc: {:.4f}'.format(\n",
        "        #       \"Train\", epoch_loss, epoch_acc))\n",
        "          \n",
        "        writer.add_scalar('Loss/'+\"Train\", epoch_loss, step)\n",
        "        writer.add_scalar('Accuracy/'+\"Train\", epoch_acc, step)\n",
        "\n",
        "  # print('Best val Acc: {:4f}\\n\\n'.format(best_eval_acc))\n",
        "\n",
        "  return {  \"Best Eval Acc\": best_eval_acc.cpu().item(),\n",
        "            \"Best Eval Loss\": best_eval_loss,\n",
        "            \"Best Eval Step\": best_eval_loss_step,\n",
        "            \"Final Train Acc\": final_train_acc.cpu().item(),\n",
        "            \"Final Eval Acc\": final_eval_acc.cpu().item(),\n",
        "            \"Final Train Loss\": final_train_loss,\n",
        "            \"Final Eval Loss\": final_eval_loss,\n",
        "        }\n",
        "# load best model weights\n",
        "# model.load_state_dict(best_model_wts)\n"
      ]
    },
    {
      "cell_type": "code",
      "execution_count": null,
      "metadata": {
        "colab": {
          "base_uri": "https://localhost:8080/",
          "height": 1000,
          "referenced_widgets": [
            "86de9c116eff4a168a16e22dce464605",
            "fb24e23d12b74328a4daa17c3c4efa86",
            "804bcd615e714b15842821f9fd094bf1",
            "bb0ea55cd85741f690a2134d1c86f6d7",
            "bfed81409515492291064175a989a480",
            "6bf2defe3d4a48519bad5cc1f08e4cfd",
            "d89fc1b9997247028be0224da4008808",
            "63bb28b5f4524ebebe91e70c77caeb3f",
            "0e0054f459e0463785be1eb671c9dddc",
            "51c8aecceddd42748e8f5c7e91d1d8b4",
            "e3257cb24bc54dcab908227aa35c478c"
          ]
        },
        "id": "D7OdEIJLkzu8",
        "outputId": "43fc36d2-bbc1-4e83-b60b-9deba7a6fdf1"
      },
      "outputs": [
        {
          "output_type": "stream",
          "name": "stdout",
          "text": [
            "Weight Decay 0 \n",
            "Freeze       10 \n",
            "Dropout Rate 0 \n",
            "------------------------------------------------------\n"
          ]
        },
        {
          "output_type": "stream",
          "name": "stderr",
          "text": [
            "Downloading: \"https://download.pytorch.org/models/resnet18-f37072fd.pth\" to /root/.cache/torch/hub/checkpoints/resnet18-f37072fd.pth\n"
          ]
        },
        {
          "output_type": "display_data",
          "data": {
            "text/plain": [
              "  0%|          | 0.00/44.7M [00:00<?, ?B/s]"
            ],
            "application/vnd.jupyter.widget-view+json": {
              "version_major": 2,
              "version_minor": 0,
              "model_id": "86de9c116eff4a168a16e22dce464605"
            }
          },
          "metadata": {}
        },
        {
          "output_type": "stream",
          "name": "stdout",
          "text": [
            "Weight Decay 0 \n",
            "Freeze       10 \n",
            "Dropout Rate 0.1 \n",
            "------------------------------------------------------\n",
            "Weight Decay 0 \n",
            "Freeze       10 \n",
            "Dropout Rate 0.2 \n",
            "------------------------------------------------------\n",
            "Weight Decay 0 \n",
            "Freeze       10 \n",
            "Dropout Rate 0.5 \n",
            "------------------------------------------------------\n",
            "Weight Decay 0 \n",
            "Freeze       25 \n",
            "Dropout Rate 0 \n",
            "------------------------------------------------------\n",
            "Weight Decay 0 \n",
            "Freeze       25 \n",
            "Dropout Rate 0.1 \n",
            "------------------------------------------------------\n",
            "Weight Decay 0 \n",
            "Freeze       25 \n",
            "Dropout Rate 0.2 \n",
            "------------------------------------------------------\n",
            "Weight Decay 0 \n",
            "Freeze       25 \n",
            "Dropout Rate 0.5 \n",
            "------------------------------------------------------\n",
            "Weight Decay 0 \n",
            "Freeze       40 \n",
            "Dropout Rate 0 \n",
            "------------------------------------------------------\n",
            "Weight Decay 0 \n",
            "Freeze       40 \n",
            "Dropout Rate 0.1 \n",
            "------------------------------------------------------\n",
            "Weight Decay 0 \n",
            "Freeze       40 \n",
            "Dropout Rate 0.2 \n",
            "------------------------------------------------------\n",
            "Weight Decay 0 \n",
            "Freeze       40 \n",
            "Dropout Rate 0.5 \n",
            "------------------------------------------------------\n",
            "Weight Decay 0 \n",
            "Freeze       50 \n",
            "Dropout Rate 0 \n",
            "------------------------------------------------------\n",
            "Weight Decay 0 \n",
            "Freeze       50 \n",
            "Dropout Rate 0.1 \n",
            "------------------------------------------------------\n",
            "Weight Decay 0 \n",
            "Freeze       50 \n",
            "Dropout Rate 0.2 \n",
            "------------------------------------------------------\n",
            "Weight Decay 0 \n",
            "Freeze       50 \n",
            "Dropout Rate 0.5 \n",
            "------------------------------------------------------\n",
            "Weight Decay 0 \n",
            "Freeze       55 \n",
            "Dropout Rate 0 \n",
            "------------------------------------------------------\n",
            "Weight Decay 0 \n",
            "Freeze       55 \n",
            "Dropout Rate 0.1 \n",
            "------------------------------------------------------\n"
          ]
        }
      ],
      "source": [
        "\n",
        "Sweep_Summary = {\n",
        "    \"Backbone\" : [],\n",
        "    \"Multi Backbone\": [],\n",
        "    \"Optim\" : [],\n",
        "    \"LR\" : [],\n",
        "    \"Scheduler\" : [],\n",
        "    \"Epochs\" : [],\n",
        "    \"Batch Size\" : [],\n",
        "    \"Dropout\": [],\n",
        "    \"Augmentation\": [],\n",
        "    \"Weight Decay\": [],\n",
        "    \"Freeze Layers\": [],\n",
        "    \"Best Eval Loss\": [],\n",
        "    \"Best Eval Step\": [],\n",
        "    \"Best Eval Acc\": [],\n",
        "    \"Final Train Acc\": [],\n",
        "    \"Final Eval Acc\": [],\n",
        "    \"Final Train Loss\": [],\n",
        "    \"Final Eval Loss\": [],\n",
        "\n",
        "}\n",
        "\n",
        "\n",
        "for weight_decay in WEIGHT_DECAY:\n",
        "  for freeze in FREEZE:\n",
        "    for dropout_rate in DROPOUT:\n",
        "      print(\"Weight Decay {} \".format(weight_decay))\n",
        "      print(\"Freeze       {} \".format(freeze))\n",
        "      print(\"Dropout Rate {} \\n------------------------------------------------------\".format(dropout_rate))\n",
        "      model = Classifier(dropout_rate=dropout_rate,backbone=BACKBONE,multi_backbone=MULTI_BACKBONE).to(device)\n",
        "      freeze_layers(model,freeze)\n",
        "      optimizer = torch.optim.Adam(model.parameters(), lr=LR, weight_decay=weight_decay)\n",
        "      summary = train_model(model,train_dl,test_dl,optimizer,epochs=EPOCHS,savefile='model{}{}{}.pt'.format(weight_decay,freeze,dropout_rate))\n",
        "\n",
        "      Sweep_Summary[\"Backbone\"].append(BACKBONE)\n",
        "      Sweep_Summary[\"Optim\"].append(OPTIM)\n",
        "      Sweep_Summary[\"LR\"].append(LR)\n",
        "      Sweep_Summary[\"Scheduler\"].append(SCHEDULER)      \n",
        "      Sweep_Summary[\"Epochs\"].append(EPOCHS)\n",
        "      Sweep_Summary[\"Batch Size\"].append(BATCHSIZE)\n",
        "      Sweep_Summary[\"Dropout\"].append(dropout_rate)\n",
        "      Sweep_Summary[\"Augmentation\"].append(AUGMENTATION)\n",
        "      Sweep_Summary[\"Weight Decay\"].append(weight_decay)\n",
        "      Sweep_Summary[\"Freeze Layers\"].append(freeze)\n",
        "      Sweep_Summary[\"Multi Backbone\"].append(MULTI_BACKBONE)\n",
        "      for key,value in summary.items():\n",
        "        Sweep_Summary[key].append(value)"
      ]
    },
    {
      "cell_type": "code",
      "execution_count": null,
      "metadata": {
        "id": "brB-bKaP08Hb"
      },
      "outputs": [],
      "source": [
        "df = pd.DataFrame(Sweep_Summary)\n",
        "df.to_csv(\"Fish_Classifier_Sweep_Results_resnet18_singleabckbone.csv\")\n",
        "!cp \"/content/Fish_Classifier_Sweep_Results_resnet18_singleabckbone.csv\"/content/drive/MyDrive\"\n",
        "df"
      ]
    },
    {
      "cell_type": "code",
      "execution_count": null,
      "metadata": {
        "id": "u3RdeuEJ8Wnm"
      },
      "outputs": [],
      "source": [
        "# Test model loading\n",
        "saved_model = torch.load('model.pt')\n",
        "saved_model.eval()\n",
        "test_running_loss = 0.0\n",
        "all_preds = []\n",
        "all_labels = []\n",
        "criterion = nn.BCEWithLogitsLoss()\n",
        "dl = test_dl\n",
        "with torch.no_grad():\n",
        "  for inputs, labels in dl:\n",
        "    inputs = inputs.to(device)\n",
        "    labels = labels.to(device)\n",
        "    outputs = saved_model(inputs,is_training=False)\n",
        "    loss = criterion(outputs, labels.squeeze(1).float())\n",
        "    _, preds = torch.max(outputs, 1)\n",
        "    all_preds.extend(preds.cpu().tolist())\n",
        "    all_labels.extend([label[0] for label in labels.cpu().tolist()])\n",
        "\n",
        "\n",
        "    test_running_loss += loss.item() * inputs.size(0)\n",
        "\n",
        "all_preds = np.array(all_preds)\n",
        "all_labels = np.argmax(all_labels, axis = 1)\n",
        "\n",
        "eval_loss = test_running_loss / len(dl.dataset)\n",
        "eval_acc = accuracy_score(all_labels, all_preds)\n",
        "print('{} Loss: {:.4f} Acc: {:.4f}'.format(\"Eval\", eval_loss, eval_acc))\n",
        "print(f'Pred: {all_preds}')\n",
        "print(f'True: {all_labels}')\n",
        "print('Confusion Matrix:')\n",
        "print(confusion_matrix(all_labels, all_preds))"
      ]
    },
    {
      "cell_type": "code",
      "execution_count": null,
      "metadata": {
        "id": "SnSMTbvaKRI7"
      },
      "outputs": [],
      "source": [
        "from torchsummary import summary\n",
        "torch.cuda.empty_cache()\n",
        "model = Classifier(dropout_rate=dropout_rate,backbone=BACKBONE,multi_backbone=True).to(device)\n",
        "summary(model, (4, 3, 200, 1000))"
      ]
    },
    {
      "cell_type": "code",
      "execution_count": null,
      "metadata": {
        "id": "0IrsQCH-JReo"
      },
      "outputs": [],
      "source": [
        "i =0\n",
        "for _ in model.backbone1.parameters():\n",
        "  i += 1\n",
        "i"
      ]
    },
    {
      "cell_type": "code",
      "execution_count": null,
      "metadata": {
        "id": "bAJonRIL9D5P"
      },
      "outputs": [],
      "source": [
        "df"
      ]
    },
    {
      "cell_type": "code",
      "execution_count": null,
      "metadata": {
        "id": "F9h06xt2pFDw"
      },
      "outputs": [],
      "source": [
        "!pip install wandb\n",
        "!wandb log. in\n",
        "#6533b3e866937401e2fae54e38119aba0c36d8e4"
      ]
    },
    {
      "cell_type": "code",
      "execution_count": null,
      "metadata": {
        "id": "WsFblgnUKAGx"
      },
      "outputs": [],
      "source": [
        "!tensorboard dev upload --logdir runs"
      ]
    },
    {
      "cell_type": "code",
      "execution_count": null,
      "metadata": {
        "id": "WeISDPwmagUp"
      },
      "outputs": [],
      "source": [
        "%load_ext tensorboard\n",
        "%tensorboard --logdir logs"
      ]
    },
    {
      "cell_type": "code",
      "execution_count": null,
      "metadata": {
        "id": "5H-iEmbIXpab"
      },
      "outputs": [],
      "source": [
        "!wget https://bin.equinox.io/c/4VmDzA7iaHb/ngrok-stable-linux-amd64.zip\n",
        "!unzip ngrok-stable-linux-amd64.zip"
      ]
    },
    {
      "cell_type": "code",
      "execution_count": null,
      "metadata": {
        "id": "1GKygdE0HuRK"
      },
      "outputs": [],
      "source": [
        "LOG_DIR = './runs'\n",
        "get_ipython().system_raw(\n",
        "    'tensorboard --logdir {} --host 0.0.0.0 --port 6006 &'\n",
        "    .format(LOG_DIR)\n",
        ")"
      ]
    },
    {
      "cell_type": "code",
      "execution_count": null,
      "metadata": {
        "id": "-ECTxoLwIFRi"
      },
      "outputs": [],
      "source": [
        "get_ipython().system_raw('./ngrok http 6006 &')"
      ]
    },
    {
      "cell_type": "code",
      "execution_count": null,
      "metadata": {
        "id": "dSZq5cwNIGVh"
      },
      "outputs": [],
      "source": [
        "! curl -s http://localhost:4040/api/tunnels | python3 -c \\\n",
        "    \"import sys, json; print(json.load(sys.stdin)['tunnels'][0]['public_url'])\""
      ]
    },
    {
      "cell_type": "code",
      "execution_count": null,
      "metadata": {
        "id": "cGW3vA_jIXme"
      },
      "outputs": [],
      "source": [
        "!./ngrok authtoken 24nct5MrkkabWHKHo1qlKir5TJo_6TYt5jNTyni2WRqKegBYy"
      ]
    },
    {
      "cell_type": "code",
      "execution_count": null,
      "metadata": {
        "id": "8jP4eAUDIkzj"
      },
      "outputs": [],
      "source": [
        ""
      ]
    }
  ],
  "metadata": {
    "accelerator": "GPU",
    "colab": {
      "collapsed_sections": [],
      "machine_shape": "hm",
      "name": "pytorch_fish_classifier.ipynb",
      "provenance": []
    },
    "kernelspec": {
      "display_name": "Python 3 (ipykernel)",
      "language": "python",
      "name": "python3"
    },
    "language_info": {
      "codemirror_mode": {
        "name": "ipython",
        "version": 3
      },
      "file_extension": ".py",
      "mimetype": "text/x-python",
      "name": "python",
      "nbconvert_exporter": "python",
      "pygments_lexer": "ipython3",
      "version": "3.9.7"
    },
    "widgets": {
      "application/vnd.jupyter.widget-state+json": {
        "86de9c116eff4a168a16e22dce464605": {
          "model_module": "@jupyter-widgets/controls",
          "model_name": "HBoxModel",
          "model_module_version": "1.5.0",
          "state": {
            "_dom_classes": [],
            "_model_module": "@jupyter-widgets/controls",
            "_model_module_version": "1.5.0",
            "_model_name": "HBoxModel",
            "_view_count": null,
            "_view_module": "@jupyter-widgets/controls",
            "_view_module_version": "1.5.0",
            "_view_name": "HBoxView",
            "box_style": "",
            "children": [
              "IPY_MODEL_fb24e23d12b74328a4daa17c3c4efa86",
              "IPY_MODEL_804bcd615e714b15842821f9fd094bf1",
              "IPY_MODEL_bb0ea55cd85741f690a2134d1c86f6d7"
            ],
            "layout": "IPY_MODEL_bfed81409515492291064175a989a480"
          }
        },
        "fb24e23d12b74328a4daa17c3c4efa86": {
          "model_module": "@jupyter-widgets/controls",
          "model_name": "HTMLModel",
          "model_module_version": "1.5.0",
          "state": {
            "_dom_classes": [],
            "_model_module": "@jupyter-widgets/controls",
            "_model_module_version": "1.5.0",
            "_model_name": "HTMLModel",
            "_view_count": null,
            "_view_module": "@jupyter-widgets/controls",
            "_view_module_version": "1.5.0",
            "_view_name": "HTMLView",
            "description": "",
            "description_tooltip": null,
            "layout": "IPY_MODEL_6bf2defe3d4a48519bad5cc1f08e4cfd",
            "placeholder": "​",
            "style": "IPY_MODEL_d89fc1b9997247028be0224da4008808",
            "value": "100%"
          }
        },
        "804bcd615e714b15842821f9fd094bf1": {
          "model_module": "@jupyter-widgets/controls",
          "model_name": "FloatProgressModel",
          "model_module_version": "1.5.0",
          "state": {
            "_dom_classes": [],
            "_model_module": "@jupyter-widgets/controls",
            "_model_module_version": "1.5.0",
            "_model_name": "FloatProgressModel",
            "_view_count": null,
            "_view_module": "@jupyter-widgets/controls",
            "_view_module_version": "1.5.0",
            "_view_name": "ProgressView",
            "bar_style": "success",
            "description": "",
            "description_tooltip": null,
            "layout": "IPY_MODEL_63bb28b5f4524ebebe91e70c77caeb3f",
            "max": 46830571,
            "min": 0,
            "orientation": "horizontal",
            "style": "IPY_MODEL_0e0054f459e0463785be1eb671c9dddc",
            "value": 46830571
          }
        },
        "bb0ea55cd85741f690a2134d1c86f6d7": {
          "model_module": "@jupyter-widgets/controls",
          "model_name": "HTMLModel",
          "model_module_version": "1.5.0",
          "state": {
            "_dom_classes": [],
            "_model_module": "@jupyter-widgets/controls",
            "_model_module_version": "1.5.0",
            "_model_name": "HTMLModel",
            "_view_count": null,
            "_view_module": "@jupyter-widgets/controls",
            "_view_module_version": "1.5.0",
            "_view_name": "HTMLView",
            "description": "",
            "description_tooltip": null,
            "layout": "IPY_MODEL_51c8aecceddd42748e8f5c7e91d1d8b4",
            "placeholder": "​",
            "style": "IPY_MODEL_e3257cb24bc54dcab908227aa35c478c",
            "value": " 44.7M/44.7M [00:00&lt;00:00, 119MB/s]"
          }
        },
        "bfed81409515492291064175a989a480": {
          "model_module": "@jupyter-widgets/base",
          "model_name": "LayoutModel",
          "model_module_version": "1.2.0",
          "state": {
            "_model_module": "@jupyter-widgets/base",
            "_model_module_version": "1.2.0",
            "_model_name": "LayoutModel",
            "_view_count": null,
            "_view_module": "@jupyter-widgets/base",
            "_view_module_version": "1.2.0",
            "_view_name": "LayoutView",
            "align_content": null,
            "align_items": null,
            "align_self": null,
            "border": null,
            "bottom": null,
            "display": null,
            "flex": null,
            "flex_flow": null,
            "grid_area": null,
            "grid_auto_columns": null,
            "grid_auto_flow": null,
            "grid_auto_rows": null,
            "grid_column": null,
            "grid_gap": null,
            "grid_row": null,
            "grid_template_areas": null,
            "grid_template_columns": null,
            "grid_template_rows": null,
            "height": null,
            "justify_content": null,
            "justify_items": null,
            "left": null,
            "margin": null,
            "max_height": null,
            "max_width": null,
            "min_height": null,
            "min_width": null,
            "object_fit": null,
            "object_position": null,
            "order": null,
            "overflow": null,
            "overflow_x": null,
            "overflow_y": null,
            "padding": null,
            "right": null,
            "top": null,
            "visibility": null,
            "width": null
          }
        },
        "6bf2defe3d4a48519bad5cc1f08e4cfd": {
          "model_module": "@jupyter-widgets/base",
          "model_name": "LayoutModel",
          "model_module_version": "1.2.0",
          "state": {
            "_model_module": "@jupyter-widgets/base",
            "_model_module_version": "1.2.0",
            "_model_name": "LayoutModel",
            "_view_count": null,
            "_view_module": "@jupyter-widgets/base",
            "_view_module_version": "1.2.0",
            "_view_name": "LayoutView",
            "align_content": null,
            "align_items": null,
            "align_self": null,
            "border": null,
            "bottom": null,
            "display": null,
            "flex": null,
            "flex_flow": null,
            "grid_area": null,
            "grid_auto_columns": null,
            "grid_auto_flow": null,
            "grid_auto_rows": null,
            "grid_column": null,
            "grid_gap": null,
            "grid_row": null,
            "grid_template_areas": null,
            "grid_template_columns": null,
            "grid_template_rows": null,
            "height": null,
            "justify_content": null,
            "justify_items": null,
            "left": null,
            "margin": null,
            "max_height": null,
            "max_width": null,
            "min_height": null,
            "min_width": null,
            "object_fit": null,
            "object_position": null,
            "order": null,
            "overflow": null,
            "overflow_x": null,
            "overflow_y": null,
            "padding": null,
            "right": null,
            "top": null,
            "visibility": null,
            "width": null
          }
        },
        "d89fc1b9997247028be0224da4008808": {
          "model_module": "@jupyter-widgets/controls",
          "model_name": "DescriptionStyleModel",
          "model_module_version": "1.5.0",
          "state": {
            "_model_module": "@jupyter-widgets/controls",
            "_model_module_version": "1.5.0",
            "_model_name": "DescriptionStyleModel",
            "_view_count": null,
            "_view_module": "@jupyter-widgets/base",
            "_view_module_version": "1.2.0",
            "_view_name": "StyleView",
            "description_width": ""
          }
        },
        "63bb28b5f4524ebebe91e70c77caeb3f": {
          "model_module": "@jupyter-widgets/base",
          "model_name": "LayoutModel",
          "model_module_version": "1.2.0",
          "state": {
            "_model_module": "@jupyter-widgets/base",
            "_model_module_version": "1.2.0",
            "_model_name": "LayoutModel",
            "_view_count": null,
            "_view_module": "@jupyter-widgets/base",
            "_view_module_version": "1.2.0",
            "_view_name": "LayoutView",
            "align_content": null,
            "align_items": null,
            "align_self": null,
            "border": null,
            "bottom": null,
            "display": null,
            "flex": null,
            "flex_flow": null,
            "grid_area": null,
            "grid_auto_columns": null,
            "grid_auto_flow": null,
            "grid_auto_rows": null,
            "grid_column": null,
            "grid_gap": null,
            "grid_row": null,
            "grid_template_areas": null,
            "grid_template_columns": null,
            "grid_template_rows": null,
            "height": null,
            "justify_content": null,
            "justify_items": null,
            "left": null,
            "margin": null,
            "max_height": null,
            "max_width": null,
            "min_height": null,
            "min_width": null,
            "object_fit": null,
            "object_position": null,
            "order": null,
            "overflow": null,
            "overflow_x": null,
            "overflow_y": null,
            "padding": null,
            "right": null,
            "top": null,
            "visibility": null,
            "width": null
          }
        },
        "0e0054f459e0463785be1eb671c9dddc": {
          "model_module": "@jupyter-widgets/controls",
          "model_name": "ProgressStyleModel",
          "model_module_version": "1.5.0",
          "state": {
            "_model_module": "@jupyter-widgets/controls",
            "_model_module_version": "1.5.0",
            "_model_name": "ProgressStyleModel",
            "_view_count": null,
            "_view_module": "@jupyter-widgets/base",
            "_view_module_version": "1.2.0",
            "_view_name": "StyleView",
            "bar_color": null,
            "description_width": ""
          }
        },
        "51c8aecceddd42748e8f5c7e91d1d8b4": {
          "model_module": "@jupyter-widgets/base",
          "model_name": "LayoutModel",
          "model_module_version": "1.2.0",
          "state": {
            "_model_module": "@jupyter-widgets/base",
            "_model_module_version": "1.2.0",
            "_model_name": "LayoutModel",
            "_view_count": null,
            "_view_module": "@jupyter-widgets/base",
            "_view_module_version": "1.2.0",
            "_view_name": "LayoutView",
            "align_content": null,
            "align_items": null,
            "align_self": null,
            "border": null,
            "bottom": null,
            "display": null,
            "flex": null,
            "flex_flow": null,
            "grid_area": null,
            "grid_auto_columns": null,
            "grid_auto_flow": null,
            "grid_auto_rows": null,
            "grid_column": null,
            "grid_gap": null,
            "grid_row": null,
            "grid_template_areas": null,
            "grid_template_columns": null,
            "grid_template_rows": null,
            "height": null,
            "justify_content": null,
            "justify_items": null,
            "left": null,
            "margin": null,
            "max_height": null,
            "max_width": null,
            "min_height": null,
            "min_width": null,
            "object_fit": null,
            "object_position": null,
            "order": null,
            "overflow": null,
            "overflow_x": null,
            "overflow_y": null,
            "padding": null,
            "right": null,
            "top": null,
            "visibility": null,
            "width": null
          }
        },
        "e3257cb24bc54dcab908227aa35c478c": {
          "model_module": "@jupyter-widgets/controls",
          "model_name": "DescriptionStyleModel",
          "model_module_version": "1.5.0",
          "state": {
            "_model_module": "@jupyter-widgets/controls",
            "_model_module_version": "1.5.0",
            "_model_name": "DescriptionStyleModel",
            "_view_count": null,
            "_view_module": "@jupyter-widgets/base",
            "_view_module_version": "1.2.0",
            "_view_name": "StyleView",
            "description_width": ""
          }
        }
      }
    }
  },
  "nbformat": 4,
  "nbformat_minor": 0
}